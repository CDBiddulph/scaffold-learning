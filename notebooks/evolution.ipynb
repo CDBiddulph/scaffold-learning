{
 "cells": [
  {
   "cell_type": "markdown",
   "metadata": {},
   "source": [
    "# Scaffold Evolution Analysis\n",
    "\n",
    "This notebook analyzes the effectiveness of scaffold evolution in improving crossword solving performance.\n",
    "We examine how \"evolutions\" (variations) of scaffolds resulted in higher scores over multiple generations."
   ]
  },
  {
   "cell_type": "code",
   "execution_count": 88,
   "metadata": {},
   "outputs": [],
   "source": [
    "import json\n",
    "import pandas as pd\n",
    "import numpy as np\n",
    "import matplotlib.pyplot as plt\n",
    "import seaborn as sns\n",
    "import networkx as nx\n",
    "from matplotlib.colors import LinearSegmentedColormap\n",
    "import plotly.express as px\n",
    "import plotly.graph_objects as go\n",
    "from plotly.subplots import make_subplots\n",
    "import warnings\n",
    "warnings.filterwarnings('ignore')\n",
    "\n",
    "# Set up plotting style\n",
    "plt.style.use('default')\n",
    "sns.set_palette('husl')\n",
    "plt.rcParams['figure.figsize'] = (12, 8)\n",
    "plt.rcParams['font.size'] = 10"
   ]
  },
  {
   "cell_type": "code",
   "execution_count": 89,
   "metadata": {},
   "outputs": [
    {
     "name": "stdout",
     "output_type": "stream",
     "text": [
      "Loaded data for 110 scaffolds\n",
      "Sample scaffolds: ['5-1-2-0', '1-6', '5-1-1', '5-1-2-1', '5-1-1-0', '5-1-2', '5-1-1-4', '5-1-2-0-0-0', '5-1-2-0-0', '5-1-2-1-1']\n"
     ]
    }
   ],
   "source": [
    "# Load the data\n",
    "SCORES_FILE = '../experiments/keep_crosswords_20250711_195402/scoring/all_valid_scores.json'\n",
    "with open(SCORES_FILE, 'r') as f:\n",
    "    data = json.load(f)\n",
    "\n",
    "print(f\"Loaded data for {len(data)} scaffolds\")\n",
    "print(f\"Sample scaffolds: {list(data.keys())[:10]}\")"
   ]
  },
  {
   "cell_type": "code",
   "execution_count": 90,
   "metadata": {},
   "outputs": [
    {
     "name": "stdout",
     "output_type": "stream",
     "text": [
      "Processed 110 scaffolds\n",
      "Generation depths: [np.int64(0), np.int64(1), np.int64(2), np.int64(3), np.int64(4), np.int64(5), np.int64(6)]\n",
      "Root scaffolds: [0, 1, 2, 3, 4, 5, 6, 7, 8, 9, 10, 11, 12, 13, 14, 15, 16, 17, 18, 19]\n"
     ]
    }
   ],
   "source": [
    "# Data processing functions\n",
    "def parse_scaffold_id(scaffold_id):\n",
    "    \"\"\"Parse scaffold ID to extract generation depth and lineage info\"\"\"\n",
    "    parts = scaffold_id.split('-')\n",
    "    root = parts[0]\n",
    "    generation = len(parts) - 1\n",
    "    return root, generation\n",
    "\n",
    "def get_parent_id(scaffold_id):\n",
    "    \"\"\"Get parent scaffold ID\"\"\"\n",
    "    parts = scaffold_id.split('-')\n",
    "    if len(parts) == 1:\n",
    "        return None  # No parent for initial scaffolds\n",
    "    return '-'.join(parts[:-1])\n",
    "\n",
    "def get_all_ancestors(scaffold_id):\n",
    "    \"\"\"Get all ancestor scaffold IDs in order from root to immediate parent\"\"\"\n",
    "    parts = scaffold_id.split('-')\n",
    "    ancestors = []\n",
    "    for i in range(1, len(parts)):\n",
    "        ancestors.append('-'.join(parts[:i]))\n",
    "    return ancestors\n",
    "\n",
    "# Create a comprehensive dataframe\n",
    "scaffold_data = []\n",
    "for scaffold_id, scaffold_info in data.items():\n",
    "    root, generation = parse_scaffold_id(scaffold_id)\n",
    "    parent_id = get_parent_id(scaffold_id)\n",
    "    \n",
    "    scaffold_data.append({\n",
    "        'scaffold_id': scaffold_id,\n",
    "        'root': root,\n",
    "        'generation': generation,\n",
    "        'parent_id': parent_id,\n",
    "        'mean_score': scaffold_info['mean_score'],\n",
    "        'scores': scaffold_info['scores'],\n",
    "        'score_std': np.std(scaffold_info['scores']),\n",
    "        'num_runs': len(scaffold_info['scores'])\n",
    "    })\n",
    "\n",
    "df = pd.DataFrame(scaffold_data)\n",
    "print(f\"Processed {len(df)} scaffolds\")\n",
    "print(f\"Generation depths: {sorted(df['generation'].unique())}\")\n",
    "print(f\"Root scaffolds: {sorted([int(x) for x in df['root'].unique()])}\")"
   ]
  },
  {
   "cell_type": "markdown",
   "metadata": {},
   "source": [
    "## 1. Evolution Tree with Score Heatmap\n",
    "\n",
    "This visualization shows the full evolution tree with nodes colored by mean score. The size of nodes represents the number of descendants (how much the algorithm explored that branch)."
   ]
  },
  {
   "cell_type": "code",
   "execution_count": 91,
   "metadata": {},
   "outputs": [
    {
     "name": "stdout",
     "output_type": "stream",
     "text": [
      "Created graph with 110 nodes and 90 edges\n"
     ]
    }
   ],
   "source": [
    "# Create network graph for evolution tree\n",
    "G = nx.DiGraph()\n",
    "\n",
    "# Add nodes\n",
    "for _, row in df.iterrows():\n",
    "    G.add_node(row['scaffold_id'], \n",
    "               mean_score=row['mean_score'],\n",
    "               generation=row['generation'],\n",
    "               root=row['root'])\n",
    "\n",
    "# Add edges (parent-child relationships)\n",
    "for _, row in df.iterrows():\n",
    "    if row['parent_id'] is not None and row['parent_id'] in data:\n",
    "        G.add_edge(row['parent_id'], row['scaffold_id'])\n",
    "\n",
    "# Calculate number of descendants for each node\n",
    "descendants = {}\n",
    "for node in G.nodes():\n",
    "    descendants[node] = len(list(nx.descendants(G, node)))\n",
    "\n",
    "print(f\"Created graph with {G.number_of_nodes()} nodes and {G.number_of_edges()} edges\")"
   ]
  },
  {
   "cell_type": "code",
   "execution_count": 99,
   "metadata": {},
   "outputs": [
    {
     "data": {
      "application/vnd.plotly.v1+json": {
       "config": {
        "plotlyServerURL": "https://plot.ly"
       },
       "data": [
        {
         "hoverinfo": "none",
         "line": {
          "color": "gray",
          "width": 1
         },
         "mode": "lines",
         "showlegend": false,
         "type": "scatter",
         "x": [
          9,
          12,
          null,
          9,
          12,
          null,
          9,
          12,
          null,
          3,
          6,
          null,
          3,
          6,
          null,
          6,
          9,
          null,
          6,
          9,
          null,
          6,
          9,
          null,
          6,
          9,
          null,
          6,
          9,
          null,
          9,
          12,
          null,
          9,
          12,
          null,
          9,
          12,
          null,
          9,
          12,
          null,
          9,
          12,
          null,
          9,
          12,
          null,
          6,
          9,
          null,
          6,
          9,
          null,
          6,
          9,
          null,
          6,
          9,
          null,
          15,
          18,
          null,
          12,
          15,
          null,
          12,
          15,
          null,
          0,
          3,
          null,
          0,
          3,
          null,
          0,
          3,
          null,
          0,
          3,
          null,
          0,
          3,
          null,
          0,
          3,
          null,
          0,
          3,
          null,
          0,
          3,
          null,
          0,
          3,
          null,
          9,
          12,
          null,
          9,
          12,
          null,
          0,
          3,
          null,
          0,
          3,
          null,
          0,
          3,
          null,
          0,
          3,
          null,
          0,
          3,
          null,
          0,
          3,
          null,
          0,
          3,
          null,
          0,
          3,
          null,
          6,
          9,
          null,
          6,
          9,
          null,
          3,
          6,
          null,
          3,
          6,
          null,
          3,
          6,
          null,
          3,
          6,
          null,
          3,
          6,
          null,
          3,
          6,
          null,
          3,
          6,
          null,
          3,
          6,
          null,
          6,
          9,
          null,
          6,
          9,
          null,
          6,
          9,
          null,
          3,
          6,
          null,
          3,
          6,
          null,
          3,
          6,
          null,
          3,
          6,
          null,
          3,
          6,
          null,
          0,
          3,
          null,
          0,
          3,
          null,
          0,
          3,
          null,
          0,
          3,
          null,
          0,
          3,
          null,
          3,
          6,
          null,
          3,
          6,
          null,
          3,
          6,
          null,
          3,
          6,
          null,
          3,
          6,
          null,
          3,
          6,
          null,
          3,
          6,
          null,
          0,
          3,
          null,
          0,
          3,
          null,
          0,
          3,
          null,
          0,
          3,
          null,
          0,
          3,
          null,
          0,
          3,
          null,
          0,
          3,
          null,
          0,
          3,
          null,
          3,
          6,
          null,
          0,
          3,
          null,
          0,
          3,
          null,
          0,
          3,
          null,
          0,
          3,
          null,
          0,
          3,
          null,
          3,
          6,
          null,
          0,
          3,
          null,
          0,
          3,
          null,
          0,
          3,
          null
         ],
         "y": [
          0,
          0.25,
          null,
          0,
          0.75,
          null,
          0,
          1.25,
          null,
          -6,
          -5.5,
          null,
          -6,
          -6,
          null,
          -1.5,
          -2.5,
          null,
          -1.5,
          -0.5,
          null,
          -1.5,
          -1.5,
          null,
          -1.5,
          -1,
          null,
          -1.5,
          -2,
          null,
          0.5,
          2.25,
          null,
          0.5,
          1.75,
          null,
          -2.5,
          -0.25,
          null,
          -2.5,
          -0.75,
          null,
          -2.5,
          -1.25,
          null,
          -2.5,
          -1.75,
          null,
          -1,
          0,
          null,
          -1,
          0.5,
          null,
          -1,
          1,
          null,
          -1,
          1.5,
          null,
          -0.5,
          -0.25,
          null,
          0.25,
          -0.5,
          null,
          0.25,
          0,
          null,
          -2.5,
          2,
          null,
          -2.5,
          3,
          null,
          -2.5,
          0.5,
          null,
          -2.5,
          4,
          null,
          -2.5,
          3.5,
          null,
          -2.5,
          0,
          null,
          -2.5,
          1.5,
          null,
          -2.5,
          1,
          null,
          -2.5,
          2.5,
          null,
          -3,
          -2.75,
          null,
          -3,
          -2.25,
          null,
          -4.5,
          -6,
          null,
          -4.5,
          -6.5,
          null,
          -4.5,
          -5.5,
          null,
          -4.5,
          -7,
          null,
          -4.5,
          -8,
          null,
          -4.5,
          -7.5,
          null,
          -4.5,
          -9,
          null,
          -4.5,
          -8.5,
          null,
          -3.5,
          -3,
          null,
          -3.5,
          -3.5,
          null,
          2,
          -3,
          null,
          2,
          -2.5,
          null,
          7.5,
          1.5,
          null,
          7.5,
          2.5,
          null,
          7.5,
          2,
          null,
          7.5,
          4,
          null,
          7.5,
          3,
          null,
          7.5,
          3.5,
          null,
          4.5,
          3,
          null,
          4.5,
          2,
          null,
          4.5,
          2.5,
          null,
          9,
          5.5,
          null,
          9,
          5,
          null,
          5.5,
          -1.5,
          null,
          5.5,
          -1,
          null,
          5.5,
          -2,
          null,
          -3,
          -2.5,
          null,
          -3,
          -0.5,
          null,
          -3,
          -1,
          null,
          -3,
          -1.5,
          null,
          -3,
          -2,
          null,
          -2.5,
          -3.5,
          null,
          -2.5,
          -4.5,
          null,
          -2.5,
          -4,
          null,
          -2.5,
          -5,
          null,
          7,
          0.5,
          null,
          7,
          1,
          null,
          7,
          0,
          null,
          -3.5,
          -3.5,
          null,
          -3.5,
          -4,
          null,
          -3.5,
          -4.5,
          null,
          -3.5,
          -3,
          null,
          4,
          7.5,
          null,
          4,
          9,
          null,
          4,
          8.5,
          null,
          4,
          8,
          null,
          8.5,
          4.5,
          null,
          2.5,
          5.5,
          null,
          2.5,
          5,
          null,
          2.5,
          6,
          null,
          3,
          7,
          null,
          3,
          6.5,
          null,
          6.5,
          -0.5,
          null,
          -4,
          -5,
          null,
          2,
          4.5,
          null,
          -5,
          -9.5,
          null
         ]
        },
        {
         "hoverinfo": "text",
         "hovertext": [
          "Scaffold: 5-1-2-0<br>Mean Score: 0.7996<br>Generation: 3<br>Root: 5<br>Descendants: 6",
          "Scaffold: 1-6<br>Mean Score: 0.7839<br>Generation: 1<br>Root: 1<br>Descendants: 2",
          "Scaffold: 5-1-1<br>Mean Score: 0.7758<br>Generation: 2<br>Root: 5<br>Descendants: 9",
          "Scaffold: 5-1-2-1<br>Mean Score: 0.7719<br>Generation: 3<br>Root: 5<br>Descendants: 2",
          "Scaffold: 5-1-1-0<br>Mean Score: 0.7714<br>Generation: 3<br>Root: 5<br>Descendants: 4",
          "Scaffold: 5-1-2<br>Mean Score: 0.7655<br>Generation: 2<br>Root: 5<br>Descendants: 12",
          "Scaffold: 5-1-1-4<br>Mean Score: 0.7643<br>Generation: 3<br>Root: 5<br>Descendants: 0",
          "Scaffold: 5-1-2-0-0-0<br>Mean Score: 0.7559<br>Generation: 5<br>Root: 5<br>Descendants: 1",
          "Scaffold: 5-1-2-0-0<br>Mean Score: 0.7485<br>Generation: 4<br>Root: 5<br>Descendants: 3",
          "Scaffold: 5-1-2-1-1<br>Mean Score: 0.7465<br>Generation: 4<br>Root: 5<br>Descendants: 0",
          "Scaffold: 13<br>Mean Score: 0.7214<br>Generation: 0<br>Root: 13<br>Descendants: 11",
          "Scaffold: 1-6-1<br>Mean Score: 0.7213<br>Generation: 2<br>Root: 1<br>Descendants: 0",
          "Scaffold: 12-0-3-1<br>Mean Score: 0.6887<br>Generation: 3<br>Root: 12<br>Descendants: 2",
          "Scaffold: 1<br>Mean Score: 0.6728<br>Generation: 0<br>Root: 1<br>Descendants: 10",
          "Scaffold: 12-0-3<br>Mean Score: 0.6716<br>Generation: 2<br>Root: 12<br>Descendants: 4",
          "Scaffold: 12-0-3-1-0<br>Mean Score: 0.6707<br>Generation: 4<br>Root: 12<br>Descendants: 0",
          "Scaffold: 13-4<br>Mean Score: 0.6610<br>Generation: 1<br>Root: 13<br>Descendants: 2",
          "Scaffold: 8-0<br>Mean Score: 0.6487<br>Generation: 1<br>Root: 8<br>Descendants: 6",
          "Scaffold: 8-2-0<br>Mean Score: 0.6360<br>Generation: 2<br>Root: 8<br>Descendants: 3",
          "Scaffold: 5-1-1-2<br>Mean Score: 0.6298<br>Generation: 3<br>Root: 5<br>Descendants: 0",
          "Scaffold: 8-3<br>Mean Score: 0.6271<br>Generation: 1<br>Root: 8<br>Descendants: 2",
          "Scaffold: 5-1-1-0-3<br>Mean Score: 0.6205<br>Generation: 4<br>Root: 5<br>Descendants: 0",
          "Scaffold: 8-2-0-2<br>Mean Score: 0.6180<br>Generation: 3<br>Root: 8<br>Descendants: 0",
          "Scaffold: 5-1<br>Mean Score: 0.6152<br>Generation: 1<br>Root: 5<br>Descendants: 24",
          "Scaffold: 13-4-0<br>Mean Score: 0.5901<br>Generation: 2<br>Root: 13<br>Descendants: 0",
          "Scaffold: 12<br>Mean Score: 0.5852<br>Generation: 0<br>Root: 12<br>Descendants: 13",
          "Scaffold: 1-5<br>Mean Score: 0.5704<br>Generation: 1<br>Root: 1<br>Descendants: 0",
          "Scaffold: 12-0<br>Mean Score: 0.5687<br>Generation: 1<br>Root: 12<br>Descendants: 8",
          "Scaffold: 6-1<br>Mean Score: 0.5615<br>Generation: 1<br>Root: 6<br>Descendants: 3",
          "Scaffold: 11<br>Mean Score: 0.5462<br>Generation: 0<br>Root: 11<br>Descendants: 4",
          "Scaffold: 8<br>Mean Score: 0.5414<br>Generation: 0<br>Root: 8<br>Descendants: 16",
          "Scaffold: 8-2<br>Mean Score: 0.5395<br>Generation: 1<br>Root: 8<br>Descendants: 4",
          "Scaffold: 12-4<br>Mean Score: 0.5385<br>Generation: 1<br>Root: 12<br>Descendants: 0",
          "Scaffold: 5-1-2-2<br>Mean Score: 0.5383<br>Generation: 3<br>Root: 5<br>Descendants: 0",
          "Scaffold: 12-3<br>Mean Score: 0.5246<br>Generation: 1<br>Root: 12<br>Descendants: 0",
          "Scaffold: 5<br>Mean Score: 0.5140<br>Generation: 0<br>Root: 5<br>Descendants: 27",
          "Scaffold: 6<br>Mean Score: 0.5124<br>Generation: 0<br>Root: 6<br>Descendants: 6",
          "Scaffold: 6-0<br>Mean Score: 0.5000<br>Generation: 1<br>Root: 6<br>Descendants: 1",
          "Scaffold: 13-6<br>Mean Score: 0.4945<br>Generation: 1<br>Root: 13<br>Descendants: 0",
          "Scaffold: 12-2<br>Mean Score: 0.4935<br>Generation: 1<br>Root: 12<br>Descendants: 0",
          "Scaffold: 12-0-3-1-1<br>Mean Score: 0.4934<br>Generation: 4<br>Root: 12<br>Descendants: 0",
          "Scaffold: 10<br>Mean Score: 0.4868<br>Generation: 0<br>Root: 10<br>Descendants: 1",
          "Scaffold: 4<br>Mean Score: 0.3646<br>Generation: 0<br>Root: 4<br>Descendants: 1",
          "Scaffold: 5-1-1-0-2<br>Mean Score: 0.3188<br>Generation: 4<br>Root: 5<br>Descendants: 0",
          "Scaffold: 13-1<br>Mean Score: 0.3006<br>Generation: 1<br>Root: 13<br>Descendants: 0",
          "Scaffold: 0<br>Mean Score: 0.1791<br>Generation: 0<br>Root: 0<br>Descendants: 1",
          "Scaffold: 5-0<br>Mean Score: 0.1528<br>Generation: 1<br>Root: 5<br>Descendants: 0",
          "Scaffold: 13-8<br>Mean Score: 0.1330<br>Generation: 1<br>Root: 13<br>Descendants: 0",
          "Scaffold: 7<br>Mean Score: 0.1250<br>Generation: 0<br>Root: 7<br>Descendants: 0",
          "Scaffold: 18<br>Mean Score: 0.1173<br>Generation: 0<br>Root: 18<br>Descendants: 0",
          "Scaffold: 12-0-1<br>Mean Score: 0.1005<br>Generation: 2<br>Root: 12<br>Descendants: 0",
          "Scaffold: 5-1-2-1-0<br>Mean Score: 0.0977<br>Generation: 4<br>Root: 5<br>Descendants: 0",
          "Scaffold: 19<br>Mean Score: 0.0952<br>Generation: 0<br>Root: 19<br>Descendants: 0",
          "Scaffold: 1-7<br>Mean Score: 0.0868<br>Generation: 1<br>Root: 1<br>Descendants: 0",
          "Scaffold: 8-0-0<br>Mean Score: 0.0838<br>Generation: 2<br>Root: 8<br>Descendants: 0",
          "Scaffold: 5-1-2-0-0-1<br>Mean Score: 0.0479<br>Generation: 5<br>Root: 5<br>Descendants: 0",
          "Scaffold: 4-0<br>Mean Score: 0.0449<br>Generation: 1<br>Root: 4<br>Descendants: 0",
          "Scaffold: 17<br>Mean Score: 0.0447<br>Generation: 0<br>Root: 17<br>Descendants: 0",
          "Scaffold: 8-0-2<br>Mean Score: 0.0404<br>Generation: 2<br>Root: 8<br>Descendants: 0",
          "Scaffold: 8-1<br>Mean Score: 0.0347<br>Generation: 1<br>Root: 8<br>Descendants: 0",
          "Scaffold: 8-2-0-0<br>Mean Score: 0.0225<br>Generation: 3<br>Root: 8<br>Descendants: 0",
          "Scaffold: 12-1<br>Mean Score: 0.0074<br>Generation: 1<br>Root: 12<br>Descendants: 0",
          "Scaffold: 15<br>Mean Score: 0.0067<br>Generation: 0<br>Root: 15<br>Descendants: 0",
          "Scaffold: 11-2<br>Mean Score: 0.0021<br>Generation: 1<br>Root: 11<br>Descendants: 0",
          "Scaffold: 0-0<br>Mean Score: 0.0011<br>Generation: 1<br>Root: 0<br>Descendants: 0",
          "Scaffold: 11-1<br>Mean Score: 0.0000<br>Generation: 1<br>Root: 11<br>Descendants: 0",
          "Scaffold: 5-1-2-3<br>Mean Score: 0.0000<br>Generation: 3<br>Root: 5<br>Descendants: 0",
          "Scaffold: 5-1-1-3<br>Mean Score: 0.0000<br>Generation: 3<br>Root: 5<br>Descendants: 0",
          "Scaffold: 1-4<br>Mean Score: 0.0000<br>Generation: 1<br>Root: 1<br>Descendants: 0",
          "Scaffold: 11-0<br>Mean Score: 0.0000<br>Generation: 1<br>Root: 11<br>Descendants: 0",
          "Scaffold: 8-0-1<br>Mean Score: 0.0000<br>Generation: 2<br>Root: 8<br>Descendants: 0",
          "Scaffold: 1-6-0<br>Mean Score: 0.0000<br>Generation: 2<br>Root: 1<br>Descendants: 0",
          "Scaffold: 8-0-5<br>Mean Score: 0.0000<br>Generation: 2<br>Root: 8<br>Descendants: 0",
          "Scaffold: 5-1-2-0-1<br>Mean Score: 0.0000<br>Generation: 4<br>Root: 5<br>Descendants: 0",
          "Scaffold: 8-3-1<br>Mean Score: 0.0000<br>Generation: 2<br>Root: 8<br>Descendants: 0",
          "Scaffold: 9<br>Mean Score: 0.0000<br>Generation: 0<br>Root: 9<br>Descendants: 0",
          "Scaffold: 14<br>Mean Score: 0.0000<br>Generation: 0<br>Root: 14<br>Descendants: 0",
          "Scaffold: 8-0-3<br>Mean Score: 0.0000<br>Generation: 2<br>Root: 8<br>Descendants: 0",
          "Scaffold: 13-7<br>Mean Score: 0.0000<br>Generation: 1<br>Root: 13<br>Descendants: 0",
          "Scaffold: 12-0-3-0<br>Mean Score: 0.0000<br>Generation: 3<br>Root: 12<br>Descendants: 0",
          "Scaffold: 8-2-0-1<br>Mean Score: 0.0000<br>Generation: 3<br>Root: 8<br>Descendants: 0",
          "Scaffold: 10-0<br>Mean Score: 0.0000<br>Generation: 1<br>Root: 10<br>Descendants: 0",
          "Scaffold: 5-2<br>Mean Score: 0.0000<br>Generation: 1<br>Root: 5<br>Descendants: 0",
          "Scaffold: 13-0<br>Mean Score: 0.0000<br>Generation: 1<br>Root: 13<br>Descendants: 0",
          "Scaffold: 8-0-4<br>Mean Score: 0.0000<br>Generation: 2<br>Root: 8<br>Descendants: 0",
          "Scaffold: 12-0-2<br>Mean Score: 0.0000<br>Generation: 2<br>Root: 12<br>Descendants: 0",
          "Scaffold: 1-2<br>Mean Score: 0.0000<br>Generation: 1<br>Root: 1<br>Descendants: 0",
          "Scaffold: 5-1-0<br>Mean Score: 0.0000<br>Generation: 2<br>Root: 5<br>Descendants: 0",
          "Scaffold: 5-1-2-0-0-0-0<br>Mean Score: 0.0000<br>Generation: 6<br>Root: 5<br>Descendants: 0",
          "Scaffold: 16<br>Mean Score: 0.0000<br>Generation: 0<br>Root: 16<br>Descendants: 0",
          "Scaffold: 11-3<br>Mean Score: 0.0000<br>Generation: 1<br>Root: 11<br>Descendants: 0",
          "Scaffold: 1-3<br>Mean Score: 0.0000<br>Generation: 1<br>Root: 1<br>Descendants: 0",
          "Scaffold: 12-0-0<br>Mean Score: 0.0000<br>Generation: 2<br>Root: 12<br>Descendants: 0",
          "Scaffold: 13-3<br>Mean Score: 0.0000<br>Generation: 1<br>Root: 13<br>Descendants: 0",
          "Scaffold: 6-0-0<br>Mean Score: 0.0000<br>Generation: 2<br>Root: 6<br>Descendants: 0",
          "Scaffold: 2<br>Mean Score: 0.0000<br>Generation: 0<br>Root: 2<br>Descendants: 0",
          "Scaffold: 13-2<br>Mean Score: 0.0000<br>Generation: 1<br>Root: 13<br>Descendants: 0",
          "Scaffold: 6-1-1<br>Mean Score: 0.0000<br>Generation: 2<br>Root: 6<br>Descendants: 0",
          "Scaffold: 6-1-2<br>Mean Score: 0.0000<br>Generation: 2<br>Root: 6<br>Descendants: 0",
          "Scaffold: 1-0<br>Mean Score: 0.0000<br>Generation: 1<br>Root: 1<br>Descendants: 0",
          "Scaffold: 5-1-1-0-1<br>Mean Score: 0.0000<br>Generation: 4<br>Root: 5<br>Descendants: 0",
          "Scaffold: 5-1-1-1<br>Mean Score: 0.0000<br>Generation: 3<br>Root: 5<br>Descendants: 0",
          "Scaffold: 8-3-0<br>Mean Score: 0.0000<br>Generation: 2<br>Root: 8<br>Descendants: 0",
          "Scaffold: 13-4-1<br>Mean Score: 0.0000<br>Generation: 2<br>Root: 13<br>Descendants: 0",
          "Scaffold: 6-1-0<br>Mean Score: 0.0000<br>Generation: 2<br>Root: 6<br>Descendants: 0",
          "Scaffold: 13-5<br>Mean Score: 0.0000<br>Generation: 1<br>Root: 13<br>Descendants: 0",
          "Scaffold: 3<br>Mean Score: 0.0000<br>Generation: 0<br>Root: 3<br>Descendants: 0",
          "Scaffold: 1-1<br>Mean Score: 0.0000<br>Generation: 1<br>Root: 1<br>Descendants: 0",
          "Scaffold: 5-1-2-0-2<br>Mean Score: 0.0000<br>Generation: 4<br>Root: 5<br>Descendants: 0",
          "Scaffold: 5-1-1-0-0<br>Mean Score: 0.0000<br>Generation: 4<br>Root: 5<br>Descendants: 0"
         ],
         "marker": {
          "color": [
           0.7995879664997312,
           0.7839020456667515,
           0.7758159324335795,
           0.7719060351413292,
           0.7714154853860736,
           0.7654549698667344,
           0.764317545199898,
           0.755864315423139,
           0.7484908609908609,
           0.7465410406586878,
           0.7214084118495883,
           0.7213033698327816,
           0.6887346857935093,
           0.6727792632204397,
           0.6716234473587415,
           0.6707236935178111,
           0.6609530175706647,
           0.6487303002008884,
           0.6360198624904507,
           0.629814248931896,
           0.6270955351837705,
           0.6205411962764904,
           0.6180272614096143,
           0.6152317997906234,
           0.5900832555244321,
           0.5852198455139631,
           0.570407152760094,
           0.5687010157598393,
           0.5614683247036188,
           0.546178521913816,
           0.541374883286648,
           0.5395032255326373,
           0.5385437003084063,
           0.5383442265795206,
           0.524609187109187,
           0.5140445066915655,
           0.5123539314715785,
           0.49997630365277423,
           0.4945201312848372,
           0.49349234643352285,
           0.49339367059955286,
           0.48677708457120217,
           0.3646340859576153,
           0.318783422459893,
           0.30062423959482787,
           0.17910618792971733,
           0.1527763630704807,
           0.13295454545454546,
           0.12497205953088306,
           0.11734360410830998,
           0.10053475935828877,
           0.09769933225815577,
           0.09518681209857681,
           0.08678628016863311,
           0.08384404266757209,
           0.04786697507285743,
           0.044883711060181644,
           0.04470475058710353,
           0.040381405087287436,
           0.03468013468013468,
           0.02250304162068868,
           0.007441360382536853,
           0.0067400192400192405,
           0.0021390374331550803,
           0.0010695187165775401,
           0,
           0,
           0,
           0,
           0,
           0,
           0,
           0,
           0,
           0,
           0,
           0,
           0,
           0,
           0,
           0,
           0,
           0,
           0,
           0,
           0,
           0,
           0,
           0,
           0,
           0,
           0,
           0,
           0,
           0,
           0,
           0,
           0,
           0,
           0,
           0,
           0,
           0,
           0,
           0,
           0,
           0,
           0,
           0,
           0
          ],
          "colorbar": {
           "title": {
            "text": "Mean Score"
           }
          },
          "colorscale": [
           [
            0,
            "rgb(49,54,149)"
           ],
           [
            0.1,
            "rgb(69,117,180)"
           ],
           [
            0.2,
            "rgb(116,173,209)"
           ],
           [
            0.3,
            "rgb(171,217,233)"
           ],
           [
            0.4,
            "rgb(224,243,248)"
           ],
           [
            0.5,
            "rgb(255,255,191)"
           ],
           [
            0.6,
            "rgb(254,224,144)"
           ],
           [
            0.7,
            "rgb(253,174,97)"
           ],
           [
            0.8,
            "rgb(244,109,67)"
           ],
           [
            0.9,
            "rgb(215,48,39)"
           ],
           [
            1,
            "rgb(165,0,38)"
           ]
          ],
          "line": {
           "color": "black",
           "width": 1
          },
          "showscale": true,
          "size": 15
         },
         "mode": "markers+text",
         "showlegend": false,
         "type": "scatter",
         "x": [
          9,
          3,
          6,
          9,
          9,
          6,
          9,
          15,
          12,
          12,
          0,
          6,
          9,
          0,
          6,
          12,
          3,
          3,
          6,
          9,
          3,
          12,
          9,
          3,
          6,
          0,
          3,
          3,
          3,
          0,
          0,
          3,
          3,
          9,
          3,
          0,
          0,
          3,
          3,
          3,
          12,
          0,
          0,
          12,
          3,
          0,
          3,
          3,
          0,
          0,
          6,
          12,
          0,
          3,
          6,
          15,
          3,
          0,
          6,
          3,
          9,
          3,
          0,
          3,
          3,
          3,
          9,
          9,
          3,
          3,
          6,
          6,
          6,
          12,
          6,
          0,
          0,
          6,
          3,
          9,
          9,
          3,
          3,
          3,
          6,
          6,
          3,
          6,
          18,
          0,
          3,
          3,
          6,
          3,
          6,
          0,
          3,
          6,
          6,
          3,
          12,
          9,
          6,
          6,
          6,
          3,
          0,
          3,
          12,
          12
         ],
         "y": [
          0,
          -6,
          -1.5,
          0.5,
          -2.5,
          -1,
          -0.5,
          -0.5,
          0.25,
          2.25,
          -2.5,
          -5.5,
          -3,
          -4.5,
          -3.5,
          -2.75,
          2,
          7.5,
          4.5,
          -1.5,
          9,
          -0.25,
          3,
          5.5,
          -3,
          -3,
          -6.5,
          -2.5,
          7,
          -3.5,
          4,
          8.5,
          -0.5,
          1,
          -1,
          2.5,
          3,
          6.5,
          3,
          -1.5,
          -2.25,
          -4,
          2,
          -0.75,
          0.5,
          -5,
          5,
          4,
          3.5,
          0,
          -4.5,
          1.75,
          0.5,
          -5.5,
          1.5,
          0,
          4.5,
          -0.5,
          2.5,
          8,
          2,
          -2,
          -1.5,
          -3.5,
          -9.5,
          -4,
          1.5,
          -1,
          -7,
          -4.5,
          2,
          -6,
          4,
          0.75,
          5.5,
          4.5,
          -2,
          3,
          3.5,
          -3.5,
          2.5,
          -5,
          6,
          0,
          3.5,
          -4,
          -8,
          -2,
          -0.25,
          -1,
          -3,
          -7.5,
          -5,
          1.5,
          -0.5,
          1,
          1,
          0.5,
          1,
          -9,
          -1.25,
          -2,
          5,
          -2.5,
          0,
          2.5,
          1.5,
          -8.5,
          1.25,
          -1.75
         ]
        }
       ],
       "layout": {
        "annotations": [
         {
          "bgcolor": "white",
          "bordercolor": "black",
          "borderwidth": 1,
          "font": {
           "color": "black",
           "size": 14
          },
          "showarrow": false,
          "text": "Gen 0",
          "x": 0,
          "y": 10
         },
         {
          "bgcolor": "white",
          "bordercolor": "black",
          "borderwidth": 1,
          "font": {
           "color": "black",
           "size": 14
          },
          "showarrow": false,
          "text": "Gen 1",
          "x": 3,
          "y": 10
         },
         {
          "bgcolor": "white",
          "bordercolor": "black",
          "borderwidth": 1,
          "font": {
           "color": "black",
           "size": 14
          },
          "showarrow": false,
          "text": "Gen 2",
          "x": 6,
          "y": 10
         },
         {
          "bgcolor": "white",
          "bordercolor": "black",
          "borderwidth": 1,
          "font": {
           "color": "black",
           "size": 14
          },
          "showarrow": false,
          "text": "Gen 3",
          "x": 9,
          "y": 10
         },
         {
          "bgcolor": "white",
          "bordercolor": "black",
          "borderwidth": 1,
          "font": {
           "color": "black",
           "size": 14
          },
          "showarrow": false,
          "text": "Gen 4",
          "x": 12,
          "y": 10
         },
         {
          "bgcolor": "white",
          "bordercolor": "black",
          "borderwidth": 1,
          "font": {
           "color": "black",
           "size": 14
          },
          "showarrow": false,
          "text": "Gen 5",
          "x": 15,
          "y": 10
         },
         {
          "bgcolor": "white",
          "bordercolor": "black",
          "borderwidth": 1,
          "font": {
           "color": "black",
           "size": 14
          },
          "showarrow": false,
          "text": "Gen 6",
          "x": 18,
          "y": 10
         }
        ],
        "height": 800,
        "plot_bgcolor": "white",
        "showlegend": false,
        "template": {
         "data": {
          "bar": [
           {
            "error_x": {
             "color": "#2a3f5f"
            },
            "error_y": {
             "color": "#2a3f5f"
            },
            "marker": {
             "line": {
              "color": "#E5ECF6",
              "width": 0.5
             },
             "pattern": {
              "fillmode": "overlay",
              "size": 10,
              "solidity": 0.2
             }
            },
            "type": "bar"
           }
          ],
          "barpolar": [
           {
            "marker": {
             "line": {
              "color": "#E5ECF6",
              "width": 0.5
             },
             "pattern": {
              "fillmode": "overlay",
              "size": 10,
              "solidity": 0.2
             }
            },
            "type": "barpolar"
           }
          ],
          "carpet": [
           {
            "aaxis": {
             "endlinecolor": "#2a3f5f",
             "gridcolor": "white",
             "linecolor": "white",
             "minorgridcolor": "white",
             "startlinecolor": "#2a3f5f"
            },
            "baxis": {
             "endlinecolor": "#2a3f5f",
             "gridcolor": "white",
             "linecolor": "white",
             "minorgridcolor": "white",
             "startlinecolor": "#2a3f5f"
            },
            "type": "carpet"
           }
          ],
          "choropleth": [
           {
            "colorbar": {
             "outlinewidth": 0,
             "ticks": ""
            },
            "type": "choropleth"
           }
          ],
          "contour": [
           {
            "colorbar": {
             "outlinewidth": 0,
             "ticks": ""
            },
            "colorscale": [
             [
              0,
              "#0d0887"
             ],
             [
              0.1111111111111111,
              "#46039f"
             ],
             [
              0.2222222222222222,
              "#7201a8"
             ],
             [
              0.3333333333333333,
              "#9c179e"
             ],
             [
              0.4444444444444444,
              "#bd3786"
             ],
             [
              0.5555555555555556,
              "#d8576b"
             ],
             [
              0.6666666666666666,
              "#ed7953"
             ],
             [
              0.7777777777777778,
              "#fb9f3a"
             ],
             [
              0.8888888888888888,
              "#fdca26"
             ],
             [
              1,
              "#f0f921"
             ]
            ],
            "type": "contour"
           }
          ],
          "contourcarpet": [
           {
            "colorbar": {
             "outlinewidth": 0,
             "ticks": ""
            },
            "type": "contourcarpet"
           }
          ],
          "heatmap": [
           {
            "colorbar": {
             "outlinewidth": 0,
             "ticks": ""
            },
            "colorscale": [
             [
              0,
              "#0d0887"
             ],
             [
              0.1111111111111111,
              "#46039f"
             ],
             [
              0.2222222222222222,
              "#7201a8"
             ],
             [
              0.3333333333333333,
              "#9c179e"
             ],
             [
              0.4444444444444444,
              "#bd3786"
             ],
             [
              0.5555555555555556,
              "#d8576b"
             ],
             [
              0.6666666666666666,
              "#ed7953"
             ],
             [
              0.7777777777777778,
              "#fb9f3a"
             ],
             [
              0.8888888888888888,
              "#fdca26"
             ],
             [
              1,
              "#f0f921"
             ]
            ],
            "type": "heatmap"
           }
          ],
          "histogram": [
           {
            "marker": {
             "pattern": {
              "fillmode": "overlay",
              "size": 10,
              "solidity": 0.2
             }
            },
            "type": "histogram"
           }
          ],
          "histogram2d": [
           {
            "colorbar": {
             "outlinewidth": 0,
             "ticks": ""
            },
            "colorscale": [
             [
              0,
              "#0d0887"
             ],
             [
              0.1111111111111111,
              "#46039f"
             ],
             [
              0.2222222222222222,
              "#7201a8"
             ],
             [
              0.3333333333333333,
              "#9c179e"
             ],
             [
              0.4444444444444444,
              "#bd3786"
             ],
             [
              0.5555555555555556,
              "#d8576b"
             ],
             [
              0.6666666666666666,
              "#ed7953"
             ],
             [
              0.7777777777777778,
              "#fb9f3a"
             ],
             [
              0.8888888888888888,
              "#fdca26"
             ],
             [
              1,
              "#f0f921"
             ]
            ],
            "type": "histogram2d"
           }
          ],
          "histogram2dcontour": [
           {
            "colorbar": {
             "outlinewidth": 0,
             "ticks": ""
            },
            "colorscale": [
             [
              0,
              "#0d0887"
             ],
             [
              0.1111111111111111,
              "#46039f"
             ],
             [
              0.2222222222222222,
              "#7201a8"
             ],
             [
              0.3333333333333333,
              "#9c179e"
             ],
             [
              0.4444444444444444,
              "#bd3786"
             ],
             [
              0.5555555555555556,
              "#d8576b"
             ],
             [
              0.6666666666666666,
              "#ed7953"
             ],
             [
              0.7777777777777778,
              "#fb9f3a"
             ],
             [
              0.8888888888888888,
              "#fdca26"
             ],
             [
              1,
              "#f0f921"
             ]
            ],
            "type": "histogram2dcontour"
           }
          ],
          "mesh3d": [
           {
            "colorbar": {
             "outlinewidth": 0,
             "ticks": ""
            },
            "type": "mesh3d"
           }
          ],
          "parcoords": [
           {
            "line": {
             "colorbar": {
              "outlinewidth": 0,
              "ticks": ""
             }
            },
            "type": "parcoords"
           }
          ],
          "pie": [
           {
            "automargin": true,
            "type": "pie"
           }
          ],
          "scatter": [
           {
            "fillpattern": {
             "fillmode": "overlay",
             "size": 10,
             "solidity": 0.2
            },
            "type": "scatter"
           }
          ],
          "scatter3d": [
           {
            "line": {
             "colorbar": {
              "outlinewidth": 0,
              "ticks": ""
             }
            },
            "marker": {
             "colorbar": {
              "outlinewidth": 0,
              "ticks": ""
             }
            },
            "type": "scatter3d"
           }
          ],
          "scattercarpet": [
           {
            "marker": {
             "colorbar": {
              "outlinewidth": 0,
              "ticks": ""
             }
            },
            "type": "scattercarpet"
           }
          ],
          "scattergeo": [
           {
            "marker": {
             "colorbar": {
              "outlinewidth": 0,
              "ticks": ""
             }
            },
            "type": "scattergeo"
           }
          ],
          "scattergl": [
           {
            "marker": {
             "colorbar": {
              "outlinewidth": 0,
              "ticks": ""
             }
            },
            "type": "scattergl"
           }
          ],
          "scattermap": [
           {
            "marker": {
             "colorbar": {
              "outlinewidth": 0,
              "ticks": ""
             }
            },
            "type": "scattermap"
           }
          ],
          "scattermapbox": [
           {
            "marker": {
             "colorbar": {
              "outlinewidth": 0,
              "ticks": ""
             }
            },
            "type": "scattermapbox"
           }
          ],
          "scatterpolar": [
           {
            "marker": {
             "colorbar": {
              "outlinewidth": 0,
              "ticks": ""
             }
            },
            "type": "scatterpolar"
           }
          ],
          "scatterpolargl": [
           {
            "marker": {
             "colorbar": {
              "outlinewidth": 0,
              "ticks": ""
             }
            },
            "type": "scatterpolargl"
           }
          ],
          "scatterternary": [
           {
            "marker": {
             "colorbar": {
              "outlinewidth": 0,
              "ticks": ""
             }
            },
            "type": "scatterternary"
           }
          ],
          "surface": [
           {
            "colorbar": {
             "outlinewidth": 0,
             "ticks": ""
            },
            "colorscale": [
             [
              0,
              "#0d0887"
             ],
             [
              0.1111111111111111,
              "#46039f"
             ],
             [
              0.2222222222222222,
              "#7201a8"
             ],
             [
              0.3333333333333333,
              "#9c179e"
             ],
             [
              0.4444444444444444,
              "#bd3786"
             ],
             [
              0.5555555555555556,
              "#d8576b"
             ],
             [
              0.6666666666666666,
              "#ed7953"
             ],
             [
              0.7777777777777778,
              "#fb9f3a"
             ],
             [
              0.8888888888888888,
              "#fdca26"
             ],
             [
              1,
              "#f0f921"
             ]
            ],
            "type": "surface"
           }
          ],
          "table": [
           {
            "cells": {
             "fill": {
              "color": "#EBF0F8"
             },
             "line": {
              "color": "white"
             }
            },
            "header": {
             "fill": {
              "color": "#C8D4E3"
             },
             "line": {
              "color": "white"
             }
            },
            "type": "table"
           }
          ]
         },
         "layout": {
          "annotationdefaults": {
           "arrowcolor": "#2a3f5f",
           "arrowhead": 0,
           "arrowwidth": 1
          },
          "autotypenumbers": "strict",
          "coloraxis": {
           "colorbar": {
            "outlinewidth": 0,
            "ticks": ""
           }
          },
          "colorscale": {
           "diverging": [
            [
             0,
             "#8e0152"
            ],
            [
             0.1,
             "#c51b7d"
            ],
            [
             0.2,
             "#de77ae"
            ],
            [
             0.3,
             "#f1b6da"
            ],
            [
             0.4,
             "#fde0ef"
            ],
            [
             0.5,
             "#f7f7f7"
            ],
            [
             0.6,
             "#e6f5d0"
            ],
            [
             0.7,
             "#b8e186"
            ],
            [
             0.8,
             "#7fbc41"
            ],
            [
             0.9,
             "#4d9221"
            ],
            [
             1,
             "#276419"
            ]
           ],
           "sequential": [
            [
             0,
             "#0d0887"
            ],
            [
             0.1111111111111111,
             "#46039f"
            ],
            [
             0.2222222222222222,
             "#7201a8"
            ],
            [
             0.3333333333333333,
             "#9c179e"
            ],
            [
             0.4444444444444444,
             "#bd3786"
            ],
            [
             0.5555555555555556,
             "#d8576b"
            ],
            [
             0.6666666666666666,
             "#ed7953"
            ],
            [
             0.7777777777777778,
             "#fb9f3a"
            ],
            [
             0.8888888888888888,
             "#fdca26"
            ],
            [
             1,
             "#f0f921"
            ]
           ],
           "sequentialminus": [
            [
             0,
             "#0d0887"
            ],
            [
             0.1111111111111111,
             "#46039f"
            ],
            [
             0.2222222222222222,
             "#7201a8"
            ],
            [
             0.3333333333333333,
             "#9c179e"
            ],
            [
             0.4444444444444444,
             "#bd3786"
            ],
            [
             0.5555555555555556,
             "#d8576b"
            ],
            [
             0.6666666666666666,
             "#ed7953"
            ],
            [
             0.7777777777777778,
             "#fb9f3a"
            ],
            [
             0.8888888888888888,
             "#fdca26"
            ],
            [
             1,
             "#f0f921"
            ]
           ]
          },
          "colorway": [
           "#636efa",
           "#EF553B",
           "#00cc96",
           "#ab63fa",
           "#FFA15A",
           "#19d3f3",
           "#FF6692",
           "#B6E880",
           "#FF97FF",
           "#FECB52"
          ],
          "font": {
           "color": "#2a3f5f"
          },
          "geo": {
           "bgcolor": "white",
           "lakecolor": "white",
           "landcolor": "#E5ECF6",
           "showlakes": true,
           "showland": true,
           "subunitcolor": "white"
          },
          "hoverlabel": {
           "align": "left"
          },
          "hovermode": "closest",
          "mapbox": {
           "style": "light"
          },
          "paper_bgcolor": "white",
          "plot_bgcolor": "#E5ECF6",
          "polar": {
           "angularaxis": {
            "gridcolor": "white",
            "linecolor": "white",
            "ticks": ""
           },
           "bgcolor": "#E5ECF6",
           "radialaxis": {
            "gridcolor": "white",
            "linecolor": "white",
            "ticks": ""
           }
          },
          "scene": {
           "xaxis": {
            "backgroundcolor": "#E5ECF6",
            "gridcolor": "white",
            "gridwidth": 2,
            "linecolor": "white",
            "showbackground": true,
            "ticks": "",
            "zerolinecolor": "white"
           },
           "yaxis": {
            "backgroundcolor": "#E5ECF6",
            "gridcolor": "white",
            "gridwidth": 2,
            "linecolor": "white",
            "showbackground": true,
            "ticks": "",
            "zerolinecolor": "white"
           },
           "zaxis": {
            "backgroundcolor": "#E5ECF6",
            "gridcolor": "white",
            "gridwidth": 2,
            "linecolor": "white",
            "showbackground": true,
            "ticks": "",
            "zerolinecolor": "white"
           }
          },
          "shapedefaults": {
           "line": {
            "color": "#2a3f5f"
           }
          },
          "ternary": {
           "aaxis": {
            "gridcolor": "white",
            "linecolor": "white",
            "ticks": ""
           },
           "baxis": {
            "gridcolor": "white",
            "linecolor": "white",
            "ticks": ""
           },
           "bgcolor": "#E5ECF6",
           "caxis": {
            "gridcolor": "white",
            "linecolor": "white",
            "ticks": ""
           }
          },
          "title": {
           "x": 0.05
          },
          "xaxis": {
           "automargin": true,
           "gridcolor": "white",
           "linecolor": "white",
           "ticks": "",
           "title": {
            "standoff": 15
           },
           "zerolinecolor": "white",
           "zerolinewidth": 2
          },
          "yaxis": {
           "automargin": true,
           "gridcolor": "white",
           "linecolor": "white",
           "ticks": "",
           "title": {
            "standoff": 15
           },
           "zerolinecolor": "white",
           "zerolinewidth": 2
          }
         }
        },
        "title": {
         "text": "Interactive Scaffold Evolution Tree<br><sub>Fixed node size, Color = mean score. Hover for details.</sub>"
        },
        "width": 1200,
        "xaxis": {
         "showgrid": false,
         "title": {
          "text": "Generation"
         },
         "zeroline": false
        },
        "yaxis": {
         "showgrid": false,
         "showticklabels": false,
         "zeroline": false
        }
       }
      }
     },
     "metadata": {},
     "output_type": "display_data"
    },
    {
     "name": "stdout",
     "output_type": "stream",
     "text": [
      "\n",
      "Top 10 scaffolds by score:\n",
      "scaffold_id  mean_score  generation root\n",
      "    5-1-2-0    0.799588           3    5\n",
      "        1-6    0.783902           1    1\n",
      "      5-1-1    0.775816           2    5\n",
      "    5-1-2-1    0.771906           3    5\n",
      "    5-1-1-0    0.771415           3    5\n",
      "      5-1-2    0.765455           2    5\n",
      "    5-1-1-4    0.764318           3    5\n",
      "5-1-2-0-0-0    0.755864           5    5\n",
      "  5-1-2-0-0    0.748491           4    5\n",
      "  5-1-2-1-1    0.746541           4    5\n"
     ]
    }
   ],
   "source": [
    "# Plot evolution tree with plotly - CONFIGURABLE PARAMETERS\n",
    "TREE_NODE_SIZE = 15           # Fixed size for all nodes\n",
    "TREE_WIDTH = 1200            # Plot width\n",
    "TREE_HEIGHT = 800            # Plot height\n",
    "TREE_EDGE_WIDTH = 1          # Edge line width\n",
    "TREE_TEXT_SIZE = 8           # Label text size\n",
    "TREE_GEN_SPACING = 3         # Horizontal spacing between generations\n",
    "TREE_NODE_SPACING = 0.5      # Vertical spacing between nodes\n",
    "\n",
    "import plotly.graph_objects as go\n",
    "from plotly.subplots import make_subplots\n",
    "\n",
    "# Create layout - separate by generation (same logic as before)\n",
    "pos = {}\n",
    "for gen in sorted(df['generation'].unique()):\n",
    "    gen_nodes = df[df['generation'] == gen]['scaffold_id'].tolist()\n",
    "    gen_count = len(gen_nodes)\n",
    "    gen_nodes_df = df[df['generation'] == gen].sort_values(['root', 'scaffold_id'])\n",
    "    \n",
    "    for i, (_, row) in enumerate(gen_nodes_df.iterrows()):\n",
    "        x = gen * TREE_GEN_SPACING  # Horizontal spacing by generation\n",
    "        y = (i - gen_count/2) * TREE_NODE_SPACING  # Vertical spacing\n",
    "        pos[row['scaffold_id']] = (x, y)\n",
    "\n",
    "# Prepare data for plotly\n",
    "node_x = []\n",
    "node_y = []\n",
    "node_scores = []\n",
    "node_hover = []\n",
    "\n",
    "for node in G.nodes():\n",
    "    x, y = pos[node]\n",
    "    node_x.append(x)\n",
    "    node_y.append(y)\n",
    "    score = G.nodes[node]['mean_score']\n",
    "    desc_count = descendants[node]\n",
    "    \n",
    "    node_scores.append(score)\n",
    "    \n",
    "    # Create detailed hover info\n",
    "    hover_info = (f\"Scaffold: {node}<br>\"\n",
    "                 f\"Mean Score: {score:.4f}<br>\"\n",
    "                 f\"Generation: {G.nodes[node]['generation']}<br>\"\n",
    "                 f\"Root: {G.nodes[node]['root']}<br>\"\n",
    "                 f\"Descendants: {desc_count}\")\n",
    "    node_hover.append(hover_info)\n",
    "\n",
    "# Prepare edge data\n",
    "edge_x = []\n",
    "edge_y = []\n",
    "for edge in G.edges():\n",
    "    x0, y0 = pos[edge[0]]\n",
    "    x1, y1 = pos[edge[1]]\n",
    "    edge_x.extend([x0, x1, None])\n",
    "    edge_y.extend([y0, y1, None])\n",
    "\n",
    "# Create the plot\n",
    "fig = go.Figure()\n",
    "\n",
    "# Add edges\n",
    "fig.add_trace(go.Scatter(x=edge_x, y=edge_y,\n",
    "                         line=dict(width=TREE_EDGE_WIDTH, color='gray'),\n",
    "                         hoverinfo='none',\n",
    "                         mode='lines',\n",
    "                         showlegend=False))\n",
    "\n",
    "# Add nodes with fixed size\n",
    "fig.add_trace(go.Scatter(x=node_x, y=node_y,\n",
    "                         mode='markers+text',\n",
    "                         marker=dict(\n",
    "                             size=TREE_NODE_SIZE,  # Fixed size for all nodes\n",
    "                             color=node_scores,\n",
    "                             colorscale='RdYlBu_r',\n",
    "                             colorbar=dict(title=\"Mean Score\"),\n",
    "                             line=dict(width=1, color='black'),\n",
    "                             showscale=True\n",
    "                         ),\n",
    "                         hovertext=node_hover,\n",
    "                         hoverinfo='text',\n",
    "                         showlegend=False))\n",
    "\n",
    "# Add generation labels\n",
    "for gen in sorted(df['generation'].unique()):\n",
    "    fig.add_annotation(\n",
    "        x=gen * TREE_GEN_SPACING,\n",
    "        y=max([pos[node][1] for node in pos]) + 1,\n",
    "        text=f'Gen {gen}',\n",
    "        showarrow=False,\n",
    "        font=dict(size=14, color='black'),\n",
    "        bgcolor='white',\n",
    "        bordercolor='black',\n",
    "        borderwidth=1\n",
    "    )\n",
    "\n",
    "fig.update_layout(\n",
    "    title='Interactive Scaffold Evolution Tree<br><sub>Fixed node size, Color = mean score. Hover for details.</sub>',\n",
    "    showlegend=False,\n",
    "    width=TREE_WIDTH,\n",
    "    height=TREE_HEIGHT,\n",
    "    xaxis=dict(title='Generation', showgrid=False, zeroline=False),\n",
    "    yaxis=dict(showgrid=False, zeroline=False, showticklabels=False),\n",
    "    plot_bgcolor='white'\n",
    ")\n",
    "\n",
    "fig.show()\n",
    "\n",
    "print(f\"\\nTop 10 scaffolds by score:\")\n",
    "top_scaffolds = df.nlargest(10, 'mean_score')[['scaffold_id', 'mean_score', 'generation', 'root']]\n",
    "print(top_scaffolds.to_string(index=False))"
   ]
  },
  {
   "cell_type": "markdown",
   "metadata": {},
   "source": [
    "## 2. Score Distribution by Generation Depth (Violin Plot + Swarm)\n",
    "\n",
    "This shows how scores are distributed at each generation level, with each point colored by its root ancestor to show which initial scaffolds led to successful lineages."
   ]
  },
  {
   "cell_type": "code",
   "execution_count": 93,
   "metadata": {},
   "outputs": [
    {
     "name": "stdout",
     "output_type": "stream",
     "text": [
      "Created plot dataframe with 110 scaffolds using mean scores\n",
      "\n",
      "Root scaffold performance:\n",
      "          mean       max  count\n",
      "root                           \n",
      "12    0.381644  0.688735     14\n",
      "5     0.372661  0.799588     28\n",
      "1     0.257743  0.783902     11\n",
      "10    0.243389  0.486777      2\n",
      "13    0.241712  0.721408     12\n",
      "6     0.224828  0.561468      7\n",
      "8     0.223068  0.648730     17\n",
      "4     0.204759  0.364634      2\n",
      "7     0.124972  0.124972      1\n",
      "18    0.117344  0.117344      1\n"
     ]
    }
   ],
   "source": [
    "# Prepare data for violin plot using mean scores only\n",
    "plot_data = []\n",
    "for _, row in df.iterrows():\n",
    "    plot_data.append({\n",
    "        'scaffold_id': row['scaffold_id'],\n",
    "        'generation': row['generation'],\n",
    "        'root': row['root'],\n",
    "        'score': row['mean_score'],\n",
    "        'mean_score': row['mean_score']\n",
    "    })\n",
    "\n",
    "plot_df = pd.DataFrame(plot_data)\n",
    "print(f\"Created plot dataframe with {len(plot_df)} scaffolds using mean scores\")\n",
    "\n",
    "# Create color mapping for roots - focus on the most successful roots\n",
    "root_performance = df.groupby('root')['mean_score'].agg(['mean', 'max', 'count']).sort_values('mean', ascending=False)\n",
    "print(\"\\nRoot scaffold performance:\")\n",
    "print(root_performance.head(10))\n",
    "\n",
    "# Get distinct colors for top performing roots\n",
    "top_roots = root_performance.head(10).index.tolist()\n",
    "colors = plt.cm.Set3(np.linspace(0, 1, len(top_roots)))\n",
    "root_colors = {root: colors[i] for i, root in enumerate(top_roots)}\n",
    "# Gray for all other roots\n",
    "for root in df['root'].unique():\n",
    "    if root not in root_colors:\n",
    "        root_colors[root] = 'lightgray'"
   ]
  },
  {
   "cell_type": "code",
   "execution_count": 94,
   "metadata": {},
   "outputs": [
    {
     "data": {
      "image/png": "[encoded data removed]",
      "text/plain": [
       "<Figure size 1600x1000 with 1 Axes>"
      ]
     },
     "metadata": {},
     "output_type": "display_data"
    },
    {
     "data": {
      "application/vnd.plotly.v1+json": {
       "config": {
        "plotlyServerURL": "https://plot.ly"
       },
       "data": [
        {
         "hoverinfo": "text",
         "hovertext": [
          "Scaffold: 13<br>Score: 0.7214<br>Root: 13<br>Generation: 0"
         ],
         "marker": {
          "color": "rgb(128,177,211)",
          "line": {
           "color": "black",
           "width": 1
          },
          "size": 8
         },
         "mode": "markers",
         "name": "Root 13",
         "showlegend": true,
         "type": "scatter",
         "x": {
          "bdata": "/VmHIIhuqT8=",
          "dtype": "f8"
         },
         "y": {
          "bdata": "RoH+F8cV5z8=",
          "dtype": "f8"
         }
        },
        {
         "hoverinfo": "text",
         "hovertext": [
          "Scaffold: 1<br>Score: 0.6728<br>Root: 1<br>Generation: 0"
         ],
         "marker": {
          "color": "rgb(190,186,218)",
          "line": {
           "color": "black",
           "width": 1
          },
          "size": 8
         },
         "mode": "markers",
         "name": "Root 1",
         "showlegend": true,
         "type": "scatter",
         "x": {
          "bdata": "/VmHIIhuqT8=",
          "dtype": "f8"
         },
         "y": {
          "bdata": "Mq6eYGiH5T8=",
          "dtype": "f8"
         }
        },
        {
         "hoverinfo": "text",
         "hovertext": [
          "Scaffold: 12<br>Score: 0.5852<br>Root: 12<br>Generation: 0"
         ],
         "marker": {
          "color": "rgb(141,211,199)",
          "line": {
           "color": "black",
           "width": 1
          },
          "size": 8
         },
         "mode": "markers",
         "name": "Root 12",
         "showlegend": true,
         "type": "scatter",
         "x": {
          "bdata": "/VmHIIhuqT8=",
          "dtype": "f8"
         },
         "y": {
          "bdata": "D3wu+B664j8=",
          "dtype": "f8"
         }
        },
        {
         "hoverinfo": "text",
         "hovertext": [
          "Scaffold: 11<br>Score: 0.5462<br>Root: 11<br>Generation: 0"
         ],
         "marker": {
          "color": "lightgray",
          "line": {
           "color": "black",
           "width": 1
          },
          "size": 8
         },
         "mode": "markers",
         "name": "",
         "showlegend": false,
         "type": "scatter",
         "x": {
          "bdata": "/VmHIIhuqT8=",
          "dtype": "f8"
         },
         "y": {
          "bdata": "/LcsYUt64T8=",
          "dtype": "f8"
         }
        },
        {
         "hoverinfo": "text",
         "hovertext": [
          "Scaffold: 8<br>Score: 0.5414<br>Root: 8<br>Generation: 0"
         ],
         "marker": {
          "color": "rgb(179,222,105)",
          "line": {
           "color": "black",
           "width": 1
          },
          "size": 8
         },
         "mode": "markers",
         "name": "Root 8",
         "showlegend": true,
         "type": "scatter",
         "x": {
          "bdata": "/VmHIIhuqT8=",
          "dtype": "f8"
         },
         "y": {
          "bdata": "a/FSa/FS4T8=",
          "dtype": "f8"
         }
        },
        {
         "hoverinfo": "text",
         "hovertext": [
          "Scaffold: 5<br>Score: 0.5140<br>Root: 5<br>Generation: 0"
         ],
         "marker": {
          "color": "rgb(255,255,179)",
          "line": {
           "color": "black",
           "width": 1
          },
          "size": 8
         },
         "mode": "markers",
         "name": "Root 5",
         "showlegend": true,
         "type": "scatter",
         "x": {
          "bdata": "/VmHIIhuqT8=",
          "dtype": "f8"
         },
         "y": {
          "bdata": "Irgddw1z4D8=",
          "dtype": "f8"
         }
        },
        {
         "hoverinfo": "text",
         "hovertext": [
          "Scaffold: 6<br>Score: 0.5124<br>Root: 6<br>Generation: 0"
         ],
         "marker": {
          "color": "rgb(253,180,98)",
          "line": {
           "color": "black",
           "width": 1
          },
          "size": 8
         },
         "mode": "markers",
         "name": "Root 6",
         "showlegend": true,
         "type": "scatter",
         "x": {
          "bdata": "/VmHIIhuqT8=",
          "dtype": "f8"
         },
         "y": {
          "bdata": "87d0EjRl4D8=",
          "dtype": "f8"
         }
        },
        {
         "hoverinfo": "text",
         "hovertext": [
          "Scaffold: 10<br>Score: 0.4868<br>Root: 10<br>Generation: 0"
         ],
         "marker": {
          "color": "rgb(251,128,114)",
          "line": {
           "color": "black",
           "width": 1
          },
          "size": 8
         },
         "mode": "markers",
         "name": "Root 10",
         "showlegend": true,
         "type": "scatter",
         "x": {
          "bdata": "/VmHIIhuqT8=",
          "dtype": "f8"
         },
         "y": {
          "bdata": "CjyrElsn3z8=",
          "dtype": "f8"
         }
        },
        {
         "hoverinfo": "text",
         "hovertext": [
          "Scaffold: 4<br>Score: 0.3646<br>Root: 4<br>Generation: 0"
         ],
         "marker": {
          "color": "rgb(252,205,229)",
          "line": {
           "color": "black",
           "width": 1
          },
          "size": 8
         },
         "mode": "markers",
         "name": "Root 4",
         "showlegend": true,
         "type": "scatter",
         "x": {
          "bdata": "/VmHIIhuqT8=",
          "dtype": "f8"
         },
         "y": {
          "bdata": "x3eMNCpW1z8=",
          "dtype": "f8"
         }
        },
        {
         "hoverinfo": "text",
         "hovertext": [
          "Scaffold: 0<br>Score: 0.1791<br>Root: 0<br>Generation: 0"
         ],
         "marker": {
          "color": "lightgray",
          "line": {
           "color": "black",
           "width": 1
          },
          "size": 8
         },
         "mode": "markers",
         "name": "",
         "showlegend": false,
         "type": "scatter",
         "x": {
          "bdata": "/VmHIIhuqT8=",
          "dtype": "f8"
         },
         "y": {
          "bdata": "yK3VmfPsxj8=",
          "dtype": "f8"
         }
        },
        {
         "hoverinfo": "text",
         "hovertext": [
          "Scaffold: 7<br>Score: 0.1250<br>Root: 7<br>Generation: 0"
         ],
         "marker": {
          "color": "rgb(217,217,217)",
          "line": {
           "color": "black",
           "width": 1
          },
          "size": 8
         },
         "mode": "markers",
         "name": "",
         "showlegend": false,
         "type": "scatter",
         "x": {
          "bdata": "/VmHIIhuqT8=",
          "dtype": "f8"
         },
         "y": {
          "bdata": "BlKZPCv+vz8=",
          "dtype": "f8"
         }
        },
        {
         "hoverinfo": "text",
         "hovertext": [
          "Scaffold: 18<br>Score: 0.1173<br>Root: 18<br>Generation: 0"
         ],
         "marker": {
          "color": "rgb(188,128,189)",
          "line": {
           "color": "black",
           "width": 1
          },
          "size": 8
         },
         "mode": "markers",
         "name": "",
         "showlegend": false,
         "type": "scatter",
         "x": {
          "bdata": "/VmHIIhuqT8=",
          "dtype": "f8"
         },
         "y": {
          "bdata": "/ToK/joKvj8=",
          "dtype": "f8"
         }
        },
        {
         "hoverinfo": "text",
         "hovertext": [
          "Scaffold: 19<br>Score: 0.0952<br>Root: 19<br>Generation: 0"
         ],
         "marker": {
          "color": "lightgray",
          "line": {
           "color": "black",
           "width": 1
          },
          "size": 8
         },
         "mode": "markers",
         "name": "",
         "showlegend": false,
         "type": "scatter",
         "x": {
          "bdata": "/VmHIIhuqT8=",
          "dtype": "f8"
         },
         "y": {
          "bdata": "f1D5tCleuD8=",
          "dtype": "f8"
         }
        },
        {
         "hoverinfo": "text",
         "hovertext": [
          "Scaffold: 17<br>Score: 0.0447<br>Root: 17<br>Generation: 0"
         ],
         "marker": {
          "color": "lightgray",
          "line": {
           "color": "black",
           "width": 1
          },
          "size": 8
         },
         "mode": "markers",
         "name": "",
         "showlegend": false,
         "type": "scatter",
         "x": {
          "bdata": "/VmHIIhuqT8=",
          "dtype": "f8"
         },
         "y": {
          "bdata": "TbF+g4rjpj8=",
          "dtype": "f8"
         }
        },
        {
         "hoverinfo": "text",
         "hovertext": [
          "Scaffold: 15<br>Score: 0.0067<br>Root: 15<br>Generation: 0"
         ],
         "marker": {
          "color": "lightgray",
          "line": {
           "color": "black",
           "width": 1
          },
          "size": 8
         },
         "mode": "markers",
         "name": "",
         "showlegend": false,
         "type": "scatter",
         "x": {
          "bdata": "/VmHIIhuqT8=",
          "dtype": "f8"
         },
         "y": {
          "bdata": "oFxdI2ybez8=",
          "dtype": "f8"
         }
        },
        {
         "hoverinfo": "text",
         "hovertext": [
          "Scaffold: 9<br>Score: 0.0000<br>Root: 9<br>Generation: 0"
         ],
         "marker": {
          "color": "lightgray",
          "line": {
           "color": "black",
           "width": 1
          },
          "size": 8
         },
         "mode": "markers",
         "name": "",
         "showlegend": false,
         "type": "scatter",
         "x": {
          "bdata": "/VmHIIhuqT8=",
          "dtype": "f8"
         },
         "y": {
          "bdata": "AAAAAAAAAAA=",
          "dtype": "f8"
         }
        },
        {
         "hoverinfo": "text",
         "hovertext": [
          "Scaffold: 14<br>Score: 0.0000<br>Root: 14<br>Generation: 0"
         ],
         "marker": {
          "color": "lightgray",
          "line": {
           "color": "black",
           "width": 1
          },
          "size": 8
         },
         "mode": "markers",
         "name": "",
         "showlegend": false,
         "type": "scatter",
         "x": {
          "bdata": "/VmHIIhuqT8=",
          "dtype": "f8"
         },
         "y": {
          "bdata": "AAAAAAAAAAA=",
          "dtype": "f8"
         }
        },
        {
         "hoverinfo": "text",
         "hovertext": [
          "Scaffold: 16<br>Score: 0.0000<br>Root: 16<br>Generation: 0"
         ],
         "marker": {
          "color": "lightgray",
          "line": {
           "color": "black",
           "width": 1
          },
          "size": 8
         },
         "mode": "markers",
         "name": "",
         "showlegend": false,
         "type": "scatter",
         "x": {
          "bdata": "/VmHIIhuqT8=",
          "dtype": "f8"
         },
         "y": {
          "bdata": "AAAAAAAAAAA=",
          "dtype": "f8"
         }
        },
        {
         "hoverinfo": "text",
         "hovertext": [
          "Scaffold: 2<br>Score: 0.0000<br>Root: 2<br>Generation: 0"
         ],
         "marker": {
          "color": "lightgray",
          "line": {
           "color": "black",
           "width": 1
          },
          "size": 8
         },
         "mode": "markers",
         "name": "",
         "showlegend": false,
         "type": "scatter",
         "x": {
          "bdata": "/VmHIIhuqT8=",
          "dtype": "f8"
         },
         "y": {
          "bdata": "AAAAAAAAAAA=",
          "dtype": "f8"
         }
        },
        {
         "hoverinfo": "text",
         "hovertext": [
          "Scaffold: 3<br>Score: 0.0000<br>Root: 3<br>Generation: 0"
         ],
         "marker": {
          "color": "lightgray",
          "line": {
           "color": "black",
           "width": 1
          },
          "size": 8
         },
         "mode": "markers",
         "name": "",
         "showlegend": false,
         "type": "scatter",
         "x": {
          "bdata": "/VmHIIhuqT8=",
          "dtype": "f8"
         },
         "y": {
          "bdata": "AAAAAAAAAAA=",
          "dtype": "f8"
         }
        },
        {
         "hoverinfo": "text",
         "hovertext": [
          "Scaffold: 1-6<br>Score: 0.7839<br>Root: 1<br>Generation: 1",
          "Scaffold: 1-5<br>Score: 0.5704<br>Root: 1<br>Generation: 1",
          "Scaffold: 1-7<br>Score: 0.0868<br>Root: 1<br>Generation: 1",
          "Scaffold: 1-4<br>Score: 0.0000<br>Root: 1<br>Generation: 1",
          "Scaffold: 1-2<br>Score: 0.0000<br>Root: 1<br>Generation: 1",
          "Scaffold: 1-3<br>Score: 0.0000<br>Root: 1<br>Generation: 1",
          "Scaffold: 1-0<br>Score: 0.0000<br>Root: 1<br>Generation: 1",
          "Scaffold: 1-1<br>Score: 0.0000<br>Root: 1<br>Generation: 1"
         ],
         "marker": {
          "color": "rgb(190,186,218)",
          "line": {
           "color": "black",
           "width": 1
          },
          "size": 8
         },
         "mode": "markers",
         "name": "",
         "showlegend": false,
         "type": "scatter",
         "x": {
          "bdata": "0DoEQXTL8D8Sc9rfu47vP1KezhBLCfE/BJFmQdVv8j/Ym2p6LkDvP1LH1usxQO8/NKU5d9iG8j9mpCVdVzrxPw==",
          "dtype": "f8"
         },
         "y": {
          "bdata": "j/8svrkV6T9iSlCAxkDiP3nWECugN7Y/AAAAAAAAAAAAAAAAAAAAAAAAAAAAAAAAAAAAAAAAAAAAAAAAAAAAAA==",
          "dtype": "f8"
         }
        },
        {
         "hoverinfo": "text",
         "hovertext": [
          "Scaffold: 13-4<br>Score: 0.6610<br>Root: 13<br>Generation: 1",
          "Scaffold: 13-6<br>Score: 0.4945<br>Root: 13<br>Generation: 1",
          "Scaffold: 13-1<br>Score: 0.3006<br>Root: 13<br>Generation: 1",
          "Scaffold: 13-8<br>Score: 0.1330<br>Root: 13<br>Generation: 1",
          "Scaffold: 13-7<br>Score: 0.0000<br>Root: 13<br>Generation: 1",
          "Scaffold: 13-0<br>Score: 0.0000<br>Root: 13<br>Generation: 1",
          "Scaffold: 13-3<br>Score: 0.0000<br>Root: 13<br>Generation: 1",
          "Scaffold: 13-2<br>Score: 0.0000<br>Root: 13<br>Generation: 1",
          "Scaffold: 13-5<br>Score: 0.0000<br>Root: 13<br>Generation: 1"
         ],
         "marker": {
          "color": "rgb(128,177,211)",
          "line": {
           "color": "black",
           "width": 1
          },
          "size": 8
         },
         "mode": "markers",
         "name": "",
         "showlegend": false,
         "type": "scatter",
         "x": {
          "bdata": "0DoEQXTL8D8Sc9rfu47vP1KezhBLCfE/BJFmQdVv8j/Ym2p6LkDvP1LH1usxQO8/NKU5d9iG8j9mpCVdVzrxP9+E0xVof+4/",
          "dtype": "f8"
         },
         "y": {
          "bdata": "lRJV8YYm5T+GP8XDN6bfPzZ1XHNtPdM/BXlKkKcEwT8AAAAAAAAAAAAAAAAAAAAAAAAAAAAAAAAAAAAAAAAAAAAAAAAAAAAA",
          "dtype": "f8"
         }
        },
        {
         "hoverinfo": "text",
         "hovertext": [
          "Scaffold: 8-0<br>Score: 0.6487<br>Root: 8<br>Generation: 1",
          "Scaffold: 8-3<br>Score: 0.6271<br>Root: 8<br>Generation: 1",
          "Scaffold: 8-2<br>Score: 0.5395<br>Root: 8<br>Generation: 1",
          "Scaffold: 8-1<br>Score: 0.0347<br>Root: 8<br>Generation: 1"
         ],
         "marker": {
          "color": "rgb(179,222,105)",
          "line": {
           "color": "black",
           "width": 1
          },
          "size": 8
         },
         "mode": "markers",
         "name": "",
         "showlegend": false,
         "type": "scatter",
         "x": {
          "bdata": "0DoEQXTL8D8Sc9rfu47vP1KezhBLCfE/BJFmQdVv8j8=",
          "dtype": "f8"
         },
         "y": {
          "bdata": "vi/pC2bC5D8Fn+KnKhHkP1z5t0ScQ+E/pUqLOJjBoT8=",
          "dtype": "f8"
         }
        },
        {
         "hoverinfo": "text",
         "hovertext": [
          "Scaffold: 5-1<br>Score: 0.6152<br>Root: 5<br>Generation: 1",
          "Scaffold: 5-0<br>Score: 0.1528<br>Root: 5<br>Generation: 1",
          "Scaffold: 5-2<br>Score: 0.0000<br>Root: 5<br>Generation: 1"
         ],
         "marker": {
          "color": "rgb(255,255,179)",
          "line": {
           "color": "black",
           "width": 1
          },
          "size": 8
         },
         "mode": "markers",
         "name": "",
         "showlegend": false,
         "type": "scatter",
         "x": {
          "bdata": "0DoEQXTL8D8Sc9rfu47vP1KezhBLCfE/",
          "dtype": "f8"
         },
         "y": {
          "bdata": "Futxmfqv4z8kqX4FLY7DPwAAAAAAAAAA",
          "dtype": "f8"
         }
        },
        {
         "hoverinfo": "text",
         "hovertext": [
          "Scaffold: 12-0<br>Score: 0.5687<br>Root: 12<br>Generation: 1",
          "Scaffold: 12-4<br>Score: 0.5385<br>Root: 12<br>Generation: 1",
          "Scaffold: 12-3<br>Score: 0.5246<br>Root: 12<br>Generation: 1",
          "Scaffold: 12-2<br>Score: 0.4935<br>Root: 12<br>Generation: 1",
          "Scaffold: 12-1<br>Score: 0.0074<br>Root: 12<br>Generation: 1"
         ],
         "marker": {
          "color": "rgb(141,211,199)",
          "line": {
           "color": "black",
           "width": 1
          },
          "size": 8
         },
         "mode": "markers",
         "name": "",
         "showlegend": false,
         "type": "scatter",
         "x": {
          "bdata": "0DoEQXTL8D8Sc9rfu47vP1KezhBLCfE/BJFmQdVv8j/Ym2p6LkDvPw==",
          "dtype": "f8"
         },
         "y": {
          "bdata": "5n78eMwy4j9lU4n/vzvhP1MVujSZyeA/tYcw7GCV3z+LIrH31Hp+Pw==",
          "dtype": "f8"
         }
        },
        {
         "hoverinfo": "text",
         "hovertext": [
          "Scaffold: 6-1<br>Score: 0.5615<br>Root: 6<br>Generation: 1",
          "Scaffold: 6-0<br>Score: 0.5000<br>Root: 6<br>Generation: 1"
         ],
         "marker": {
          "color": "rgb(253,180,98)",
          "line": {
           "color": "black",
           "width": 1
          },
          "size": 8
         },
         "mode": "markers",
         "name": "",
         "showlegend": false,
         "type": "scatter",
         "x": {
          "bdata": "0DoEQXTL8D8Sc9rfu47vPw==",
          "dtype": "f8"
         },
         "y": {
          "bdata": "RfGKa4z34T8grD2cnP/fPw==",
          "dtype": "f8"
         }
        },
        {
         "hoverinfo": "text",
         "hovertext": [
          "Scaffold: 4-0<br>Score: 0.0449<br>Root: 4<br>Generation: 1"
         ],
         "marker": {
          "color": "rgb(252,205,229)",
          "line": {
           "color": "black",
           "width": 1
          },
          "size": 8
         },
         "mode": "markers",
         "name": "",
         "showlegend": false,
         "type": "scatter",
         "x": {
          "bdata": "0DoEQXTL8D8=",
          "dtype": "f8"
         },
         "y": {
          "bdata": "4tBAbv/6pj8=",
          "dtype": "f8"
         }
        },
        {
         "hoverinfo": "text",
         "hovertext": [
          "Scaffold: 11-2<br>Score: 0.0021<br>Root: 11<br>Generation: 1",
          "Scaffold: 11-1<br>Score: 0.0000<br>Root: 11<br>Generation: 1",
          "Scaffold: 11-0<br>Score: 0.0000<br>Root: 11<br>Generation: 1",
          "Scaffold: 11-3<br>Score: 0.0000<br>Root: 11<br>Generation: 1"
         ],
         "marker": {
          "color": "lightgray",
          "line": {
           "color": "black",
           "width": 1
          },
          "size": 8
         },
         "mode": "markers",
         "name": "",
         "showlegend": false,
         "type": "scatter",
         "x": {
          "bdata": "0DoEQXTL8D8Sc9rfu47vP1KezhBLCfE/BJFmQdVv8j8=",
          "dtype": "f8"
         },
         "y": {
          "bdata": "hhFA+uKFYT8AAAAAAAAAAAAAAAAAAAAAAAAAAAAAAAA=",
          "dtype": "f8"
         }
        },
        {
         "hoverinfo": "text",
         "hovertext": [
          "Scaffold: 0-0<br>Score: 0.0011<br>Root: 0<br>Generation: 1"
         ],
         "marker": {
          "color": "lightgray",
          "line": {
           "color": "black",
           "width": 1
          },
          "size": 8
         },
         "mode": "markers",
         "name": "",
         "showlegend": false,
         "type": "scatter",
         "x": {
          "bdata": "0DoEQXTL8D8=",
          "dtype": "f8"
         },
         "y": {
          "bdata": "hhFA+uKFUT8=",
          "dtype": "f8"
         }
        },
        {
         "hoverinfo": "text",
         "hovertext": [
          "Scaffold: 10-0<br>Score: 0.0000<br>Root: 10<br>Generation: 1"
         ],
         "marker": {
          "color": "rgb(251,128,114)",
          "line": {
           "color": "black",
           "width": 1
          },
          "size": 8
         },
         "mode": "markers",
         "name": "",
         "showlegend": false,
         "type": "scatter",
         "x": {
          "bdata": "0DoEQXTL8D8=",
          "dtype": "f8"
         },
         "y": {
          "bdata": "AAAAAAAAAAA=",
          "dtype": "f8"
         }
        },
        {
         "hoverinfo": "text",
         "hovertext": [
          "Scaffold: 5-1-1<br>Score: 0.7758<br>Root: 5<br>Generation: 2",
          "Scaffold: 5-1-2<br>Score: 0.7655<br>Root: 5<br>Generation: 2",
          "Scaffold: 5-1-0<br>Score: 0.0000<br>Root: 5<br>Generation: 2"
         ],
         "marker": {
          "color": "rgb(255,255,179)",
          "line": {
           "color": "black",
           "width": 1
          },
          "size": 8
         },
         "mode": "markers",
         "name": "",
         "showlegend": false,
         "type": "scatter",
         "x": {
          "bdata": "aB2CILplAECJOe3vXcf/PylPZ4ilhABA",
          "dtype": "f8"
         },
         "y": {
          "bdata": "NZMw73vT6D/fbMRrm37oPwAAAAAAAAAA",
          "dtype": "f8"
         }
        },
        {
         "hoverinfo": "text",
         "hovertext": [
          "Scaffold: 1-6-1<br>Score: 0.7213<br>Root: 1<br>Generation: 2",
          "Scaffold: 1-6-0<br>Score: 0.0000<br>Root: 1<br>Generation: 2"
         ],
         "marker": {
          "color": "rgb(190,186,218)",
          "line": {
           "color": "black",
           "width": 1
          },
          "size": 8
         },
         "mode": "markers",
         "name": "",
         "showlegend": false,
         "type": "scatter",
         "x": {
          "bdata": "aB2CILplAECJOe3vXcf/Pw==",
          "dtype": "f8"
         },
         "y": {
          "bdata": "/aT9zeoU5z8AAAAAAAAAAA==",
          "dtype": "f8"
         }
        },
        {
         "hoverinfo": "text",
         "hovertext": [
          "Scaffold: 12-0-3<br>Score: 0.6716<br>Root: 12<br>Generation: 2",
          "Scaffold: 12-0-1<br>Score: 0.1005<br>Root: 12<br>Generation: 2",
          "Scaffold: 12-0-2<br>Score: 0.0000<br>Root: 12<br>Generation: 2",
          "Scaffold: 12-0-0<br>Score: 0.0000<br>Root: 12<br>Generation: 2"
         ],
         "marker": {
          "color": "rgb(141,211,199)",
          "line": {
           "color": "black",
           "width": 1
          },
          "size": 8
         },
         "mode": "markers",
         "name": "",
         "showlegend": false,
         "type": "scatter",
         "x": {
          "bdata": "aB2CILplAECJOe3vXcf/PylPZ4ilhABAgkizoOo3AUA=",
          "dtype": "f8"
         },
         "y": {
          "bdata": "CD60dPB95T+9GY5fpby5PwAAAAAAAAAAAAAAAAAAAAA=",
          "dtype": "f8"
         }
        },
        {
         "hoverinfo": "text",
         "hovertext": [
          "Scaffold: 8-2-0<br>Score: 0.6360<br>Root: 8<br>Generation: 2",
          "Scaffold: 8-0-0<br>Score: 0.0838<br>Root: 8<br>Generation: 2",
          "Scaffold: 8-0-2<br>Score: 0.0404<br>Root: 8<br>Generation: 2",
          "Scaffold: 8-0-1<br>Score: 0.0000<br>Root: 8<br>Generation: 2",
          "Scaffold: 8-0-5<br>Score: 0.0000<br>Root: 8<br>Generation: 2",
          "Scaffold: 8-3-1<br>Score: 0.0000<br>Root: 8<br>Generation: 2",
          "Scaffold: 8-0-3<br>Score: 0.0000<br>Root: 8<br>Generation: 2",
          "Scaffold: 8-0-4<br>Score: 0.0000<br>Root: 8<br>Generation: 2",
          "Scaffold: 8-3-0<br>Score: 0.0000<br>Root: 8<br>Generation: 2"
         ],
         "marker": {
          "color": "rgb(179,222,105)",
          "line": {
           "color": "black",
           "width": 1
          },
          "size": 8
         },
         "mode": "markers",
         "name": "",
         "showlegend": false,
         "type": "scatter",
         "x": {
          "bdata": "aB2CILplAECJOe3vXcf/PylPZ4ilhABAgkizoOo3AUDsTTU9F6D/P6lj6/UYoP8/mtKcO2xDAUAz0pKuK50AQHDC6Qq0P/8/",
          "dtype": "f8"
         },
         "y": {
          "bdata": "yBegU0Za5D8avjidzXa1P5jPbhzfrKQ/AAAAAAAAAAAAAAAAAAAAAAAAAAAAAAAAAAAAAAAAAAAAAAAAAAAAAAAAAAAAAAAA",
          "dtype": "f8"
         }
        },
        {
         "hoverinfo": "text",
         "hovertext": [
          "Scaffold: 13-4-0<br>Score: 0.5901<br>Root: 13<br>Generation: 2",
          "Scaffold: 13-4-1<br>Score: 0.0000<br>Root: 13<br>Generation: 2"
         ],
         "marker": {
          "color": "rgb(128,177,211)",
          "line": {
           "color": "black",
           "width": 1
          },
          "size": 8
         },
         "mode": "markers",
         "name": "",
         "showlegend": false,
         "type": "scatter",
         "x": {
          "bdata": "aB2CILplAECJOe3vXcf/Pw==",
          "dtype": "f8"
         },
         "y": {
          "bdata": "86CMR/bh4j8AAAAAAAAAAA==",
          "dtype": "f8"
         }
        },
        {
         "hoverinfo": "text",
         "hovertext": [
          "Scaffold: 6-0-0<br>Score: 0.0000<br>Root: 6<br>Generation: 2",
          "Scaffold: 6-1-1<br>Score: 0.0000<br>Root: 6<br>Generation: 2",
          "Scaffold: 6-1-2<br>Score: 0.0000<br>Root: 6<br>Generation: 2",
          "Scaffold: 6-1-0<br>Score: 0.0000<br>Root: 6<br>Generation: 2"
         ],
         "marker": {
          "color": "rgb(253,180,98)",
          "line": {
           "color": "black",
           "width": 1
          },
          "size": 8
         },
         "mode": "markers",
         "name": "",
         "showlegend": false,
         "type": "scatter",
         "x": {
          "bdata": "aB2CILplAECJOe3vXcf/PylPZ4ilhABAgkizoOo3AUA=",
          "dtype": "f8"
         },
         "y": {
          "bdata": "AAAAAAAAAAAAAAAAAAAAAAAAAAAAAAAAAAAAAAAAAAA=",
          "dtype": "f8"
         }
        },
        {
         "hoverinfo": "text",
         "hovertext": [
          "Scaffold: 5-1-2-0<br>Score: 0.7996<br>Root: 5<br>Generation: 3",
          "Scaffold: 5-1-2-1<br>Score: 0.7719<br>Root: 5<br>Generation: 3",
          "Scaffold: 5-1-1-0<br>Score: 0.7714<br>Root: 5<br>Generation: 3",
          "Scaffold: 5-1-1-4<br>Score: 0.7643<br>Root: 5<br>Generation: 3",
          "Scaffold: 5-1-1-2<br>Score: 0.6298<br>Root: 5<br>Generation: 3",
          "Scaffold: 5-1-2-2<br>Score: 0.5383<br>Root: 5<br>Generation: 3",
          "Scaffold: 5-1-2-3<br>Score: 0.0000<br>Root: 5<br>Generation: 3",
          "Scaffold: 5-1-1-3<br>Score: 0.0000<br>Root: 5<br>Generation: 3",
          "Scaffold: 5-1-1-1<br>Score: 0.0000<br>Root: 5<br>Generation: 3"
         ],
         "marker": {
          "color": "rgb(255,255,179)",
          "line": {
           "color": "black",
           "width": 1
          },
          "size": 8
         },
         "mode": "markers",
         "name": "",
         "showlegend": false,
         "type": "scatter",
         "x": {
          "bdata": "aB2CILplCEDFnPb3ruMHQClPZ4ilhAhAgkizoOo3CUD2ppqeC9AHQNSx9XoM0AdAmtKcO2xDCUAz0pKuK50IQDjhdAXanwdA",
          "dtype": "f8"
         },
         "y": {
          "bdata": "FIfMgDmW6T+OixBJdLPoP4+OK4dvr+g/4o+MEUp16D8X9DY2cCfkP1bI5KsdOuE/AAAAAAAAAAAAAAAAAAAAAAAAAAAAAAAA",
          "dtype": "f8"
         }
        },
        {
         "hoverinfo": "text",
         "hovertext": [
          "Scaffold: 12-0-3-1<br>Score: 0.6887<br>Root: 12<br>Generation: 3",
          "Scaffold: 12-0-3-0<br>Score: 0.0000<br>Root: 12<br>Generation: 3"
         ],
         "marker": {
          "color": "rgb(141,211,199)",
          "line": {
           "color": "black",
           "width": 1
          },
          "size": 8
         },
         "mode": "markers",
         "name": "",
         "showlegend": false,
         "type": "scatter",
         "x": {
          "bdata": "aB2CILplCEDFnPb3ruMHQA==",
          "dtype": "f8"
         },
         "y": {
          "bdata": "oFPjUh0K5j8AAAAAAAAAAA==",
          "dtype": "f8"
         }
        },
        {
         "hoverinfo": "text",
         "hovertext": [
          "Scaffold: 8-2-0-2<br>Score: 0.6180<br>Root: 8<br>Generation: 3",
          "Scaffold: 8-2-0-0<br>Score: 0.0225<br>Root: 8<br>Generation: 3",
          "Scaffold: 8-2-0-1<br>Score: 0.0000<br>Root: 8<br>Generation: 3"
         ],
         "marker": {
          "color": "rgb(179,222,105)",
          "line": {
           "color": "black",
           "width": 1
          },
          "size": 8
         },
         "mode": "markers",
         "name": "",
         "showlegend": false,
         "type": "scatter",
         "x": {
          "bdata": "aB2CILplCEDFnPb3ruMHQClPZ4ilhAhA",
          "dtype": "f8"
         },
         "y": {
          "bdata": "tk15G+HG4z8TGUmPCQuXPwAAAAAAAAAA",
          "dtype": "f8"
         }
        },
        {
         "hoverinfo": "text",
         "hovertext": [
          "Scaffold: 5-1-2-0-0<br>Score: 0.7485<br>Root: 5<br>Generation: 4",
          "Scaffold: 5-1-2-1-1<br>Score: 0.7465<br>Root: 5<br>Generation: 4",
          "Scaffold: 5-1-1-0-3<br>Score: 0.6205<br>Root: 5<br>Generation: 4",
          "Scaffold: 5-1-1-0-2<br>Score: 0.3188<br>Root: 5<br>Generation: 4",
          "Scaffold: 5-1-2-1-0<br>Score: 0.0977<br>Root: 5<br>Generation: 4",
          "Scaffold: 5-1-2-0-1<br>Score: 0.0000<br>Root: 5<br>Generation: 4",
          "Scaffold: 5-1-1-0-1<br>Score: 0.0000<br>Root: 5<br>Generation: 4",
          "Scaffold: 5-1-2-0-2<br>Score: 0.0000<br>Root: 5<br>Generation: 4",
          "Scaffold: 5-1-1-0-0<br>Score: 0.0000<br>Root: 5<br>Generation: 4"
         ],
         "marker": {
          "color": "rgb(255,255,179)",
          "line": {
           "color": "black",
           "width": 1
          },
          "size": 8
         },
         "mode": "markers",
         "name": "",
         "showlegend": false,
         "type": "scatter",
         "x": {
          "bdata": "tA5BEN0yEEDFnPb3ruMPQJSnM8RSQhBAQaRZUPWbEED2ppqeC9APQNSx9XoM0A9ATWnOHbahEEAZaUnXlU4QQDjhdAXanw9A",
          "dtype": "f8"
         },
         "y": {
          "bdata": "rvApG6Pz5z8hB1gJquPnP/iA+jV52+M/Zjh+lfJm1D8Ky+PM0gK5PwAAAAAAAAAAAAAAAAAAAAAAAAAAAAAAAAAAAAAAAAAA",
          "dtype": "f8"
         }
        },
        {
         "hoverinfo": "text",
         "hovertext": [
          "Scaffold: 12-0-3-1-0<br>Score: 0.6707<br>Root: 12<br>Generation: 4",
          "Scaffold: 12-0-3-1-1<br>Score: 0.4934<br>Root: 12<br>Generation: 4"
         ],
         "marker": {
          "color": "rgb(141,211,199)",
          "line": {
           "color": "black",
           "width": 1
          },
          "size": 8
         },
         "mode": "markers",
         "name": "",
         "showlegend": false,
         "type": "scatter",
         "x": {
          "bdata": "tA5BEN0yEEDFnPb3ruMPQA==",
          "dtype": "f8"
         },
         "y": {
          "bdata": "YvYJiZF25T+O0tELw5PfPw==",
          "dtype": "f8"
         }
        },
        {
         "hoverinfo": "text",
         "hovertext": [
          "Scaffold: 5-1-2-0-0-0<br>Score: 0.7559<br>Root: 5<br>Generation: 5",
          "Scaffold: 5-1-2-0-0-1<br>Score: 0.0479<br>Root: 5<br>Generation: 5"
         ],
         "marker": {
          "color": "rgb(255,255,179)",
          "line": {
           "color": "black",
           "width": 1
          },
          "size": 8
         },
         "mode": "markers",
         "name": "",
         "showlegend": false,
         "type": "scatter",
         "x": {
          "bdata": "tA5BEN0yFEBiTvt71/ETQA==",
          "dtype": "f8"
         },
         "y": {
          "bdata": "AJZeXAow6D8xJP4oBYKoPw==",
          "dtype": "f8"
         }
        },
        {
         "hoverinfo": "text",
         "hovertext": [
          "Scaffold: 5-1-2-0-0-0-0<br>Score: 0.0000<br>Root: 5<br>Generation: 6"
         ],
         "marker": {
          "color": "rgb(255,255,179)",
          "line": {
           "color": "black",
           "width": 1
          },
          "size": 8
         },
         "mode": "markers",
         "name": "",
         "showlegend": false,
         "type": "scatter",
         "x": {
          "bdata": "tA5BEN0yGEA=",
          "dtype": "f8"
         },
         "y": {
          "bdata": "AAAAAAAAAAA=",
          "dtype": "f8"
         }
        }
       ],
       "layout": {
        "height": 600,
        "legend": {
         "title": {
          "text": "Top Root Ancestors"
         }
        },
        "showlegend": true,
        "template": {
         "data": {
          "bar": [
           {
            "error_x": {
             "color": "#2a3f5f"
            },
            "error_y": {
             "color": "#2a3f5f"
            },
            "marker": {
             "line": {
              "color": "#E5ECF6",
              "width": 0.5
             },
             "pattern": {
              "fillmode": "overlay",
              "size": 10,
              "solidity": 0.2
             }
            },
            "type": "bar"
           }
          ],
          "barpolar": [
           {
            "marker": {
             "line": {
              "color": "#E5ECF6",
              "width": 0.5
             },
             "pattern": {
              "fillmode": "overlay",
              "size": 10,
              "solidity": 0.2
             }
            },
            "type": "barpolar"
           }
          ],
          "carpet": [
           {
            "aaxis": {
             "endlinecolor": "#2a3f5f",
             "gridcolor": "white",
             "linecolor": "white",
             "minorgridcolor": "white",
             "startlinecolor": "#2a3f5f"
            },
            "baxis": {
             "endlinecolor": "#2a3f5f",
             "gridcolor": "white",
             "linecolor": "white",
             "minorgridcolor": "white",
             "startlinecolor": "#2a3f5f"
            },
            "type": "carpet"
           }
          ],
          "choropleth": [
           {
            "colorbar": {
             "outlinewidth": 0,
             "ticks": ""
            },
            "type": "choropleth"
           }
          ],
          "contour": [
           {
            "colorbar": {
             "outlinewidth": 0,
             "ticks": ""
            },
            "colorscale": [
             [
              0,
              "#0d0887"
             ],
             [
              0.1111111111111111,
              "#46039f"
             ],
             [
              0.2222222222222222,
              "#7201a8"
             ],
             [
              0.3333333333333333,
              "#9c179e"
             ],
             [
              0.4444444444444444,
              "#bd3786"
             ],
             [
              0.5555555555555556,
              "#d8576b"
             ],
             [
              0.6666666666666666,
              "#ed7953"
             ],
             [
              0.7777777777777778,
              "#fb9f3a"
             ],
             [
              0.8888888888888888,
              "#fdca26"
             ],
             [
              1,
              "#f0f921"
             ]
            ],
            "type": "contour"
           }
          ],
          "contourcarpet": [
           {
            "colorbar": {
             "outlinewidth": 0,
             "ticks": ""
            },
            "type": "contourcarpet"
           }
          ],
          "heatmap": [
           {
            "colorbar": {
             "outlinewidth": 0,
             "ticks": ""
            },
            "colorscale": [
             [
              0,
              "#0d0887"
             ],
             [
              0.1111111111111111,
              "#46039f"
             ],
             [
              0.2222222222222222,
              "#7201a8"
             ],
             [
              0.3333333333333333,
              "#9c179e"
             ],
             [
              0.4444444444444444,
              "#bd3786"
             ],
             [
              0.5555555555555556,
              "#d8576b"
             ],
             [
              0.6666666666666666,
              "#ed7953"
             ],
             [
              0.7777777777777778,
              "#fb9f3a"
             ],
             [
              0.8888888888888888,
              "#fdca26"
             ],
             [
              1,
              "#f0f921"
             ]
            ],
            "type": "heatmap"
           }
          ],
          "histogram": [
           {
            "marker": {
             "pattern": {
              "fillmode": "overlay",
              "size": 10,
              "solidity": 0.2
             }
            },
            "type": "histogram"
           }
          ],
          "histogram2d": [
           {
            "colorbar": {
             "outlinewidth": 0,
             "ticks": ""
            },
            "colorscale": [
             [
              0,
              "#0d0887"
             ],
             [
              0.1111111111111111,
              "#46039f"
             ],
             [
              0.2222222222222222,
              "#7201a8"
             ],
             [
              0.3333333333333333,
              "#9c179e"
             ],
             [
              0.4444444444444444,
              "#bd3786"
             ],
             [
              0.5555555555555556,
              "#d8576b"
             ],
             [
              0.6666666666666666,
              "#ed7953"
             ],
             [
              0.7777777777777778,
              "#fb9f3a"
             ],
             [
              0.8888888888888888,
              "#fdca26"
             ],
             [
              1,
              "#f0f921"
             ]
            ],
            "type": "histogram2d"
           }
          ],
          "histogram2dcontour": [
           {
            "colorbar": {
             "outlinewidth": 0,
             "ticks": ""
            },
            "colorscale": [
             [
              0,
              "#0d0887"
             ],
             [
              0.1111111111111111,
              "#46039f"
             ],
             [
              0.2222222222222222,
              "#7201a8"
             ],
             [
              0.3333333333333333,
              "#9c179e"
             ],
             [
              0.4444444444444444,
              "#bd3786"
             ],
             [
              0.5555555555555556,
              "#d8576b"
             ],
             [
              0.6666666666666666,
              "#ed7953"
             ],
             [
              0.7777777777777778,
              "#fb9f3a"
             ],
             [
              0.8888888888888888,
              "#fdca26"
             ],
             [
              1,
              "#f0f921"
             ]
            ],
            "type": "histogram2dcontour"
           }
          ],
          "mesh3d": [
           {
            "colorbar": {
             "outlinewidth": 0,
             "ticks": ""
            },
            "type": "mesh3d"
           }
          ],
          "parcoords": [
           {
            "line": {
             "colorbar": {
              "outlinewidth": 0,
              "ticks": ""
             }
            },
            "type": "parcoords"
           }
          ],
          "pie": [
           {
            "automargin": true,
            "type": "pie"
           }
          ],
          "scatter": [
           {
            "fillpattern": {
             "fillmode": "overlay",
             "size": 10,
             "solidity": 0.2
            },
            "type": "scatter"
           }
          ],
          "scatter3d": [
           {
            "line": {
             "colorbar": {
              "outlinewidth": 0,
              "ticks": ""
             }
            },
            "marker": {
             "colorbar": {
              "outlinewidth": 0,
              "ticks": ""
             }
            },
            "type": "scatter3d"
           }
          ],
          "scattercarpet": [
           {
            "marker": {
             "colorbar": {
              "outlinewidth": 0,
              "ticks": ""
             }
            },
            "type": "scattercarpet"
           }
          ],
          "scattergeo": [
           {
            "marker": {
             "colorbar": {
              "outlinewidth": 0,
              "ticks": ""
             }
            },
            "type": "scattergeo"
           }
          ],
          "scattergl": [
           {
            "marker": {
             "colorbar": {
              "outlinewidth": 0,
              "ticks": ""
             }
            },
            "type": "scattergl"
           }
          ],
          "scattermap": [
           {
            "marker": {
             "colorbar": {
              "outlinewidth": 0,
              "ticks": ""
             }
            },
            "type": "scattermap"
           }
          ],
          "scattermapbox": [
           {
            "marker": {
             "colorbar": {
              "outlinewidth": 0,
              "ticks": ""
             }
            },
            "type": "scattermapbox"
           }
          ],
          "scatterpolar": [
           {
            "marker": {
             "colorbar": {
              "outlinewidth": 0,
              "ticks": ""
             }
            },
            "type": "scatterpolar"
           }
          ],
          "scatterpolargl": [
           {
            "marker": {
             "colorbar": {
              "outlinewidth": 0,
              "ticks": ""
             }
            },
            "type": "scatterpolargl"
           }
          ],
          "scatterternary": [
           {
            "marker": {
             "colorbar": {
              "outlinewidth": 0,
              "ticks": ""
             }
            },
            "type": "scatterternary"
           }
          ],
          "surface": [
           {
            "colorbar": {
             "outlinewidth": 0,
             "ticks": ""
            },
            "colorscale": [
             [
              0,
              "#0d0887"
             ],
             [
              0.1111111111111111,
              "#46039f"
             ],
             [
              0.2222222222222222,
              "#7201a8"
             ],
             [
              0.3333333333333333,
              "#9c179e"
             ],
             [
              0.4444444444444444,
              "#bd3786"
             ],
             [
              0.5555555555555556,
              "#d8576b"
             ],
             [
              0.6666666666666666,
              "#ed7953"
             ],
             [
              0.7777777777777778,
              "#fb9f3a"
             ],
             [
              0.8888888888888888,
              "#fdca26"
             ],
             [
              1,
              "#f0f921"
             ]
            ],
            "type": "surface"
           }
          ],
          "table": [
           {
            "cells": {
             "fill": {
              "color": "#EBF0F8"
             },
             "line": {
              "color": "white"
             }
            },
            "header": {
             "fill": {
              "color": "#C8D4E3"
             },
             "line": {
              "color": "white"
             }
            },
            "type": "table"
           }
          ]
         },
         "layout": {
          "annotationdefaults": {
           "arrowcolor": "#2a3f5f",
           "arrowhead": 0,
           "arrowwidth": 1
          },
          "autotypenumbers": "strict",
          "coloraxis": {
           "colorbar": {
            "outlinewidth": 0,
            "ticks": ""
           }
          },
          "colorscale": {
           "diverging": [
            [
             0,
             "#8e0152"
            ],
            [
             0.1,
             "#c51b7d"
            ],
            [
             0.2,
             "#de77ae"
            ],
            [
             0.3,
             "#f1b6da"
            ],
            [
             0.4,
             "#fde0ef"
            ],
            [
             0.5,
             "#f7f7f7"
            ],
            [
             0.6,
             "#e6f5d0"
            ],
            [
             0.7,
             "#b8e186"
            ],
            [
             0.8,
             "#7fbc41"
            ],
            [
             0.9,
             "#4d9221"
            ],
            [
             1,
             "#276419"
            ]
           ],
           "sequential": [
            [
             0,
             "#0d0887"
            ],
            [
             0.1111111111111111,
             "#46039f"
            ],
            [
             0.2222222222222222,
             "#7201a8"
            ],
            [
             0.3333333333333333,
             "#9c179e"
            ],
            [
             0.4444444444444444,
             "#bd3786"
            ],
            [
             0.5555555555555556,
             "#d8576b"
            ],
            [
             0.6666666666666666,
             "#ed7953"
            ],
            [
             0.7777777777777778,
             "#fb9f3a"
            ],
            [
             0.8888888888888888,
             "#fdca26"
            ],
            [
             1,
             "#f0f921"
            ]
           ],
           "sequentialminus": [
            [
             0,
             "#0d0887"
            ],
            [
             0.1111111111111111,
             "#46039f"
            ],
            [
             0.2222222222222222,
             "#7201a8"
            ],
            [
             0.3333333333333333,
             "#9c179e"
            ],
            [
             0.4444444444444444,
             "#bd3786"
            ],
            [
             0.5555555555555556,
             "#d8576b"
            ],
            [
             0.6666666666666666,
             "#ed7953"
            ],
            [
             0.7777777777777778,
             "#fb9f3a"
            ],
            [
             0.8888888888888888,
             "#fdca26"
            ],
            [
             1,
             "#f0f921"
            ]
           ]
          },
          "colorway": [
           "#636efa",
           "#EF553B",
           "#00cc96",
           "#ab63fa",
           "#FFA15A",
           "#19d3f3",
           "#FF6692",
           "#B6E880",
           "#FF97FF",
           "#FECB52"
          ],
          "font": {
           "color": "#2a3f5f"
          },
          "geo": {
           "bgcolor": "white",
           "lakecolor": "white",
           "landcolor": "#E5ECF6",
           "showlakes": true,
           "showland": true,
           "subunitcolor": "white"
          },
          "hoverlabel": {
           "align": "left"
          },
          "hovermode": "closest",
          "mapbox": {
           "style": "light"
          },
          "paper_bgcolor": "white",
          "plot_bgcolor": "#E5ECF6",
          "polar": {
           "angularaxis": {
            "gridcolor": "white",
            "linecolor": "white",
            "ticks": ""
           },
           "bgcolor": "#E5ECF6",
           "radialaxis": {
            "gridcolor": "white",
            "linecolor": "white",
            "ticks": ""
           }
          },
          "scene": {
           "xaxis": {
            "backgroundcolor": "#E5ECF6",
            "gridcolor": "white",
            "gridwidth": 2,
            "linecolor": "white",
            "showbackground": true,
            "ticks": "",
            "zerolinecolor": "white"
           },
           "yaxis": {
            "backgroundcolor": "#E5ECF6",
            "gridcolor": "white",
            "gridwidth": 2,
            "linecolor": "white",
            "showbackground": true,
            "ticks": "",
            "zerolinecolor": "white"
           },
           "zaxis": {
            "backgroundcolor": "#E5ECF6",
            "gridcolor": "white",
            "gridwidth": 2,
            "linecolor": "white",
            "showbackground": true,
            "ticks": "",
            "zerolinecolor": "white"
           }
          },
          "shapedefaults": {
           "line": {
            "color": "#2a3f5f"
           }
          },
          "ternary": {
           "aaxis": {
            "gridcolor": "white",
            "linecolor": "white",
            "ticks": ""
           },
           "baxis": {
            "gridcolor": "white",
            "linecolor": "white",
            "ticks": ""
           },
           "bgcolor": "#E5ECF6",
           "caxis": {
            "gridcolor": "white",
            "linecolor": "white",
            "ticks": ""
           }
          },
          "title": {
           "x": 0.05
          },
          "xaxis": {
           "automargin": true,
           "gridcolor": "white",
           "linecolor": "white",
           "ticks": "",
           "title": {
            "standoff": 15
           },
           "zerolinecolor": "white",
           "zerolinewidth": 2
          },
          "yaxis": {
           "automargin": true,
           "gridcolor": "white",
           "linecolor": "white",
           "ticks": "",
           "title": {
            "standoff": 15
           },
           "zerolinecolor": "white",
           "zerolinewidth": 2
          }
         }
        },
        "title": {
         "text": "Interactive Score Distribution by Generation Depth<br><sub>Hover over points to see scaffold details. Same data as violin plot above.</sub>"
        },
        "width": 1000,
        "xaxis": {
         "tickmode": "array",
         "ticktext": [
          "Gen 0",
          "Gen 1",
          "Gen 2",
          "Gen 3",
          "Gen 4",
          "Gen 5",
          "Gen 6"
         ],
         "tickvals": [
          0,
          1,
          2,
          3,
          4,
          5,
          6
         ],
         "title": {
          "text": "Generation Depth"
         }
        },
        "yaxis": {
         "title": {
          "text": "Mean Score"
         }
        }
       }
      }
     },
     "metadata": {},
     "output_type": "display_data"
    },
    {
     "name": "stdout",
     "output_type": "stream",
     "text": [
      "\n",
      "Score statistics by generation:\n",
      "            count      mean       std       min       max\n",
      "generation                                               \n",
      "0              20  0.275641  0.267209  0.000000  0.721408\n",
      "1              38  0.233960  0.278245  0.000000  0.783902\n",
      "2              24  0.182711  0.304278  0.000000  0.775816\n",
      "3              14  0.400332  0.363108  0.000000  0.799588\n",
      "4              11  0.336016  0.326364  0.000000  0.748491\n",
      "5               2  0.401866  0.500630  0.047867  0.755864\n",
      "6               1  0.000000       NaN  0.000000  0.000000\n"
     ]
    }
   ],
   "source": [
    "# Violin plot with matplotlib + plotly overlay - CONFIGURABLE PARAMETERS\n",
    "VIOLIN_WIDTH = 16             # Plot width\n",
    "VIOLIN_HEIGHT = 10            # Plot height  \n",
    "SCATTER_SIZE = 30             # Size of scatter points\n",
    "SCATTER_ALPHA = 0.8           # Transparency of scatter points\n",
    "JITTER_STRENGTH = 0.1         # Amount of horizontal jitter for scatter points\n",
    "VIOLIN_ALPHA = 0.6            # Transparency of violin plots\n",
    "\n",
    "# Create matplotlib violin plot (looks better)\n",
    "fig_mpl, ax_mpl = plt.subplots(1, 1, figsize=(VIOLIN_WIDTH, VIOLIN_HEIGHT))\n",
    "\n",
    "# Create violin plot with matplotlib\n",
    "violin_data_by_gen = [plot_df[plot_df['generation'] == gen]['score'].values \n",
    "                      for gen in sorted(plot_df['generation'].unique())]\n",
    "positions = list(sorted(plot_df['generation'].unique()))\n",
    "\n",
    "parts = ax_mpl.violinplot(violin_data_by_gen, positions=positions, \n",
    "                         widths=0.7, showmeans=True, showmedians=True)\n",
    "\n",
    "# Color the violin plots\n",
    "for pc in parts['bodies']:\n",
    "    pc.set_facecolor('lightblue')\n",
    "    pc.set_alpha(VIOLIN_ALPHA)\n",
    "\n",
    "# Add scatter plot overlay with jitter\n",
    "np.random.seed(42)  # For reproducible jitter\n",
    "for gen in sorted(plot_df['generation'].unique()):\n",
    "    gen_data = plot_df[plot_df['generation'] == gen]\n",
    "    \n",
    "    for root in gen_data['root'].unique():\n",
    "        root_data = gen_data[gen_data['root'] == root]\n",
    "        \n",
    "        # Get color for this root (from earlier color mapping)\n",
    "        if root in root_colors:\n",
    "            color = root_colors[root]\n",
    "        else:\n",
    "            color = 'lightgray'\n",
    "        \n",
    "        # Add jitter to x-position\n",
    "        x_jitter = np.random.normal(gen, JITTER_STRENGTH, len(root_data))\n",
    "        \n",
    "        ax_mpl.scatter(x_jitter, root_data['score'], \n",
    "                      color=color, \n",
    "                      alpha=SCATTER_ALPHA, \n",
    "                      s=SCATTER_SIZE, \n",
    "                      label=f'Root {root}' if gen == 0 and root in top_roots[:8] else '',\n",
    "                      edgecolors='black', \n",
    "                      linewidth=0.5)\n",
    "\n",
    "# Formatting matplotlib plot\n",
    "ax_mpl.set_xlabel('Generation Depth', fontsize=14)\n",
    "ax_mpl.set_ylabel('Score', fontsize=14)\n",
    "ax_mpl.set_title('Score Distribution by Generation Depth\\n(Violin plots + scatter colored by root ancestor)', \n",
    "                fontsize=16, fontweight='bold')\n",
    "\n",
    "# Set x-axis ticks\n",
    "generations = sorted(plot_df['generation'].unique())\n",
    "ax_mpl.set_xticks(generations)\n",
    "ax_mpl.set_xticklabels([f'Gen {g}' for g in generations])\n",
    "ax_mpl.grid(True, alpha=0.3)\n",
    "\n",
    "# Create legend for top roots only\n",
    "legend_elements = []\n",
    "for root in top_roots[:8]:\n",
    "    legend_elements.append(plt.Line2D([0], [0], marker='o', color='w', \n",
    "                                     markerfacecolor=root_colors[root], \n",
    "                                     markersize=8, label=f'Root {root}'))\n",
    "\n",
    "ax_mpl.legend(handles=legend_elements, loc='upper right', fontsize=10, \n",
    "             title='Top Root Ancestors', title_fontsize=12)\n",
    "\n",
    "plt.tight_layout()\n",
    "plt.show()\n",
    "\n",
    "# Now create a plotly version for hover interactivity\n",
    "fig_plotly = go.Figure()\n",
    "\n",
    "# Add scatter points with hover for each generation/root combination\n",
    "for gen in sorted(plot_df['generation'].unique()):\n",
    "    gen_data = plot_df[plot_df['generation'] == gen]\n",
    "    \n",
    "    for root in gen_data['root'].unique():\n",
    "        root_data = gen_data[gen_data['root'] == root]\n",
    "        \n",
    "        # Get color for this root\n",
    "        if root in plotly_root_colors:\n",
    "            color = plotly_root_colors[root]\n",
    "        else:\n",
    "            color = 'lightgray'\n",
    "        \n",
    "        # Add jitter to x-position (same seed for consistency)\n",
    "        np.random.seed(42)\n",
    "        x_jitter = np.random.normal(gen, JITTER_STRENGTH, len(root_data))\n",
    "        \n",
    "        # Create hover text\n",
    "        hover_text = [f\"Scaffold: {row['scaffold_id']}<br>\"\n",
    "                     f\"Score: {row['score']:.4f}<br>\"\n",
    "                     f\"Root: {row['root']}<br>\"\n",
    "                     f\"Generation: {row['generation']}\"\n",
    "                     for _, row in root_data.iterrows()]\n",
    "        \n",
    "        show_in_legend = bool(gen == 0 and root in top_roots[:8])\n",
    "        \n",
    "        fig_plotly.add_trace(go.Scatter(\n",
    "            x=x_jitter,\n",
    "            y=root_data['score'],\n",
    "            mode='markers',\n",
    "            marker=dict(\n",
    "                color=color,\n",
    "                size=8,\n",
    "                line=dict(width=1, color='black')\n",
    "            ),\n",
    "            name=f'Root {root}' if show_in_legend else '',\n",
    "            hovertext=hover_text,\n",
    "            hoverinfo='text',\n",
    "            showlegend=show_in_legend\n",
    "        ))\n",
    "\n",
    "fig_plotly.update_layout(\n",
    "    title='Interactive Score Distribution by Generation Depth<br><sub>Hover over points to see scaffold details. Same data as violin plot above.</sub>',\n",
    "    xaxis_title='Generation Depth',\n",
    "    yaxis_title='Mean Score',\n",
    "    width=1000,\n",
    "    height=600,\n",
    "    showlegend=True,\n",
    "    legend=dict(title='Top Root Ancestors'),\n",
    "    xaxis=dict(tickmode='array', \n",
    "               tickvals=generations, \n",
    "               ticktext=[f'Gen {g}' for g in generations])\n",
    ")\n",
    "\n",
    "fig_plotly.show()\n",
    "\n",
    "# Print statistics by generation\n",
    "print(\"\\nScore statistics by generation:\")\n",
    "generation_stats = plot_df.groupby('generation')['score'].agg(['count', 'mean', 'std', 'min', 'max'])\n",
    "print(generation_stats)"
   ]
  },
  {
   "cell_type": "markdown",
   "metadata": {},
   "source": [
    "## 3. Parent-Child Score Improvement Analysis\n",
    "\n",
    "This scatter plot shows whether evolution generally improves performance. Points above the diagonal line represent improvements over the parent scaffold."
   ]
  },
  {
   "cell_type": "code",
   "execution_count": 95,
   "metadata": {},
   "outputs": [
    {
     "name": "stdout",
     "output_type": "stream",
     "text": [
      "Found 90 parent-child pairs\n",
      "Improvements: 13 positive, 77 negative\n",
      "Average improvement: -0.3900\n"
     ]
    }
   ],
   "source": [
    "# Prepare parent-child comparison data\n",
    "parent_child_data = []\n",
    "for _, row in df.iterrows():\n",
    "    if row['parent_id'] is not None and row['parent_id'] in data:\n",
    "        parent_score = data[row['parent_id']]['mean_score']\n",
    "        child_score = row['mean_score']\n",
    "        improvement = child_score - parent_score\n",
    "        \n",
    "        parent_child_data.append({\n",
    "            'parent_id': row['parent_id'],\n",
    "            'child_id': row['scaffold_id'],\n",
    "            'parent_score': parent_score,\n",
    "            'child_score': child_score,\n",
    "            'improvement': improvement,\n",
    "            'generation': row['generation'],\n",
    "            'root': row['root'],\n",
    "            'parent_generation': row['generation'] - 1\n",
    "        })\n",
    "\n",
    "pc_df = pd.DataFrame(parent_child_data)\n",
    "print(f\"Found {len(pc_df)} parent-child pairs\")\n",
    "print(f\"Improvements: {(pc_df['improvement'] > 0).sum()} positive, {(pc_df['improvement'] < 0).sum()} negative\")\n",
    "print(f\"Average improvement: {pc_df['improvement'].mean():.4f}\")"
   ]
  },
  {
   "cell_type": "code",
   "execution_count": 96,
   "metadata": {},
   "outputs": [
    {
     "data": {
      "application/vnd.plotly.v1+json": {
       "config": {
        "plotlyServerURL": "https://plot.ly"
       },
       "data": [
        {
         "hoverinfo": "text",
         "hovertext": [
          "Child: 5-1-2-0<br>Parent: 5-1-2<br>Parent Score: 0.7655<br>Child Score: 0.7996<br>Improvement: 0.0341<br>Generation: 3<br>Root: 5",
          "Child: 1-6<br>Parent: 1<br>Parent Score: 0.6728<br>Child Score: 0.7839<br>Improvement: 0.1111<br>Generation: 1<br>Root: 1",
          "Child: 5-1-1<br>Parent: 5-1<br>Parent Score: 0.6152<br>Child Score: 0.7758<br>Improvement: 0.1606<br>Generation: 2<br>Root: 5",
          "Child: 5-1-2-1<br>Parent: 5-1-2<br>Parent Score: 0.7655<br>Child Score: 0.7719<br>Improvement: 0.0065<br>Generation: 3<br>Root: 5",
          "Child: 5-1-1-0<br>Parent: 5-1-1<br>Parent Score: 0.7758<br>Child Score: 0.7714<br>Improvement: -0.0044<br>Generation: 3<br>Root: 5",
          "Child: 5-1-2<br>Parent: 5-1<br>Parent Score: 0.6152<br>Child Score: 0.7655<br>Improvement: 0.1502<br>Generation: 2<br>Root: 5",
          "Child: 5-1-1-4<br>Parent: 5-1-1<br>Parent Score: 0.7758<br>Child Score: 0.7643<br>Improvement: -0.0115<br>Generation: 3<br>Root: 5",
          "Child: 5-1-2-0-0-0<br>Parent: 5-1-2-0-0<br>Parent Score: 0.7485<br>Child Score: 0.7559<br>Improvement: 0.0074<br>Generation: 5<br>Root: 5",
          "Child: 5-1-2-0-0<br>Parent: 5-1-2-0<br>Parent Score: 0.7996<br>Child Score: 0.7485<br>Improvement: -0.0511<br>Generation: 4<br>Root: 5",
          "Child: 5-1-2-1-1<br>Parent: 5-1-2-1<br>Parent Score: 0.7719<br>Child Score: 0.7465<br>Improvement: -0.0254<br>Generation: 4<br>Root: 5",
          "Child: 1-6-1<br>Parent: 1-6<br>Parent Score: 0.7839<br>Child Score: 0.7213<br>Improvement: -0.0626<br>Generation: 2<br>Root: 1",
          "Child: 12-0-3-1<br>Parent: 12-0-3<br>Parent Score: 0.6716<br>Child Score: 0.6887<br>Improvement: 0.0171<br>Generation: 3<br>Root: 12",
          "Child: 12-0-3<br>Parent: 12-0<br>Parent Score: 0.5687<br>Child Score: 0.6716<br>Improvement: 0.1029<br>Generation: 2<br>Root: 12",
          "Child: 12-0-3-1-0<br>Parent: 12-0-3-1<br>Parent Score: 0.6887<br>Child Score: 0.6707<br>Improvement: -0.0180<br>Generation: 4<br>Root: 12",
          "Child: 13-4<br>Parent: 13<br>Parent Score: 0.7214<br>Child Score: 0.6610<br>Improvement: -0.0605<br>Generation: 1<br>Root: 13",
          "Child: 8-0<br>Parent: 8<br>Parent Score: 0.5414<br>Child Score: 0.6487<br>Improvement: 0.1074<br>Generation: 1<br>Root: 8",
          "Child: 8-2-0<br>Parent: 8-2<br>Parent Score: 0.5395<br>Child Score: 0.6360<br>Improvement: 0.0965<br>Generation: 2<br>Root: 8",
          "Child: 5-1-1-2<br>Parent: 5-1-1<br>Parent Score: 0.7758<br>Child Score: 0.6298<br>Improvement: -0.1460<br>Generation: 3<br>Root: 5",
          "Child: 8-3<br>Parent: 8<br>Parent Score: 0.5414<br>Child Score: 0.6271<br>Improvement: 0.0857<br>Generation: 1<br>Root: 8",
          "Child: 5-1-1-0-3<br>Parent: 5-1-1-0<br>Parent Score: 0.7714<br>Child Score: 0.6205<br>Improvement: -0.1509<br>Generation: 4<br>Root: 5",
          "Child: 8-2-0-2<br>Parent: 8-2-0<br>Parent Score: 0.6360<br>Child Score: 0.6180<br>Improvement: -0.0180<br>Generation: 3<br>Root: 8",
          "Child: 5-1<br>Parent: 5<br>Parent Score: 0.5140<br>Child Score: 0.6152<br>Improvement: 0.1012<br>Generation: 1<br>Root: 5",
          "Child: 13-4-0<br>Parent: 13-4<br>Parent Score: 0.6610<br>Child Score: 0.5901<br>Improvement: -0.0709<br>Generation: 2<br>Root: 13",
          "Child: 1-5<br>Parent: 1<br>Parent Score: 0.6728<br>Child Score: 0.5704<br>Improvement: -0.1024<br>Generation: 1<br>Root: 1",
          "Child: 12-0<br>Parent: 12<br>Parent Score: 0.5852<br>Child Score: 0.5687<br>Improvement: -0.0165<br>Generation: 1<br>Root: 12",
          "Child: 6-1<br>Parent: 6<br>Parent Score: 0.5124<br>Child Score: 0.5615<br>Improvement: 0.0491<br>Generation: 1<br>Root: 6",
          "Child: 8-2<br>Parent: 8<br>Parent Score: 0.5414<br>Child Score: 0.5395<br>Improvement: -0.0019<br>Generation: 1<br>Root: 8",
          "Child: 12-4<br>Parent: 12<br>Parent Score: 0.5852<br>Child Score: 0.5385<br>Improvement: -0.0467<br>Generation: 1<br>Root: 12",
          "Child: 5-1-2-2<br>Parent: 5-1-2<br>Parent Score: 0.7655<br>Child Score: 0.5383<br>Improvement: -0.2271<br>Generation: 3<br>Root: 5",
          "Child: 12-3<br>Parent: 12<br>Parent Score: 0.5852<br>Child Score: 0.5246<br>Improvement: -0.0606<br>Generation: 1<br>Root: 12",
          "Child: 6-0<br>Parent: 6<br>Parent Score: 0.5124<br>Child Score: 0.5000<br>Improvement: -0.0124<br>Generation: 1<br>Root: 6",
          "Child: 13-6<br>Parent: 13<br>Parent Score: 0.7214<br>Child Score: 0.4945<br>Improvement: -0.2269<br>Generation: 1<br>Root: 13",
          "Child: 12-2<br>Parent: 12<br>Parent Score: 0.5852<br>Child Score: 0.4935<br>Improvement: -0.0917<br>Generation: 1<br>Root: 12",
          "Child: 12-0-3-1-1<br>Parent: 12-0-3-1<br>Parent Score: 0.6887<br>Child Score: 0.4934<br>Improvement: -0.1953<br>Generation: 4<br>Root: 12",
          "Child: 5-1-1-0-2<br>Parent: 5-1-1-0<br>Parent Score: 0.7714<br>Child Score: 0.3188<br>Improvement: -0.4526<br>Generation: 4<br>Root: 5",
          "Child: 13-1<br>Parent: 13<br>Parent Score: 0.7214<br>Child Score: 0.3006<br>Improvement: -0.4208<br>Generation: 1<br>Root: 13",
          "Child: 5-0<br>Parent: 5<br>Parent Score: 0.5140<br>Child Score: 0.1528<br>Improvement: -0.3613<br>Generation: 1<br>Root: 5",
          "Child: 13-8<br>Parent: 13<br>Parent Score: 0.7214<br>Child Score: 0.1330<br>Improvement: -0.5885<br>Generation: 1<br>Root: 13",
          "Child: 12-0-1<br>Parent: 12-0<br>Parent Score: 0.5687<br>Child Score: 0.1005<br>Improvement: -0.4682<br>Generation: 2<br>Root: 12",
          "Child: 5-1-2-1-0<br>Parent: 5-1-2-1<br>Parent Score: 0.7719<br>Child Score: 0.0977<br>Improvement: -0.6742<br>Generation: 4<br>Root: 5",
          "Child: 1-7<br>Parent: 1<br>Parent Score: 0.6728<br>Child Score: 0.0868<br>Improvement: -0.5860<br>Generation: 1<br>Root: 1",
          "Child: 8-0-0<br>Parent: 8-0<br>Parent Score: 0.6487<br>Child Score: 0.0838<br>Improvement: -0.5649<br>Generation: 2<br>Root: 8",
          "Child: 5-1-2-0-0-1<br>Parent: 5-1-2-0-0<br>Parent Score: 0.7485<br>Child Score: 0.0479<br>Improvement: -0.7006<br>Generation: 5<br>Root: 5",
          "Child: 4-0<br>Parent: 4<br>Parent Score: 0.3646<br>Child Score: 0.0449<br>Improvement: -0.3198<br>Generation: 1<br>Root: 4",
          "Child: 8-0-2<br>Parent: 8-0<br>Parent Score: 0.6487<br>Child Score: 0.0404<br>Improvement: -0.6083<br>Generation: 2<br>Root: 8",
          "Child: 8-1<br>Parent: 8<br>Parent Score: 0.5414<br>Child Score: 0.0347<br>Improvement: -0.5067<br>Generation: 1<br>Root: 8",
          "Child: 8-2-0-0<br>Parent: 8-2-0<br>Parent Score: 0.6360<br>Child Score: 0.0225<br>Improvement: -0.6135<br>Generation: 3<br>Root: 8",
          "Child: 12-1<br>Parent: 12<br>Parent Score: 0.5852<br>Child Score: 0.0074<br>Improvement: -0.5778<br>Generation: 1<br>Root: 12",
          "Child: 11-2<br>Parent: 11<br>Parent Score: 0.5462<br>Child Score: 0.0021<br>Improvement: -0.5440<br>Generation: 1<br>Root: 11",
          "Child: 0-0<br>Parent: 0<br>Parent Score: 0.1791<br>Child Score: 0.0011<br>Improvement: -0.1780<br>Generation: 1<br>Root: 0",
          "Child: 11-1<br>Parent: 11<br>Parent Score: 0.5462<br>Child Score: 0.0000<br>Improvement: -0.5462<br>Generation: 1<br>Root: 11",
          "Child: 5-1-2-3<br>Parent: 5-1-2<br>Parent Score: 0.7655<br>Child Score: 0.0000<br>Improvement: -0.7655<br>Generation: 3<br>Root: 5",
          "Child: 5-1-1-3<br>Parent: 5-1-1<br>Parent Score: 0.7758<br>Child Score: 0.0000<br>Improvement: -0.7758<br>Generation: 3<br>Root: 5",
          "Child: 1-4<br>Parent: 1<br>Parent Score: 0.6728<br>Child Score: 0.0000<br>Improvement: -0.6728<br>Generation: 1<br>Root: 1",
          "Child: 11-0<br>Parent: 11<br>Parent Score: 0.5462<br>Child Score: 0.0000<br>Improvement: -0.5462<br>Generation: 1<br>Root: 11",
          "Child: 8-0-1<br>Parent: 8-0<br>Parent Score: 0.6487<br>Child Score: 0.0000<br>Improvement: -0.6487<br>Generation: 2<br>Root: 8",
          "Child: 1-6-0<br>Parent: 1-6<br>Parent Score: 0.7839<br>Child Score: 0.0000<br>Improvement: -0.7839<br>Generation: 2<br>Root: 1",
          "Child: 8-0-5<br>Parent: 8-0<br>Parent Score: 0.6487<br>Child Score: 0.0000<br>Improvement: -0.6487<br>Generation: 2<br>Root: 8",
          "Child: 5-1-2-0-1<br>Parent: 5-1-2-0<br>Parent Score: 0.7996<br>Child Score: 0.0000<br>Improvement: -0.7996<br>Generation: 4<br>Root: 5",
          "Child: 8-3-1<br>Parent: 8-3<br>Parent Score: 0.6271<br>Child Score: 0.0000<br>Improvement: -0.6271<br>Generation: 2<br>Root: 8",
          "Child: 8-0-3<br>Parent: 8-0<br>Parent Score: 0.6487<br>Child Score: 0.0000<br>Improvement: -0.6487<br>Generation: 2<br>Root: 8",
          "Child: 13-7<br>Parent: 13<br>Parent Score: 0.7214<br>Child Score: 0.0000<br>Improvement: -0.7214<br>Generation: 1<br>Root: 13",
          "Child: 12-0-3-0<br>Parent: 12-0-3<br>Parent Score: 0.6716<br>Child Score: 0.0000<br>Improvement: -0.6716<br>Generation: 3<br>Root: 12",
          "Child: 8-2-0-1<br>Parent: 8-2-0<br>Parent Score: 0.6360<br>Child Score: 0.0000<br>Improvement: -0.6360<br>Generation: 3<br>Root: 8",
          "Child: 10-0<br>Parent: 10<br>Parent Score: 0.4868<br>Child Score: 0.0000<br>Improvement: -0.4868<br>Generation: 1<br>Root: 10",
          "Child: 5-2<br>Parent: 5<br>Parent Score: 0.5140<br>Child Score: 0.0000<br>Improvement: -0.5140<br>Generation: 1<br>Root: 5",
          "Child: 13-0<br>Parent: 13<br>Parent Score: 0.7214<br>Child Score: 0.0000<br>Improvement: -0.7214<br>Generation: 1<br>Root: 13",
          "Child: 8-0-4<br>Parent: 8-0<br>Parent Score: 0.6487<br>Child Score: 0.0000<br>Improvement: -0.6487<br>Generation: 2<br>Root: 8",
          "Child: 12-0-2<br>Parent: 12-0<br>Parent Score: 0.5687<br>Child Score: 0.0000<br>Improvement: -0.5687<br>Generation: 2<br>Root: 12",
          "Child: 1-2<br>Parent: 1<br>Parent Score: 0.6728<br>Child Score: 0.0000<br>Improvement: -0.6728<br>Generation: 1<br>Root: 1",
          "Child: 5-1-0<br>Parent: 5-1<br>Parent Score: 0.6152<br>Child Score: 0.0000<br>Improvement: -0.6152<br>Generation: 2<br>Root: 5",
          "Child: 5-1-2-0-0-0-0<br>Parent: 5-1-2-0-0-0<br>Parent Score: 0.7559<br>Child Score: 0.0000<br>Improvement: -0.7559<br>Generation: 6<br>Root: 5",
          "Child: 11-3<br>Parent: 11<br>Parent Score: 0.5462<br>Child Score: 0.0000<br>Improvement: -0.5462<br>Generation: 1<br>Root: 11",
          "Child: 1-3<br>Parent: 1<br>Parent Score: 0.6728<br>Child Score: 0.0000<br>Improvement: -0.6728<br>Generation: 1<br>Root: 1",
          "Child: 12-0-0<br>Parent: 12-0<br>Parent Score: 0.5687<br>Child Score: 0.0000<br>Improvement: -0.5687<br>Generation: 2<br>Root: 12",
          "Child: 13-3<br>Parent: 13<br>Parent Score: 0.7214<br>Child Score: 0.0000<br>Improvement: -0.7214<br>Generation: 1<br>Root: 13",
          "Child: 6-0-0<br>Parent: 6-0<br>Parent Score: 0.5000<br>Child Score: 0.0000<br>Improvement: -0.5000<br>Generation: 2<br>Root: 6",
          "Child: 13-2<br>Parent: 13<br>Parent Score: 0.7214<br>Child Score: 0.0000<br>Improvement: -0.7214<br>Generation: 1<br>Root: 13",
          "Child: 6-1-1<br>Parent: 6-1<br>Parent Score: 0.5615<br>Child Score: 0.0000<br>Improvement: -0.5615<br>Generation: 2<br>Root: 6",
          "Child: 6-1-2<br>Parent: 6-1<br>Parent Score: 0.5615<br>Child Score: 0.0000<br>Improvement: -0.5615<br>Generation: 2<br>Root: 6",
          "Child: 1-0<br>Parent: 1<br>Parent Score: 0.6728<br>Child Score: 0.0000<br>Improvement: -0.6728<br>Generation: 1<br>Root: 1",
          "Child: 5-1-1-0-1<br>Parent: 5-1-1-0<br>Parent Score: 0.7714<br>Child Score: 0.0000<br>Improvement: -0.7714<br>Generation: 4<br>Root: 5",
          "Child: 5-1-1-1<br>Parent: 5-1-1<br>Parent Score: 0.7758<br>Child Score: 0.0000<br>Improvement: -0.7758<br>Generation: 3<br>Root: 5",
          "Child: 8-3-0<br>Parent: 8-3<br>Parent Score: 0.6271<br>Child Score: 0.0000<br>Improvement: -0.6271<br>Generation: 2<br>Root: 8",
          "Child: 13-4-1<br>Parent: 13-4<br>Parent Score: 0.6610<br>Child Score: 0.0000<br>Improvement: -0.6610<br>Generation: 2<br>Root: 13",
          "Child: 6-1-0<br>Parent: 6-1<br>Parent Score: 0.5615<br>Child Score: 0.0000<br>Improvement: -0.5615<br>Generation: 2<br>Root: 6",
          "Child: 13-5<br>Parent: 13<br>Parent Score: 0.7214<br>Child Score: 0.0000<br>Improvement: -0.7214<br>Generation: 1<br>Root: 13",
          "Child: 1-1<br>Parent: 1<br>Parent Score: 0.6728<br>Child Score: 0.0000<br>Improvement: -0.6728<br>Generation: 1<br>Root: 1",
          "Child: 5-1-2-0-2<br>Parent: 5-1-2-0<br>Parent Score: 0.7996<br>Child Score: 0.0000<br>Improvement: -0.7996<br>Generation: 4<br>Root: 5",
          "Child: 5-1-1-0-0<br>Parent: 5-1-1-0<br>Parent Score: 0.7714<br>Child Score: 0.0000<br>Improvement: -0.7714<br>Generation: 4<br>Root: 5"
         ],
         "marker": {
          "color": {
           "bdata": "AwECAwMCAwUEBAIDAgQBAQIDAQQDAQIBAQEBAQMBAQEBBAQBAQECBAECBQECAQMBAQEBAwMBAQICAgQCAgEDAwEBAQICAQIGAQECAQIBAgIBBAMCAgIBAQQE",
           "dtype": "i1"
          },
          "colorbar": {
           "title": {
            "text": "Child Generation"
           },
           "x": 0.45
          },
          "colorscale": [
           [
            0,
            "rgb(150,0,90)"
           ],
           [
            0.125,
            "rgb(0,0,200)"
           ],
           [
            0.25,
            "rgb(0,25,255)"
           ],
           [
            0.375,
            "rgb(0,152,255)"
           ],
           [
            0.5,
            "rgb(44,255,150)"
           ],
           [
            0.625,
            "rgb(151,255,0)"
           ],
           [
            0.75,
            "rgb(255,234,0)"
           ],
           [
            0.875,
            "rgb(255,111,0)"
           ],
           [
            1,
            "rgb(255,0,0)"
           ]
          ],
          "line": {
           "color": "black",
           "width": 1
          },
          "size": 8
         },
         "mode": "markers",
         "name": "Evolutions",
         "type": "scatter",
         "x": {
          "bdata": "32zEa5t+6D8yrp5gaIflPxbrcZn6r+M/32zEa5t+6D81kzDve9PoPxbrcZn6r+M/NZMw73vT6D+u8Ckbo/PnPxSHzIA5luk/josQSXSz6D+P/yy+uRXpPwg+tHTwfeU/5n78eMwy4j+gU+NSHQrmP0aB/hfHFec/a/FSa/FS4T9c+bdEnEPhPzWTMO970+g/a/FSa/FS4T+PjiuHb6/oP8gXoFNGWuQ/Irgddw1z4D+VElXxhiblPzKunmBoh+U/D3wu+B664j/zt3QSNGXgP2vxUmvxUuE/D3wu+B664j/fbMRrm37oPw98LvgeuuI/87d0EjRl4D9Ggf4XxxXnPw98LvgeuuI/oFPjUh0K5j+PjiuHb6/oP0aB/hfHFec/Irgddw1z4D9Ggf4XxxXnP+Z+/HjMMuI/josQSXSz6D8yrp5gaIflP74v6QtmwuQ/rvApG6Pz5z/Hd4w0KlbXP74v6QtmwuQ/a/FSa/FS4T/IF6BTRlrkPw98LvgeuuI//LcsYUt64T/IrdWZ8+zGP/y3LGFLeuE/32zEa5t+6D81kzDve9PoPzKunmBoh+U//LcsYUt64T++L+kLZsLkP4//LL65Fek/vi/pC2bC5D8Uh8yAOZbpPwWf4qcqEeQ/vi/pC2bC5D9Ggf4XxxXnPwg+tHTwfeU/yBegU0Za5D8KPKsSWyffPyK4HXcNc+A/RoH+F8cV5z++L+kLZsLkP+Z+/HjMMuI/Mq6eYGiH5T8W63GZ+q/jPwCWXlwKMOg//LcsYUt64T8yrp5gaIflP+Z+/HjMMuI/RoH+F8cV5z8grD2cnP/fP0aB/hfHFec/RfGKa4z34T9F8YprjPfhPzKunmBoh+U/j44rh2+v6D81kzDve9PoPwWf4qcqEeQ/lRJV8YYm5T9F8YprjPfhP0aB/hfHFec/Mq6eYGiH5T8Uh8yAOZbpP4+OK4dvr+g/",
          "dtype": "f8"
         },
         "xaxis": "x",
         "y": {
          "bdata": "FIfMgDmW6T+P/yy+uRXpPzWTMO970+g/josQSXSz6D+PjiuHb6/oP99sxGubfug/4o+MEUp16D8All5cCjDoP67wKRuj8+c/IQdYCarj5z/9pP3N6hTnP6BT41IdCuY/CD60dPB95T9i9gmJkXblP5USVfGGJuU/vi/pC2bC5D/IF6BTRlrkPxf0NjZwJ+Q/BZ/ipyoR5D/4gPo1edvjP7ZNeRvhxuM/Futxmfqv4z/zoIxH9uHiP2JKUIDGQOI/5n78eMwy4j9F8YprjPfhP1z5t0ScQ+E/ZVOJ/7874T9WyOSrHTrhP1MVujSZyeA/IKw9nJz/3z+GP8XDN6bfP7WHMOxgld8/jtLRC8OT3z9mOH6V8mbUPzZ1XHNtPdM/JKl+BS2Owz8FeUqQpwTBP70Zjl+lvLk/CsvjzNICuT951hAroDe2Pxq+OJ3NdrU/MST+KAWCqD/i0EBu//qmP5jPbhzfrKQ/pUqLOJjBoT8TGUmPCQuXP4sisffUen4/hhFA+uKFYT+GEUD64oVRPwAAAAAAAAAAAAAAAAAAAAAAAAAAAAAAAAAAAAAAAAAAAAAAAAAAAAAAAAAAAAAAAAAAAAAAAAAAAAAAAAAAAAAAAAAAAAAAAAAAAAAAAAAAAAAAAAAAAAAAAAAAAAAAAAAAAAAAAAAAAAAAAAAAAAAAAAAAAAAAAAAAAAAAAAAAAAAAAAAAAAAAAAAAAAAAAAAAAAAAAAAAAAAAAAAAAAAAAAAAAAAAAAAAAAAAAAAAAAAAAAAAAAAAAAAAAAAAAAAAAAAAAAAAAAAAAAAAAAAAAAAAAAAAAAAAAAAAAAAAAAAAAAAAAAAAAAAAAAAAAAAAAAAAAAAAAAAAAAAAAAAAAAAAAAAAAAAAAAAAAAAAAAAAAAAAAAAAAAAAAAAAAAAAAAAAAAAAAAAAAAAAAAAAAAAAAAAAAAAAAAAAAAAA",
          "dtype": "f8"
         },
         "yaxis": "y"
        },
        {
         "hoverinfo": "skip",
         "line": {
          "color": "red",
          "dash": "dash",
          "width": 2
         },
         "mode": "lines",
         "name": "No improvement line",
         "type": "scatter",
         "x": [
          0,
          0.7995879664997312
         ],
         "xaxis": "x",
         "y": [
          0,
          0.7995879664997312
         ],
         "yaxis": "y"
        },
        {
         "hoverinfo": "skip",
         "line": {
          "color": "blue",
          "width": 2
         },
         "mode": "lines",
         "name": "Trend line (slope=0.426)",
         "type": "scatter",
         "x": {
          "bdata": "yK3VmfPsxj/Hd4w0KlbXPwo8qxJbJ98/IKw9nJz/3z/zt3QSNGXgP/O3dBI0ZeA/Irgddw1z4D8iuB13DXPgPyK4HXcNc+A/XPm3RJxD4T9r8VJr8VLhP2vxUmvxUuE/a/FSa/FS4T9r8VJr8VLhP/y3LGFLeuE//LcsYUt64T/8tyxhS3rhP/y3LGFLeuE/RfGKa4z34T9F8YprjPfhP0XximuM9+E/5n78eMwy4j/mfvx4zDLiP+Z+/HjMMuI/5n78eMwy4j8PfC74HrriPw98LvgeuuI/D3wu+B664j8PfC74HrriPw98LvgeuuI/Futxmfqv4z8W63GZ+q/jPxbrcZn6r+M/BZ/ipyoR5D8Fn+KnKhHkP8gXoFNGWuQ/yBegU0Za5D/IF6BTRlrkP74v6QtmwuQ/vi/pC2bC5D++L+kLZsLkP74v6QtmwuQ/vi/pC2bC5D++L+kLZsLkP5USVfGGJuU/lRJV8YYm5T8IPrR08H3lPwg+tHTwfeU/Mq6eYGiH5T8yrp5gaIflPzKunmBoh+U/Mq6eYGiH5T8yrp5gaIflPzKunmBoh+U/Mq6eYGiH5T8yrp5gaIflP6BT41IdCuY/oFPjUh0K5j9Ggf4XxxXnP0aB/hfHFec/RoH+F8cV5z9Ggf4XxxXnP0aB/hfHFec/RoH+F8cV5z9Ggf4XxxXnP0aB/hfHFec/RoH+F8cV5z+u8Ckbo/PnP67wKRuj8+c/AJZeXAow6D/fbMRrm37oP99sxGubfug/32zEa5t+6D/fbMRrm37oP4+OK4dvr+g/j44rh2+v6D+PjiuHb6/oP4+OK4dvr+g/josQSXSz6D+OixBJdLPoPzWTMO970+g/NZMw73vT6D81kzDve9PoPzWTMO970+g/NZMw73vT6D+P/yy+uRXpP4//LL65Fek/FIfMgDmW6T8Uh8yAOZbpPxSHzIA5luk/",
          "dtype": "f8"
         },
         "xaxis": "x",
         "y": {
          "bdata": "jkZz/C11rj/YG49sVbjBP8pkMEGFX8g/iFY/uJIXyT8e2VNWK8TJPx7ZU1YrxMk/5Jv4Nb7byT/km/g1vtvJP+Sb+DW+28k/GDoZnL4+yz+UFYjl11jLP5QViOXXWMs/lBWI5ddYyz+UFYjl11jLP0sr2IXTm8s/SyvYhdObyz9LK9iF05vLP0sr2IXTm8s/ac07xwdxzD9pzTvHB3HMP2nNO8cHccw/stKcbuLVzD+y0pxu4tXMP7LSnG7i1cw/stKcbuLVzD+SmwH3ObzNP5KbAfc5vM0/kpsB9zm8zT+SmwH3ObzNP5KbAfc5vM0/T9koH7hezz9P2SgfuF7PP0/ZKB+4Xs8/YaoCJRMC0D9hqgIlEwLQP/rlVM1LQNA/+uVUzUtA0D/65VTNS0DQP30eFiHqmNA/fR4WIeqY0D99HhYh6pjQP30eFiHqmNA/fR4WIeqY0D99HhYh6pjQPzZu4PEh7tA/Nm7g8SHu0D98R70lhzjRP3xHvSWHONE/X0BbHZZA0T9fQFsdlkDRP19AWx2WQNE/X0BbHZZA0T9fQFsdlkDRP19AWx2WQNE/X0BbHZZA0T9fQFsdlkDRP9v/ekfUr9E/2/96R9Sv0T9lcxE+opPSP2VzET6ik9I/ZXMRPqKT0j9lcxE+opPSP2VzET6ik9I/ZXMRPqKT0j9lcxE+opPSP2VzET6ik9I/ZXMRPqKT0j/Rlu2RdFDTP9GW7ZF0UNM/Eya8I92D0z8lNbEYu8bTPyU1sRi7xtM/JTWxGLvG0z8lNbEYu8bTP3eQRsVJ8NM/d5BGxUnw0z93kEbFSfDTP3eQRsVJ8NM/cg0RVbXz0z9yDRFVtfPTP86dqPH3DtQ/zp2o8fcO1D/Onajx9w7UP86dqPH3DtQ/zp2o8fcO1D8xmyKCWEfUPzGbIoJYR9Q/SXeJprW01D9Jd4mmtbTUP0l3iaa1tNQ/",
          "dtype": "f8"
         },
         "yaxis": "y"
        },
        {
         "error_y": {
          "array": {
           "bdata": "IfKHX9Ug0z94nZ+AnsvRP6DDgckE7dM/hxWxWh2J0j+n5VUUrt/WPw==",
           "dtype": "f8"
          },
          "type": "data",
          "visible": true
         },
         "hovertemplate": "Parent Score Range: %{x:.3f}<br>Mean Improvement: %{y:.4f}<br>Count: %{text}<extra></extra>",
         "marker": {
          "color": [
           "red",
           "red",
           "red",
           "red",
           "red"
          ],
          "line": {
           "color": "black",
           "width": 1
          }
         },
         "name": "Improvement by bin",
         "opacity": 0.7,
         "text": {
          "bdata": "AAAAAAAALkAAAAAAAAAoQAAAAAAAADpAAAAAAAAAJkAAAAAAAAA3QA==",
          "dtype": "f8"
         },
         "type": "bar",
         "x": [
          0.52,
          0.5820000000000001,
          0.644,
          0.7065,
          0.769
         ],
         "xaxis": "x2",
         "y": {
          "bdata": "3W0fAlQNz78e8uyChTrVv7birWCNWN2/4VLIuYDF3b8hNGs05VDavw==",
          "dtype": "f8"
         },
         "yaxis": "y2"
        }
       ],
       "layout": {
        "annotations": [
         {
          "font": {
           "size": 16
          },
          "showarrow": false,
          "text": "Parent vs Child Score (All Evolutions)",
          "x": 0.27,
          "xanchor": "center",
          "xref": "paper",
          "y": 1,
          "yanchor": "bottom",
          "yref": "paper"
         },
         {
          "font": {
           "size": 16
          },
          "showarrow": false,
          "text": "Average Improvement by Parent Score Range",
          "x": 0.8200000000000001,
          "xanchor": "center",
          "xref": "paper",
          "y": 1,
          "yanchor": "bottom",
          "yref": "paper"
         }
        ],
        "height": 600,
        "shapes": [
         {
          "line": {
           "color": "black",
           "dash": "solid"
          },
          "type": "line",
          "x0": 0,
          "x1": 1,
          "xref": "x2 domain",
          "y0": 0,
          "y1": 0,
          "yref": "y2"
         }
        ],
        "showlegend": true,
        "template": {
         "data": {
          "bar": [
           {
            "error_x": {
             "color": "#2a3f5f"
            },
            "error_y": {
             "color": "#2a3f5f"
            },
            "marker": {
             "line": {
              "color": "#E5ECF6",
              "width": 0.5
             },
             "pattern": {
              "fillmode": "overlay",
              "size": 10,
              "solidity": 0.2
             }
            },
            "type": "bar"
           }
          ],
          "barpolar": [
           {
            "marker": {
             "line": {
              "color": "#E5ECF6",
              "width": 0.5
             },
             "pattern": {
              "fillmode": "overlay",
              "size": 10,
              "solidity": 0.2
             }
            },
            "type": "barpolar"
           }
          ],
          "carpet": [
           {
            "aaxis": {
             "endlinecolor": "#2a3f5f",
             "gridcolor": "white",
             "linecolor": "white",
             "minorgridcolor": "white",
             "startlinecolor": "#2a3f5f"
            },
            "baxis": {
             "endlinecolor": "#2a3f5f",
             "gridcolor": "white",
             "linecolor": "white",
             "minorgridcolor": "white",
             "startlinecolor": "#2a3f5f"
            },
            "type": "carpet"
           }
          ],
          "choropleth": [
           {
            "colorbar": {
             "outlinewidth": 0,
             "ticks": ""
            },
            "type": "choropleth"
           }
          ],
          "contour": [
           {
            "colorbar": {
             "outlinewidth": 0,
             "ticks": ""
            },
            "colorscale": [
             [
              0,
              "#0d0887"
             ],
             [
              0.1111111111111111,
              "#46039f"
             ],
             [
              0.2222222222222222,
              "#7201a8"
             ],
             [
              0.3333333333333333,
              "#9c179e"
             ],
             [
              0.4444444444444444,
              "#bd3786"
             ],
             [
              0.5555555555555556,
              "#d8576b"
             ],
             [
              0.6666666666666666,
              "#ed7953"
             ],
             [
              0.7777777777777778,
              "#fb9f3a"
             ],
             [
              0.8888888888888888,
              "#fdca26"
             ],
             [
              1,
              "#f0f921"
             ]
            ],
            "type": "contour"
           }
          ],
          "contourcarpet": [
           {
            "colorbar": {
             "outlinewidth": 0,
             "ticks": ""
            },
            "type": "contourcarpet"
           }
          ],
          "heatmap": [
           {
            "colorbar": {
             "outlinewidth": 0,
             "ticks": ""
            },
            "colorscale": [
             [
              0,
              "#0d0887"
             ],
             [
              0.1111111111111111,
              "#46039f"
             ],
             [
              0.2222222222222222,
              "#7201a8"
             ],
             [
              0.3333333333333333,
              "#9c179e"
             ],
             [
              0.4444444444444444,
              "#bd3786"
             ],
             [
              0.5555555555555556,
              "#d8576b"
             ],
             [
              0.6666666666666666,
              "#ed7953"
             ],
             [
              0.7777777777777778,
              "#fb9f3a"
             ],
             [
              0.8888888888888888,
              "#fdca26"
             ],
             [
              1,
              "#f0f921"
             ]
            ],
            "type": "heatmap"
           }
          ],
          "histogram": [
           {
            "marker": {
             "pattern": {
              "fillmode": "overlay",
              "size": 10,
              "solidity": 0.2
             }
            },
            "type": "histogram"
           }
          ],
          "histogram2d": [
           {
            "colorbar": {
             "outlinewidth": 0,
             "ticks": ""
            },
            "colorscale": [
             [
              0,
              "#0d0887"
             ],
             [
              0.1111111111111111,
              "#46039f"
             ],
             [
              0.2222222222222222,
              "#7201a8"
             ],
             [
              0.3333333333333333,
              "#9c179e"
             ],
             [
              0.4444444444444444,
              "#bd3786"
             ],
             [
              0.5555555555555556,
              "#d8576b"
             ],
             [
              0.6666666666666666,
              "#ed7953"
             ],
             [
              0.7777777777777778,
              "#fb9f3a"
             ],
             [
              0.8888888888888888,
              "#fdca26"
             ],
             [
              1,
              "#f0f921"
             ]
            ],
            "type": "histogram2d"
           }
          ],
          "histogram2dcontour": [
           {
            "colorbar": {
             "outlinewidth": 0,
             "ticks": ""
            },
            "colorscale": [
             [
              0,
              "#0d0887"
             ],
             [
              0.1111111111111111,
              "#46039f"
             ],
             [
              0.2222222222222222,
              "#7201a8"
             ],
             [
              0.3333333333333333,
              "#9c179e"
             ],
             [
              0.4444444444444444,
              "#bd3786"
             ],
             [
              0.5555555555555556,
              "#d8576b"
             ],
             [
              0.6666666666666666,
              "#ed7953"
             ],
             [
              0.7777777777777778,
              "#fb9f3a"
             ],
             [
              0.8888888888888888,
              "#fdca26"
             ],
             [
              1,
              "#f0f921"
             ]
            ],
            "type": "histogram2dcontour"
           }
          ],
          "mesh3d": [
           {
            "colorbar": {
             "outlinewidth": 0,
             "ticks": ""
            },
            "type": "mesh3d"
           }
          ],
          "parcoords": [
           {
            "line": {
             "colorbar": {
              "outlinewidth": 0,
              "ticks": ""
             }
            },
            "type": "parcoords"
           }
          ],
          "pie": [
           {
            "automargin": true,
            "type": "pie"
           }
          ],
          "scatter": [
           {
            "fillpattern": {
             "fillmode": "overlay",
             "size": 10,
             "solidity": 0.2
            },
            "type": "scatter"
           }
          ],
          "scatter3d": [
           {
            "line": {
             "colorbar": {
              "outlinewidth": 0,
              "ticks": ""
             }
            },
            "marker": {
             "colorbar": {
              "outlinewidth": 0,
              "ticks": ""
             }
            },
            "type": "scatter3d"
           }
          ],
          "scattercarpet": [
           {
            "marker": {
             "colorbar": {
              "outlinewidth": 0,
              "ticks": ""
             }
            },
            "type": "scattercarpet"
           }
          ],
          "scattergeo": [
           {
            "marker": {
             "colorbar": {
              "outlinewidth": 0,
              "ticks": ""
             }
            },
            "type": "scattergeo"
           }
          ],
          "scattergl": [
           {
            "marker": {
             "colorbar": {
              "outlinewidth": 0,
              "ticks": ""
             }
            },
            "type": "scattergl"
           }
          ],
          "scattermap": [
           {
            "marker": {
             "colorbar": {
              "outlinewidth": 0,
              "ticks": ""
             }
            },
            "type": "scattermap"
           }
          ],
          "scattermapbox": [
           {
            "marker": {
             "colorbar": {
              "outlinewidth": 0,
              "ticks": ""
             }
            },
            "type": "scattermapbox"
           }
          ],
          "scatterpolar": [
           {
            "marker": {
             "colorbar": {
              "outlinewidth": 0,
              "ticks": ""
             }
            },
            "type": "scatterpolar"
           }
          ],
          "scatterpolargl": [
           {
            "marker": {
             "colorbar": {
              "outlinewidth": 0,
              "ticks": ""
             }
            },
            "type": "scatterpolargl"
           }
          ],
          "scatterternary": [
           {
            "marker": {
             "colorbar": {
              "outlinewidth": 0,
              "ticks": ""
             }
            },
            "type": "scatterternary"
           }
          ],
          "surface": [
           {
            "colorbar": {
             "outlinewidth": 0,
             "ticks": ""
            },
            "colorscale": [
             [
              0,
              "#0d0887"
             ],
             [
              0.1111111111111111,
              "#46039f"
             ],
             [
              0.2222222222222222,
              "#7201a8"
             ],
             [
              0.3333333333333333,
              "#9c179e"
             ],
             [
              0.4444444444444444,
              "#bd3786"
             ],
             [
              0.5555555555555556,
              "#d8576b"
             ],
             [
              0.6666666666666666,
              "#ed7953"
             ],
             [
              0.7777777777777778,
              "#fb9f3a"
             ],
             [
              0.8888888888888888,
              "#fdca26"
             ],
             [
              1,
              "#f0f921"
             ]
            ],
            "type": "surface"
           }
          ],
          "table": [
           {
            "cells": {
             "fill": {
              "color": "#EBF0F8"
             },
             "line": {
              "color": "white"
             }
            },
            "header": {
             "fill": {
              "color": "#C8D4E3"
             },
             "line": {
              "color": "white"
             }
            },
            "type": "table"
           }
          ]
         },
         "layout": {
          "annotationdefaults": {
           "arrowcolor": "#2a3f5f",
           "arrowhead": 0,
           "arrowwidth": 1
          },
          "autotypenumbers": "strict",
          "coloraxis": {
           "colorbar": {
            "outlinewidth": 0,
            "ticks": ""
           }
          },
          "colorscale": {
           "diverging": [
            [
             0,
             "#8e0152"
            ],
            [
             0.1,
             "#c51b7d"
            ],
            [
             0.2,
             "#de77ae"
            ],
            [
             0.3,
             "#f1b6da"
            ],
            [
             0.4,
             "#fde0ef"
            ],
            [
             0.5,
             "#f7f7f7"
            ],
            [
             0.6,
             "#e6f5d0"
            ],
            [
             0.7,
             "#b8e186"
            ],
            [
             0.8,
             "#7fbc41"
            ],
            [
             0.9,
             "#4d9221"
            ],
            [
             1,
             "#276419"
            ]
           ],
           "sequential": [
            [
             0,
             "#0d0887"
            ],
            [
             0.1111111111111111,
             "#46039f"
            ],
            [
             0.2222222222222222,
             "#7201a8"
            ],
            [
             0.3333333333333333,
             "#9c179e"
            ],
            [
             0.4444444444444444,
             "#bd3786"
            ],
            [
             0.5555555555555556,
             "#d8576b"
            ],
            [
             0.6666666666666666,
             "#ed7953"
            ],
            [
             0.7777777777777778,
             "#fb9f3a"
            ],
            [
             0.8888888888888888,
             "#fdca26"
            ],
            [
             1,
             "#f0f921"
            ]
           ],
           "sequentialminus": [
            [
             0,
             "#0d0887"
            ],
            [
             0.1111111111111111,
             "#46039f"
            ],
            [
             0.2222222222222222,
             "#7201a8"
            ],
            [
             0.3333333333333333,
             "#9c179e"
            ],
            [
             0.4444444444444444,
             "#bd3786"
            ],
            [
             0.5555555555555556,
             "#d8576b"
            ],
            [
             0.6666666666666666,
             "#ed7953"
            ],
            [
             0.7777777777777778,
             "#fb9f3a"
            ],
            [
             0.8888888888888888,
             "#fdca26"
            ],
            [
             1,
             "#f0f921"
            ]
           ]
          },
          "colorway": [
           "#636efa",
           "#EF553B",
           "#00cc96",
           "#ab63fa",
           "#FFA15A",
           "#19d3f3",
           "#FF6692",
           "#B6E880",
           "#FF97FF",
           "#FECB52"
          ],
          "font": {
           "color": "#2a3f5f"
          },
          "geo": {
           "bgcolor": "white",
           "lakecolor": "white",
           "landcolor": "#E5ECF6",
           "showlakes": true,
           "showland": true,
           "subunitcolor": "white"
          },
          "hoverlabel": {
           "align": "left"
          },
          "hovermode": "closest",
          "mapbox": {
           "style": "light"
          },
          "paper_bgcolor": "white",
          "plot_bgcolor": "#E5ECF6",
          "polar": {
           "angularaxis": {
            "gridcolor": "white",
            "linecolor": "white",
            "ticks": ""
           },
           "bgcolor": "#E5ECF6",
           "radialaxis": {
            "gridcolor": "white",
            "linecolor": "white",
            "ticks": ""
           }
          },
          "scene": {
           "xaxis": {
            "backgroundcolor": "#E5ECF6",
            "gridcolor": "white",
            "gridwidth": 2,
            "linecolor": "white",
            "showbackground": true,
            "ticks": "",
            "zerolinecolor": "white"
           },
           "yaxis": {
            "backgroundcolor": "#E5ECF6",
            "gridcolor": "white",
            "gridwidth": 2,
            "linecolor": "white",
            "showbackground": true,
            "ticks": "",
            "zerolinecolor": "white"
           },
           "zaxis": {
            "backgroundcolor": "#E5ECF6",
            "gridcolor": "white",
            "gridwidth": 2,
            "linecolor": "white",
            "showbackground": true,
            "ticks": "",
            "zerolinecolor": "white"
           }
          },
          "shapedefaults": {
           "line": {
            "color": "#2a3f5f"
           }
          },
          "ternary": {
           "aaxis": {
            "gridcolor": "white",
            "linecolor": "white",
            "ticks": ""
           },
           "baxis": {
            "gridcolor": "white",
            "linecolor": "white",
            "ticks": ""
           },
           "bgcolor": "#E5ECF6",
           "caxis": {
            "gridcolor": "white",
            "linecolor": "white",
            "ticks": ""
           }
          },
          "title": {
           "x": 0.05
          },
          "xaxis": {
           "automargin": true,
           "gridcolor": "white",
           "linecolor": "white",
           "ticks": "",
           "title": {
            "standoff": 15
           },
           "zerolinecolor": "white",
           "zerolinewidth": 2
          },
          "yaxis": {
           "automargin": true,
           "gridcolor": "white",
           "linecolor": "white",
           "ticks": "",
           "title": {
            "standoff": 15
           },
           "zerolinecolor": "white",
           "zerolinewidth": 2
          }
         }
        },
        "title": {
         "text": "Parent-Child Score Improvement Analysis<br><sub>Left: Individual evolutions (hover for details). Right: Binned improvements.</sub>"
        },
        "width": 1400,
        "xaxis": {
         "anchor": "y",
         "domain": [
          0,
          0.54
         ],
         "title": {
          "text": "Parent Score"
         }
        },
        "xaxis2": {
         "anchor": "y2",
         "domain": [
          0.64,
          1
         ],
         "title": {
          "text": "Parent Score Range"
         }
        },
        "yaxis": {
         "anchor": "x",
         "domain": [
          0,
          1
         ],
         "title": {
          "text": "Child Score"
         }
        },
        "yaxis2": {
         "anchor": "x2",
         "domain": [
          0,
          1
         ],
         "title": {
          "text": "Average Score Improvement"
         }
        }
       }
      }
     },
     "metadata": {},
     "output_type": "display_data"
    },
    {
     "name": "stdout",
     "output_type": "stream",
     "text": [
      "\n",
      "Improvement analysis:\n",
      "Total evolutions: 90\n",
      "Positive improvements: 13 (14.4%)\n",
      "Negative improvements: 77 (85.6%)\n",
      "No change: 0\n",
      "Average improvement: -0.3900 ± 0.3143\n",
      "Median improvement: -0.5451\n",
      "\n",
      "Improvement by generation:\n",
      "            count      mean       std\n",
      "generation                           \n",
      "1              38 -0.364687  0.300876\n",
      "2              24 -0.437317  0.304887\n",
      "3              14 -0.327683  0.350089\n",
      "4              11 -0.428139  0.342992\n",
      "5               2 -0.346625  0.500630\n",
      "6               1 -0.755864       NaN\n"
     ]
    }
   ],
   "source": [
    "# Parent-child improvement analysis - CONFIGURABLE PARAMETERS\n",
    "PC_PLOT_WIDTH = 1400          # Total plot width\n",
    "PC_PLOT_HEIGHT = 600          # Plot height\n",
    "PC_SCATTER_SIZE = 8           # Size of scatter points\n",
    "PC_TREND_LINE_WIDTH = 2       # Trend line width\n",
    "PC_REF_LINE_WIDTH = 2         # Reference line width\n",
    "PC_BAR_OPACITY = 0.7          # Bar chart opacity\n",
    "\n",
    "# Create interactive parent-child improvement analysis with plotly\n",
    "from plotly.subplots import make_subplots\n",
    "\n",
    "# Create subplot layout\n",
    "fig = make_subplots(\n",
    "    rows=1, cols=2,\n",
    "    subplot_titles=('Parent vs Child Score (All Evolutions)', 'Average Improvement by Parent Score Range'),\n",
    "    column_widths=[0.6, 0.4]\n",
    ")\n",
    "\n",
    "# Left plot: Parent-child scatter\n",
    "hover_text = [f\"Child: {row['child_id']}<br>\"\n",
    "              f\"Parent: {row['parent_id']}<br>\"\n",
    "              f\"Parent Score: {row['parent_score']:.4f}<br>\"\n",
    "              f\"Child Score: {row['child_score']:.4f}<br>\"\n",
    "              f\"Improvement: {row['improvement']:.4f}<br>\"\n",
    "              f\"Generation: {row['generation']}<br>\"\n",
    "              f\"Root: {row['root']}\"\n",
    "              for _, row in pc_df.iterrows()]\n",
    "\n",
    "fig.add_trace(\n",
    "    go.Scatter(\n",
    "        x=pc_df['parent_score'],\n",
    "        y=pc_df['child_score'],\n",
    "        mode='markers',\n",
    "        marker=dict(\n",
    "            color=pc_df['generation'],\n",
    "            colorscale='rainbow',\n",
    "            size=PC_SCATTER_SIZE,\n",
    "            line=dict(width=1, color='black'),\n",
    "            colorbar=dict(title=\"Child Generation\", x=0.45)\n",
    "        ),\n",
    "        name='Evolutions',\n",
    "        hovertext=hover_text,\n",
    "        hoverinfo='text'\n",
    "    ),\n",
    "    row=1, col=1\n",
    ")\n",
    "\n",
    "# Add diagonal line (no improvement)\n",
    "min_score = min(pc_df['parent_score'].min(), pc_df['child_score'].min())\n",
    "max_score = max(pc_df['parent_score'].max(), pc_df['child_score'].max())\n",
    "\n",
    "fig.add_trace(\n",
    "    go.Scatter(\n",
    "        x=[min_score, max_score],\n",
    "        y=[min_score, max_score],\n",
    "        mode='lines',\n",
    "        line=dict(color='red', dash='dash', width=PC_REF_LINE_WIDTH),\n",
    "        name='No improvement line',\n",
    "        hoverinfo='skip'\n",
    "    ),\n",
    "    row=1, col=1\n",
    ")\n",
    "\n",
    "# Add trend line\n",
    "z = np.polyfit(pc_df['parent_score'], pc_df['child_score'], 1)\n",
    "trend_y = z[0] * pc_df['parent_score'].sort_values() + z[1]\n",
    "\n",
    "fig.add_trace(\n",
    "    go.Scatter(\n",
    "        x=pc_df['parent_score'].sort_values(),\n",
    "        y=trend_y,\n",
    "        mode='lines',\n",
    "        line=dict(color='blue', width=PC_TREND_LINE_WIDTH),\n",
    "        name=f'Trend line (slope={z[0]:.3f})',\n",
    "        hoverinfo='skip'\n",
    "    ),\n",
    "    row=1, col=1\n",
    ")\n",
    "\n",
    "# Right plot: Improvement by parent score range\n",
    "pc_df['parent_score_bin'] = pd.cut(pc_df['parent_score'], bins=10)\n",
    "improvement_by_bin = pc_df.groupby('parent_score_bin')['improvement'].agg(['mean', 'count', 'std'])\n",
    "improvement_by_bin = improvement_by_bin.dropna()\n",
    "\n",
    "bin_centers = [interval.mid for interval in improvement_by_bin.index]\n",
    "mean_improvements = improvement_by_bin['mean'].values\n",
    "counts = improvement_by_bin['count'].values\n",
    "stds = improvement_by_bin['std'].fillna(0).values\n",
    "\n",
    "colors = ['green' if x > 0 else 'red' for x in mean_improvements]\n",
    "\n",
    "fig.add_trace(\n",
    "    go.Bar(\n",
    "        x=bin_centers,\n",
    "        y=mean_improvements,\n",
    "        error_y=dict(type='data', array=stds, visible=True),\n",
    "        marker_color=colors,\n",
    "        marker_line=dict(color='black', width=1),\n",
    "        opacity=PC_BAR_OPACITY,\n",
    "        name='Improvement by bin',\n",
    "        hovertemplate='Parent Score Range: %{x:.3f}<br>Mean Improvement: %{y:.4f}<br>Count: %{text}<extra></extra>',\n",
    "        text=counts\n",
    "    ),\n",
    "    row=1, col=2\n",
    ")\n",
    "\n",
    "# Add horizontal line at y=0\n",
    "fig.add_hline(y=0, line_dash=\"solid\", line_color=\"black\", row=1, col=2)\n",
    "\n",
    "# Update layout\n",
    "fig.update_layout(\n",
    "    title='Parent-Child Score Improvement Analysis<br><sub>Left: Individual evolutions (hover for details). Right: Binned improvements.</sub>',\n",
    "    width=PC_PLOT_WIDTH,\n",
    "    height=PC_PLOT_HEIGHT,\n",
    "    showlegend=True\n",
    ")\n",
    "\n",
    "fig.update_xaxes(title_text=\"Parent Score\", row=1, col=1)\n",
    "fig.update_yaxes(title_text=\"Child Score\", row=1, col=1)\n",
    "fig.update_xaxes(title_text=\"Parent Score Range\", row=1, col=2)\n",
    "fig.update_yaxes(title_text=\"Average Score Improvement\", row=1, col=2)\n",
    "\n",
    "fig.show()\n",
    "\n",
    "# Print detailed improvement statistics\n",
    "print(\"\\nImprovement analysis:\")\n",
    "print(f\"Total evolutions: {len(pc_df)}\")\n",
    "print(f\"Positive improvements: {(pc_df['improvement'] > 0).sum()} ({(pc_df['improvement'] > 0).mean()*100:.1f}%)\")\n",
    "print(f\"Negative improvements: {(pc_df['improvement'] < 0).sum()} ({(pc_df['improvement'] < 0).mean()*100:.1f}%)\")\n",
    "print(f\"No change: {(pc_df['improvement'] == 0).sum()}\")\n",
    "print(f\"Average improvement: {pc_df['improvement'].mean():.4f} ± {pc_df['improvement'].std():.4f}\")\n",
    "print(f\"Median improvement: {pc_df['improvement'].median():.4f}\")\n",
    "\n",
    "print(\"\\nImprovement by generation:\")\n",
    "gen_improvements = pc_df.groupby('generation')['improvement'].agg(['count', 'mean', 'std'])\n",
    "print(gen_improvements)"
   ]
  },
  {
   "cell_type": "markdown",
   "metadata": {},
   "source": [
    "## 4. Score Consistency vs Performance Analysis\n",
    "\n",
    "This scatter plot shows the relationship between mean performance and score consistency (standard deviation). Points in the bottom-right represent the ideal: high performance with low variability."
   ]
  },
  {
   "cell_type": "code",
   "execution_count": 97,
   "metadata": {},
   "outputs": [
    {
     "data": {
      "application/vnd.plotly.v1+json": {
       "config": {
        "plotlyServerURL": "https://plot.ly"
       },
       "data": [
        {
         "customdata": [
          [
           3,
           "5"
          ],
          [
           1,
           "1"
          ],
          [
           2,
           "5"
          ],
          [
           3,
           "5"
          ],
          [
           3,
           "5"
          ],
          [
           2,
           "5"
          ],
          [
           3,
           "5"
          ],
          [
           5,
           "5"
          ],
          [
           4,
           "5"
          ],
          [
           4,
           "5"
          ],
          [
           0,
           "13"
          ],
          [
           2,
           "1"
          ],
          [
           3,
           "12"
          ],
          [
           0,
           "1"
          ],
          [
           2,
           "12"
          ],
          [
           4,
           "12"
          ],
          [
           1,
           "13"
          ],
          [
           1,
           "8"
          ],
          [
           2,
           "8"
          ],
          [
           3,
           "5"
          ],
          [
           1,
           "8"
          ],
          [
           4,
           "5"
          ],
          [
           3,
           "8"
          ],
          [
           1,
           "5"
          ],
          [
           2,
           "13"
          ],
          [
           0,
           "12"
          ],
          [
           1,
           "1"
          ],
          [
           1,
           "12"
          ],
          [
           1,
           "6"
          ],
          [
           0,
           "11"
          ],
          [
           0,
           "8"
          ],
          [
           1,
           "8"
          ],
          [
           1,
           "12"
          ],
          [
           3,
           "5"
          ],
          [
           1,
           "12"
          ],
          [
           0,
           "5"
          ],
          [
           0,
           "6"
          ],
          [
           1,
           "6"
          ],
          [
           1,
           "13"
          ],
          [
           1,
           "12"
          ],
          [
           4,
           "12"
          ],
          [
           0,
           "10"
          ],
          [
           0,
           "4"
          ],
          [
           4,
           "5"
          ],
          [
           1,
           "13"
          ],
          [
           0,
           "0"
          ],
          [
           1,
           "5"
          ],
          [
           1,
           "13"
          ],
          [
           0,
           "7"
          ],
          [
           0,
           "18"
          ],
          [
           2,
           "12"
          ],
          [
           4,
           "5"
          ],
          [
           0,
           "19"
          ],
          [
           1,
           "1"
          ],
          [
           2,
           "8"
          ],
          [
           5,
           "5"
          ],
          [
           1,
           "4"
          ],
          [
           0,
           "17"
          ],
          [
           2,
           "8"
          ],
          [
           1,
           "8"
          ],
          [
           3,
           "8"
          ],
          [
           1,
           "12"
          ],
          [
           0,
           "15"
          ],
          [
           1,
           "11"
          ],
          [
           1,
           "0"
          ],
          [
           1,
           "11"
          ],
          [
           3,
           "5"
          ],
          [
           3,
           "5"
          ],
          [
           1,
           "1"
          ],
          [
           1,
           "11"
          ],
          [
           2,
           "8"
          ],
          [
           2,
           "1"
          ],
          [
           2,
           "8"
          ],
          [
           4,
           "5"
          ],
          [
           2,
           "8"
          ],
          [
           0,
           "9"
          ],
          [
           0,
           "14"
          ],
          [
           2,
           "8"
          ],
          [
           1,
           "13"
          ],
          [
           3,
           "12"
          ],
          [
           3,
           "8"
          ],
          [
           1,
           "10"
          ],
          [
           1,
           "5"
          ],
          [
           1,
           "13"
          ],
          [
           2,
           "8"
          ],
          [
           2,
           "12"
          ],
          [
           1,
           "1"
          ],
          [
           2,
           "5"
          ],
          [
           6,
           "5"
          ],
          [
           0,
           "16"
          ],
          [
           1,
           "11"
          ],
          [
           1,
           "1"
          ],
          [
           2,
           "12"
          ],
          [
           1,
           "13"
          ],
          [
           2,
           "6"
          ],
          [
           0,
           "2"
          ],
          [
           1,
           "13"
          ],
          [
           2,
           "6"
          ],
          [
           2,
           "6"
          ],
          [
           1,
           "1"
          ],
          [
           4,
           "5"
          ],
          [
           3,
           "5"
          ],
          [
           2,
           "8"
          ],
          [
           2,
           "13"
          ],
          [
           2,
           "6"
          ],
          [
           1,
           "13"
          ],
          [
           0,
           "3"
          ],
          [
           1,
           "1"
          ],
          [
           4,
           "5"
          ],
          [
           4,
           "5"
          ]
         ],
         "hovertemplate": "<b>%{hovertext}</b><br><br>Mean Score=%{x:.4f}<br>Standard Deviation of Scores=%{y:.4f}<br>Generation=%{marker.color}<br>root=%{customdata[1]}<extra></extra>",
         "hovertext": [
          "5-1-2-0",
          "1-6",
          "5-1-1",
          "5-1-2-1",
          "5-1-1-0",
          "5-1-2",
          "5-1-1-4",
          "5-1-2-0-0-0",
          "5-1-2-0-0",
          "5-1-2-1-1",
          "13",
          "1-6-1",
          "12-0-3-1",
          "1",
          "12-0-3",
          "12-0-3-1-0",
          "13-4",
          "8-0",
          "8-2-0",
          "5-1-1-2",
          "8-3",
          "5-1-1-0-3",
          "8-2-0-2",
          "5-1",
          "13-4-0",
          "12",
          "1-5",
          "12-0",
          "6-1",
          "11",
          "8",
          "8-2",
          "12-4",
          "5-1-2-2",
          "12-3",
          "5",
          "6",
          "6-0",
          "13-6",
          "12-2",
          "12-0-3-1-1",
          "10",
          "4",
          "5-1-1-0-2",
          "13-1",
          "0",
          "5-0",
          "13-8",
          "7",
          "18",
          "12-0-1",
          "5-1-2-1-0",
          "19",
          "1-7",
          "8-0-0",
          "5-1-2-0-0-1",
          "4-0",
          "17",
          "8-0-2",
          "8-1",
          "8-2-0-0",
          "12-1",
          "15",
          "11-2",
          "0-0",
          "11-1",
          "5-1-2-3",
          "5-1-1-3",
          "1-4",
          "11-0",
          "8-0-1",
          "1-6-0",
          "8-0-5",
          "5-1-2-0-1",
          "8-3-1",
          "9",
          "14",
          "8-0-3",
          "13-7",
          "12-0-3-0",
          "8-2-0-1",
          "10-0",
          "5-2",
          "13-0",
          "8-0-4",
          "12-0-2",
          "1-2",
          "5-1-0",
          "5-1-2-0-0-0-0",
          "16",
          "11-3",
          "1-3",
          "12-0-0",
          "13-3",
          "6-0-0",
          "2",
          "13-2",
          "6-1-1",
          "6-1-2",
          "1-0",
          "5-1-1-0-1",
          "5-1-1-1",
          "8-3-0",
          "13-4-1",
          "6-1-0",
          "13-5",
          "3",
          "1-1",
          "5-1-2-0-2",
          "5-1-1-0-0"
         ],
         "legendgroup": "",
         "marker": {
          "color": {
           "bdata": "AwECAwMCAwUEBAACAwACBAEBAgMBBAMBAgABAQEAAAEBAwEAAAEBAQQAAAQBAAEBAAACBAABAgUBAAIBAwEAAQEBAwMBAQICAgQCAAACAQMDAQEBAgIBAgYAAQECAQIAAQICAQQDAgICAQABBAQ=",
           "dtype": "i1"
          },
          "coloraxis": "coloraxis",
          "line": {
           "color": "black",
           "width": 1
          },
          "size": 8,
          "symbol": "circle"
         },
         "mode": "markers",
         "name": "",
         "orientation": "v",
         "showlegend": false,
         "type": "scatter",
         "x": {
          "bdata": "FIfMgDmW6T+P/yy+uRXpPzWTMO970+g/josQSXSz6D+PjiuHb6/oP99sxGubfug/4o+MEUp16D8All5cCjDoP67wKRuj8+c/IQdYCarj5z9Ggf4XxxXnP/2k/c3qFOc/oFPjUh0K5j8yrp5gaIflPwg+tHTwfeU/YvYJiZF25T+VElXxhiblP74v6QtmwuQ/yBegU0Za5D8X9DY2cCfkPwWf4qcqEeQ/+ID6NXnb4z+2TXkb4cbjPxbrcZn6r+M/86CMR/bh4j8PfC74HrriP2JKUIDGQOI/5n78eMwy4j9F8YprjPfhP/y3LGFLeuE/a/FSa/FS4T9c+bdEnEPhP2VTif+/O+E/Vsjkqx064T9TFbo0mcngPyK4HXcNc+A/87d0EjRl4D8grD2cnP/fP4Y/xcM3pt8/tYcw7GCV3z+O0tELw5PfPwo8qxJbJ98/x3eMNCpW1z9mOH6V8mbUPzZ1XHNtPdM/yK3VmfPsxj8kqX4FLY7DPwV5SpCnBME/BlKZPCv+vz/9Ogr+Ogq+P70Zjl+lvLk/CsvjzNICuT9/UPm0KV64P3nWECugN7Y/Gr44nc12tT8xJP4oBYKoP+LQQG7/+qY/TbF+g4rjpj+Yz24c36ykP6VKiziYwaE/ExlJjwkLlz+LIrH31Hp+P6BcXSNsm3s/hhFA+uKFYT+GEUD64oVRPwAAAAAAAAAAAAAAAAAAAAAAAAAAAAAAAAAAAAAAAAAAAAAAAAAAAAAAAAAAAAAAAAAAAAAAAAAAAAAAAAAAAAAAAAAAAAAAAAAAAAAAAAAAAAAAAAAAAAAAAAAAAAAAAAAAAAAAAAAAAAAAAAAAAAAAAAAAAAAAAAAAAAAAAAAAAAAAAAAAAAAAAAAAAAAAAAAAAAAAAAAAAAAAAAAAAAAAAAAAAAAAAAAAAAAAAAAAAAAAAAAAAAAAAAAAAAAAAAAAAAAAAAAAAAAAAAAAAAAAAAAAAAAAAAAAAAAAAAAAAAAAAAAAAAAAAAAAAAAAAAAAAAAAAAAAAAAAAAAAAAAAAAAAAAAAAAAAAAAAAAAAAAAAAAAAAAAAAAAAAAAAAAAAAAAAAAAAAAAAAAAAAAAAAAAAAAAAAAAAAAAAAAAAAAAAAAAAAAAAAAAAAAAAAAAAAAAAAAAAAAAAAAAAAAAAAAAAAAAAAA==",
          "dtype": "f8"
         },
         "xaxis": "x",
         "y": {
          "bdata": "y8VPgNNjpj9mMqowl9uhP0XbBrgjeLA/SwlJFMqHqT8+/s5OMS2vPwM0w1DS0qc/BHBIhmxFrD9Jl3V8TPigP9EsCb2bBqs/NjsM5QPdqD+cnOIUyVO0P4QF6yKJjrk/RH9/sPrdpz/wVROpbPqwPyUdsdPSlZk/zRW9VLGZsD8C+vhccCmyP9tItFmsytQ/7D7bbn04pD/dNfp4A0fRP4RpmqqYjaE/1L2yLCos1D9zGVykv4OpP2A6GOWm8dM/8nYsxQc1sj8hTO3yPoKrP91gehkI17M/Eie6kw5Arj8P5QDAE/S2P3eWBgdCRrU/qMnHfEHWqz9VF/akjju8P1x/p555gq0/0TuALoXsoj+wImNTMhStP9QT8HBuALU/rgGeD6UHnT9Q4lTHWPixPz1I16wQFNA/O4XcpDvsoj8U/VVbsO+nP6S3GHSyYqk/1zJJDP6KxT/VvOLP2QLZP496vsV2I84/q9y+Qan+xj9vbQP+RlKmPwV5SpCnBNE/sr/LdUButz+1UqZMoQ3DP70Zjl+lvMk/1xdge/Jfsz9DXeOR7AO9P1SpSlMFQ7Q/2mk7r29Ruz+lqWGePEejP1dZYq8hTaE/cTwjJNuDoD+Gn+jz5+GWP8Y0zQ4VDKs/snQVwkGzlj86cM9cF/WCPwJQ9Q4glYY/hhFA+uKFcT+GEUD64oVhPwAAAAAAAAAAAAAAAAAAAAAAAAAAAAAAAAAAAAAAAAAAAAAAAAAAAAAAAAAAAAAAAAAAAAAAAAAAAAAAAAAAAAAAAAAAAAAAAAAAAAAAAAAAAAAAAAAAAAAAAAAAAAAAAAAAAAAAAAAAAAAAAAAAAAAAAAAAAAAAAAAAAAAAAAAAAAAAAAAAAAAAAAAAAAAAAAAAAAAAAAAAAAAAAAAAAAAAAAAAAAAAAAAAAAAAAAAAAAAAAAAAAAAAAAAAAAAAAAAAAAAAAAAAAAAAAAAAAAAAAAAAAAAAAAAAAAAAAAAAAAAAAAAAAAAAAAAAAAAAAAAAAAAAAAAAAAAAAAAAAAAAAAAAAAAAAAAAAAAAAAAAAAAAAAAAAAAAAAAAAAAAAAAAAAAAAAAAAAAAAAAAAAAAAAAAAAAAAAAAAAAAAAAAAAAAAAAAAAAAAAAAAAAAAAAAAAAAAAAAAAAAAAAAAAAAAAAAAAAAAA==",
          "dtype": "f8"
         },
         "yaxis": "y"
        }
       ],
       "layout": {
        "annotations": [
         {
          "showarrow": false,
          "text": "Median std dev (0.033)",
          "x": 0,
          "xanchor": "left",
          "xref": "x domain",
          "y": 0.033467980791087926,
          "yanchor": "top",
          "yref": "y"
         },
         {
          "showarrow": false,
          "text": "Median mean score (0.066)",
          "x": 0.06585550887021475,
          "xanchor": "right",
          "xref": "x",
          "y": 1,
          "yanchor": "top",
          "yref": "y domain"
         },
         {
          "bgcolor": "white",
          "bordercolor": "black",
          "borderwidth": 1,
          "showarrow": false,
          "text": "Low Performance<br>High Variance",
          "x": 0.05,
          "xref": "paper",
          "y": 0.95,
          "yref": "paper"
         },
         {
          "bgcolor": "white",
          "bordercolor": "black",
          "borderwidth": 1,
          "showarrow": false,
          "text": "High Performance<br>High Variance",
          "x": 0.95,
          "xref": "paper",
          "y": 0.95,
          "yref": "paper"
         },
         {
          "bgcolor": "white",
          "bordercolor": "black",
          "borderwidth": 1,
          "showarrow": false,
          "text": "Low Performance<br>Low Variance",
          "x": 0.05,
          "xref": "paper",
          "y": 0.05,
          "yref": "paper"
         },
         {
          "bgcolor": "lightgreen",
          "bordercolor": "black",
          "borderwidth": 1,
          "showarrow": false,
          "text": "High Performance<br>Low Variance<br><b>(IDEAL)</b>",
          "x": 0.95,
          "xref": "paper",
          "y": 0.05,
          "yref": "paper"
         }
        ],
        "coloraxis": {
         "colorbar": {
          "title": {
           "text": "Generation"
          }
         },
         "colorscale": [
          [
           0,
           "rgb(255,0,0)"
          ],
          [
           0.125,
           "rgb(255,111,0)"
          ],
          [
           0.25,
           "rgb(255,234,0)"
          ],
          [
           0.375,
           "rgb(151,255,0)"
          ],
          [
           0.5,
           "rgb(44,255,150)"
          ],
          [
           0.625,
           "rgb(0,152,255)"
          ],
          [
           0.75,
           "rgb(0,25,255)"
          ],
          [
           0.875,
           "rgb(0,0,200)"
          ],
          [
           1,
           "rgb(150,0,90)"
          ]
         ]
        },
        "font": {
         "size": 12
        },
        "height": 600,
        "legend": {
         "tracegroupgap": 0
        },
        "shapes": [
         {
          "line": {
           "color": "gray",
           "dash": "dash"
          },
          "type": "line",
          "x0": 0,
          "x1": 1,
          "xref": "x domain",
          "y0": 0.033467980791087926,
          "y1": 0.033467980791087926,
          "yref": "y"
         },
         {
          "line": {
           "color": "gray",
           "dash": "dash"
          },
          "type": "line",
          "x0": 0.06585550887021475,
          "x1": 0.06585550887021475,
          "xref": "x",
          "y0": 0,
          "y1": 1,
          "yref": "y domain"
         }
        ],
        "showlegend": true,
        "template": {
         "data": {
          "bar": [
           {
            "error_x": {
             "color": "#2a3f5f"
            },
            "error_y": {
             "color": "#2a3f5f"
            },
            "marker": {
             "line": {
              "color": "#E5ECF6",
              "width": 0.5
             },
             "pattern": {
              "fillmode": "overlay",
              "size": 10,
              "solidity": 0.2
             }
            },
            "type": "bar"
           }
          ],
          "barpolar": [
           {
            "marker": {
             "line": {
              "color": "#E5ECF6",
              "width": 0.5
             },
             "pattern": {
              "fillmode": "overlay",
              "size": 10,
              "solidity": 0.2
             }
            },
            "type": "barpolar"
           }
          ],
          "carpet": [
           {
            "aaxis": {
             "endlinecolor": "#2a3f5f",
             "gridcolor": "white",
             "linecolor": "white",
             "minorgridcolor": "white",
             "startlinecolor": "#2a3f5f"
            },
            "baxis": {
             "endlinecolor": "#2a3f5f",
             "gridcolor": "white",
             "linecolor": "white",
             "minorgridcolor": "white",
             "startlinecolor": "#2a3f5f"
            },
            "type": "carpet"
           }
          ],
          "choropleth": [
           {
            "colorbar": {
             "outlinewidth": 0,
             "ticks": ""
            },
            "type": "choropleth"
           }
          ],
          "contour": [
           {
            "colorbar": {
             "outlinewidth": 0,
             "ticks": ""
            },
            "colorscale": [
             [
              0,
              "#0d0887"
             ],
             [
              0.1111111111111111,
              "#46039f"
             ],
             [
              0.2222222222222222,
              "#7201a8"
             ],
             [
              0.3333333333333333,
              "#9c179e"
             ],
             [
              0.4444444444444444,
              "#bd3786"
             ],
             [
              0.5555555555555556,
              "#d8576b"
             ],
             [
              0.6666666666666666,
              "#ed7953"
             ],
             [
              0.7777777777777778,
              "#fb9f3a"
             ],
             [
              0.8888888888888888,
              "#fdca26"
             ],
             [
              1,
              "#f0f921"
             ]
            ],
            "type": "contour"
           }
          ],
          "contourcarpet": [
           {
            "colorbar": {
             "outlinewidth": 0,
             "ticks": ""
            },
            "type": "contourcarpet"
           }
          ],
          "heatmap": [
           {
            "colorbar": {
             "outlinewidth": 0,
             "ticks": ""
            },
            "colorscale": [
             [
              0,
              "#0d0887"
             ],
             [
              0.1111111111111111,
              "#46039f"
             ],
             [
              0.2222222222222222,
              "#7201a8"
             ],
             [
              0.3333333333333333,
              "#9c179e"
             ],
             [
              0.4444444444444444,
              "#bd3786"
             ],
             [
              0.5555555555555556,
              "#d8576b"
             ],
             [
              0.6666666666666666,
              "#ed7953"
             ],
             [
              0.7777777777777778,
              "#fb9f3a"
             ],
             [
              0.8888888888888888,
              "#fdca26"
             ],
             [
              1,
              "#f0f921"
             ]
            ],
            "type": "heatmap"
           }
          ],
          "histogram": [
           {
            "marker": {
             "pattern": {
              "fillmode": "overlay",
              "size": 10,
              "solidity": 0.2
             }
            },
            "type": "histogram"
           }
          ],
          "histogram2d": [
           {
            "colorbar": {
             "outlinewidth": 0,
             "ticks": ""
            },
            "colorscale": [
             [
              0,
              "#0d0887"
             ],
             [
              0.1111111111111111,
              "#46039f"
             ],
             [
              0.2222222222222222,
              "#7201a8"
             ],
             [
              0.3333333333333333,
              "#9c179e"
             ],
             [
              0.4444444444444444,
              "#bd3786"
             ],
             [
              0.5555555555555556,
              "#d8576b"
             ],
             [
              0.6666666666666666,
              "#ed7953"
             ],
             [
              0.7777777777777778,
              "#fb9f3a"
             ],
             [
              0.8888888888888888,
              "#fdca26"
             ],
             [
              1,
              "#f0f921"
             ]
            ],
            "type": "histogram2d"
           }
          ],
          "histogram2dcontour": [
           {
            "colorbar": {
             "outlinewidth": 0,
             "ticks": ""
            },
            "colorscale": [
             [
              0,
              "#0d0887"
             ],
             [
              0.1111111111111111,
              "#46039f"
             ],
             [
              0.2222222222222222,
              "#7201a8"
             ],
             [
              0.3333333333333333,
              "#9c179e"
             ],
             [
              0.4444444444444444,
              "#bd3786"
             ],
             [
              0.5555555555555556,
              "#d8576b"
             ],
             [
              0.6666666666666666,
              "#ed7953"
             ],
             [
              0.7777777777777778,
              "#fb9f3a"
             ],
             [
              0.8888888888888888,
              "#fdca26"
             ],
             [
              1,
              "#f0f921"
             ]
            ],
            "type": "histogram2dcontour"
           }
          ],
          "mesh3d": [
           {
            "colorbar": {
             "outlinewidth": 0,
             "ticks": ""
            },
            "type": "mesh3d"
           }
          ],
          "parcoords": [
           {
            "line": {
             "colorbar": {
              "outlinewidth": 0,
              "ticks": ""
             }
            },
            "type": "parcoords"
           }
          ],
          "pie": [
           {
            "automargin": true,
            "type": "pie"
           }
          ],
          "scatter": [
           {
            "fillpattern": {
             "fillmode": "overlay",
             "size": 10,
             "solidity": 0.2
            },
            "type": "scatter"
           }
          ],
          "scatter3d": [
           {
            "line": {
             "colorbar": {
              "outlinewidth": 0,
              "ticks": ""
             }
            },
            "marker": {
             "colorbar": {
              "outlinewidth": 0,
              "ticks": ""
             }
            },
            "type": "scatter3d"
           }
          ],
          "scattercarpet": [
           {
            "marker": {
             "colorbar": {
              "outlinewidth": 0,
              "ticks": ""
             }
            },
            "type": "scattercarpet"
           }
          ],
          "scattergeo": [
           {
            "marker": {
             "colorbar": {
              "outlinewidth": 0,
              "ticks": ""
             }
            },
            "type": "scattergeo"
           }
          ],
          "scattergl": [
           {
            "marker": {
             "colorbar": {
              "outlinewidth": 0,
              "ticks": ""
             }
            },
            "type": "scattergl"
           }
          ],
          "scattermap": [
           {
            "marker": {
             "colorbar": {
              "outlinewidth": 0,
              "ticks": ""
             }
            },
            "type": "scattermap"
           }
          ],
          "scattermapbox": [
           {
            "marker": {
             "colorbar": {
              "outlinewidth": 0,
              "ticks": ""
             }
            },
            "type": "scattermapbox"
           }
          ],
          "scatterpolar": [
           {
            "marker": {
             "colorbar": {
              "outlinewidth": 0,
              "ticks": ""
             }
            },
            "type": "scatterpolar"
           }
          ],
          "scatterpolargl": [
           {
            "marker": {
             "colorbar": {
              "outlinewidth": 0,
              "ticks": ""
             }
            },
            "type": "scatterpolargl"
           }
          ],
          "scatterternary": [
           {
            "marker": {
             "colorbar": {
              "outlinewidth": 0,
              "ticks": ""
             }
            },
            "type": "scatterternary"
           }
          ],
          "surface": [
           {
            "colorbar": {
             "outlinewidth": 0,
             "ticks": ""
            },
            "colorscale": [
             [
              0,
              "#0d0887"
             ],
             [
              0.1111111111111111,
              "#46039f"
             ],
             [
              0.2222222222222222,
              "#7201a8"
             ],
             [
              0.3333333333333333,
              "#9c179e"
             ],
             [
              0.4444444444444444,
              "#bd3786"
             ],
             [
              0.5555555555555556,
              "#d8576b"
             ],
             [
              0.6666666666666666,
              "#ed7953"
             ],
             [
              0.7777777777777778,
              "#fb9f3a"
             ],
             [
              0.8888888888888888,
              "#fdca26"
             ],
             [
              1,
              "#f0f921"
             ]
            ],
            "type": "surface"
           }
          ],
          "table": [
           {
            "cells": {
             "fill": {
              "color": "#EBF0F8"
             },
             "line": {
              "color": "white"
             }
            },
            "header": {
             "fill": {
              "color": "#C8D4E3"
             },
             "line": {
              "color": "white"
             }
            },
            "type": "table"
           }
          ]
         },
         "layout": {
          "annotationdefaults": {
           "arrowcolor": "#2a3f5f",
           "arrowhead": 0,
           "arrowwidth": 1
          },
          "autotypenumbers": "strict",
          "coloraxis": {
           "colorbar": {
            "outlinewidth": 0,
            "ticks": ""
           }
          },
          "colorscale": {
           "diverging": [
            [
             0,
             "#8e0152"
            ],
            [
             0.1,
             "#c51b7d"
            ],
            [
             0.2,
             "#de77ae"
            ],
            [
             0.3,
             "#f1b6da"
            ],
            [
             0.4,
             "#fde0ef"
            ],
            [
             0.5,
             "#f7f7f7"
            ],
            [
             0.6,
             "#e6f5d0"
            ],
            [
             0.7,
             "#b8e186"
            ],
            [
             0.8,
             "#7fbc41"
            ],
            [
             0.9,
             "#4d9221"
            ],
            [
             1,
             "#276419"
            ]
           ],
           "sequential": [
            [
             0,
             "#0d0887"
            ],
            [
             0.1111111111111111,
             "#46039f"
            ],
            [
             0.2222222222222222,
             "#7201a8"
            ],
            [
             0.3333333333333333,
             "#9c179e"
            ],
            [
             0.4444444444444444,
             "#bd3786"
            ],
            [
             0.5555555555555556,
             "#d8576b"
            ],
            [
             0.6666666666666666,
             "#ed7953"
            ],
            [
             0.7777777777777778,
             "#fb9f3a"
            ],
            [
             0.8888888888888888,
             "#fdca26"
            ],
            [
             1,
             "#f0f921"
            ]
           ],
           "sequentialminus": [
            [
             0,
             "#0d0887"
            ],
            [
             0.1111111111111111,
             "#46039f"
            ],
            [
             0.2222222222222222,
             "#7201a8"
            ],
            [
             0.3333333333333333,
             "#9c179e"
            ],
            [
             0.4444444444444444,
             "#bd3786"
            ],
            [
             0.5555555555555556,
             "#d8576b"
            ],
            [
             0.6666666666666666,
             "#ed7953"
            ],
            [
             0.7777777777777778,
             "#fb9f3a"
            ],
            [
             0.8888888888888888,
             "#fdca26"
            ],
            [
             1,
             "#f0f921"
            ]
           ]
          },
          "colorway": [
           "#636efa",
           "#EF553B",
           "#00cc96",
           "#ab63fa",
           "#FFA15A",
           "#19d3f3",
           "#FF6692",
           "#B6E880",
           "#FF97FF",
           "#FECB52"
          ],
          "font": {
           "color": "#2a3f5f"
          },
          "geo": {
           "bgcolor": "white",
           "lakecolor": "white",
           "landcolor": "#E5ECF6",
           "showlakes": true,
           "showland": true,
           "subunitcolor": "white"
          },
          "hoverlabel": {
           "align": "left"
          },
          "hovermode": "closest",
          "mapbox": {
           "style": "light"
          },
          "paper_bgcolor": "white",
          "plot_bgcolor": "#E5ECF6",
          "polar": {
           "angularaxis": {
            "gridcolor": "white",
            "linecolor": "white",
            "ticks": ""
           },
           "bgcolor": "#E5ECF6",
           "radialaxis": {
            "gridcolor": "white",
            "linecolor": "white",
            "ticks": ""
           }
          },
          "scene": {
           "xaxis": {
            "backgroundcolor": "#E5ECF6",
            "gridcolor": "white",
            "gridwidth": 2,
            "linecolor": "white",
            "showbackground": true,
            "ticks": "",
            "zerolinecolor": "white"
           },
           "yaxis": {
            "backgroundcolor": "#E5ECF6",
            "gridcolor": "white",
            "gridwidth": 2,
            "linecolor": "white",
            "showbackground": true,
            "ticks": "",
            "zerolinecolor": "white"
           },
           "zaxis": {
            "backgroundcolor": "#E5ECF6",
            "gridcolor": "white",
            "gridwidth": 2,
            "linecolor": "white",
            "showbackground": true,
            "ticks": "",
            "zerolinecolor": "white"
           }
          },
          "shapedefaults": {
           "line": {
            "color": "#2a3f5f"
           }
          },
          "ternary": {
           "aaxis": {
            "gridcolor": "white",
            "linecolor": "white",
            "ticks": ""
           },
           "baxis": {
            "gridcolor": "white",
            "linecolor": "white",
            "ticks": ""
           },
           "bgcolor": "#E5ECF6",
           "caxis": {
            "gridcolor": "white",
            "linecolor": "white",
            "ticks": ""
           }
          },
          "title": {
           "x": 0.05
          },
          "xaxis": {
           "automargin": true,
           "gridcolor": "white",
           "linecolor": "white",
           "ticks": "",
           "title": {
            "standoff": 15
           },
           "zerolinecolor": "white",
           "zerolinewidth": 2
          },
          "yaxis": {
           "automargin": true,
           "gridcolor": "white",
           "linecolor": "white",
           "ticks": "",
           "title": {
            "standoff": 15
           },
           "zerolinecolor": "white",
           "zerolinewidth": 2
          }
         }
        },
        "title": {
         "text": "Score Consistency vs Performance<br><sub>Hover over points to see scaffold details. Colored by generation depth.</sub>"
        },
        "width": 900,
        "xaxis": {
         "anchor": "y",
         "domain": [
          0,
          1
         ],
         "title": {
          "text": "Mean Score"
         }
        },
        "yaxis": {
         "anchor": "x",
         "domain": [
          0,
          1
         ],
         "title": {
          "text": "Standard Deviation of Scores"
         }
        }
       }
      }
     },
     "metadata": {},
     "output_type": "display_data"
    },
    {
     "name": "stdout",
     "output_type": "stream",
     "text": [
      "SCORE CONSISTENCY ANALYSIS:\n",
      "==================================================\n",
      "Most consistent scaffold: 11-1 (std: 0.0000)\n",
      "Most variable scaffold: 5-1-1-0-2 (std: 0.3908)\n",
      "\n",
      "Top 5 most consistent scaffolds:\n",
      "scaffold_id  mean_score  score_std  generation\n",
      "       11-1         0.0        0.0           1\n",
      "    5-1-2-3         0.0        0.0           3\n",
      "    5-1-1-3         0.0        0.0           3\n",
      "        1-4         0.0        0.0           1\n",
      "       11-0         0.0        0.0           1\n",
      "\n",
      "Top 5 performers with low variance (std < 0.1):\n",
      "scaffold_id  mean_score  score_std  generation\n",
      "    5-1-2-0    0.799588   0.043730           3\n",
      "        1-6    0.783902   0.034878           1\n",
      "      5-1-1    0.775816   0.064333           2\n",
      "    5-1-2-1    0.771906   0.049864           3\n",
      "    5-1-1-0    0.771415   0.060892           3\n",
      "\n",
      "Correlation between mean score and std dev: 0.4115\n",
      "\n",
      "Consistency by generation:\n",
      "                mean    median  count\n",
      "generation                           \n",
      "0           0.062092  0.054049     20\n",
      "1           0.060851  0.034038     38\n",
      "2           0.028184  0.000000     24\n",
      "3           0.045374  0.040346     14\n",
      "4           0.090420  0.048561     11\n",
      "5           0.035399  0.035399      2\n",
      "6           0.000000  0.000000      1\n"
     ]
    }
   ],
   "source": [
    "# Score Consistency vs Performance Analysis - CONFIGURABLE PARAMETERS\n",
    "CONSISTENCY_WIDTH = 900       # Plot width\n",
    "CONSISTENCY_HEIGHT = 600      # Plot height\n",
    "CONSISTENCY_MARKER_SIZE = 8   # Size of scatter points\n",
    "CONSISTENCY_LINE_WIDTH = 1    # Marker border width\n",
    "\n",
    "# Score Consistency vs Performance Analysis (Interactive with Plotly)\n",
    "# Create enhanced dataframe with hover information\n",
    "df_plot = df.copy()\n",
    "df_plot['hover_text'] = df_plot.apply(lambda row: \n",
    "    f\"Scaffold: {row['scaffold_id']}<br>\" +\n",
    "    f\"Mean Score: {row['mean_score']:.4f}<br>\" +\n",
    "    f\"Std Dev: {row['score_std']:.4f}<br>\" +\n",
    "    f\"Generation: {row['generation']}<br>\" +\n",
    "    f\"Root: {row['root']}<br>\" +\n",
    "    f\"Individual Scores: {', '.join([f'{s:.3f}' for s in row['scores']])}\", \n",
    "    axis=1)\n",
    "\n",
    "# Create the interactive scatter plot\n",
    "fig = px.scatter(df_plot, \n",
    "                 x='mean_score', \n",
    "                 y='score_std',\n",
    "                 color='generation',\n",
    "                 color_continuous_scale='rainbow_r',\n",
    "                 hover_name='scaffold_id',\n",
    "                 hover_data={\n",
    "                     'mean_score': ':.4f',\n",
    "                     'score_std': ':.4f', \n",
    "                     'generation': True,\n",
    "                     'root': True\n",
    "                 },\n",
    "                 title='Score Consistency vs Performance<br><sub>Hover over points to see scaffold details. Colored by generation depth.</sub>',\n",
    "                 labels={\n",
    "                     'mean_score': 'Mean Score',\n",
    "                     'score_std': 'Standard Deviation of Scores',\n",
    "                     'generation': 'Generation'\n",
    "                 })\n",
    "\n",
    "# Update traces for better appearance\n",
    "fig.update_traces(marker=dict(size=CONSISTENCY_MARKER_SIZE, \n",
    "                             line=dict(width=CONSISTENCY_LINE_WIDTH, color='black')))\n",
    "\n",
    "# Add reference lines\n",
    "median_score = df['mean_score'].median()\n",
    "median_std = df['score_std'].median()\n",
    "\n",
    "fig.add_hline(y=median_std, line_dash=\"dash\", line_color=\"gray\", \n",
    "              annotation_text=f\"Median std dev ({median_std:.3f})\",\n",
    "              annotation_position=\"bottom left\")\n",
    "fig.add_vline(x=median_score, line_dash=\"dash\", line_color=\"gray\",\n",
    "              annotation_text=f\"Median mean score ({median_score:.3f})\",\n",
    "              annotation_position=\"top left\")\n",
    "\n",
    "# Add quadrant annotations\n",
    "fig.add_annotation(x=0.05, y=0.95, xref=\"paper\", yref=\"paper\",\n",
    "                   text=\"Low Performance<br>High Variance\", showarrow=False,\n",
    "                   bgcolor=\"white\", bordercolor=\"black\", borderwidth=1)\n",
    "fig.add_annotation(x=0.95, y=0.95, xref=\"paper\", yref=\"paper\", \n",
    "                   text=\"High Performance<br>High Variance\", showarrow=False,\n",
    "                   bgcolor=\"white\", bordercolor=\"black\", borderwidth=1)\n",
    "fig.add_annotation(x=0.05, y=0.05, xref=\"paper\", yref=\"paper\",\n",
    "                   text=\"Low Performance<br>Low Variance\", showarrow=False,\n",
    "                   bgcolor=\"white\", bordercolor=\"black\", borderwidth=1)\n",
    "fig.add_annotation(x=0.95, y=0.05, xref=\"paper\", yref=\"paper\",\n",
    "                   text=\"High Performance<br>Low Variance<br><b>(IDEAL)</b>\", showarrow=False,\n",
    "                   bgcolor=\"lightgreen\", bordercolor=\"black\", borderwidth=1)\n",
    "\n",
    "# Update layout\n",
    "fig.update_layout(\n",
    "    width=CONSISTENCY_WIDTH,\n",
    "    height=CONSISTENCY_HEIGHT,\n",
    "    showlegend=True,\n",
    "    font=dict(size=12)\n",
    ")\n",
    "\n",
    "fig.show()\n",
    "\n",
    "# Print analysis (same as before)\n",
    "print(\"SCORE CONSISTENCY ANALYSIS:\")\n",
    "print(\"=\" * 50)\n",
    "print(f\"Most consistent scaffold: {df.loc[df['score_std'].idxmin(), 'scaffold_id']} (std: {df['score_std'].min():.4f})\")\n",
    "print(f\"Most variable scaffold: {df.loc[df['score_std'].idxmax(), 'scaffold_id']} (std: {df['score_std'].max():.4f})\")\n",
    "print(f\"\\nTop 5 most consistent scaffolds:\")\n",
    "most_consistent = df.nsmallest(5, 'score_std')[['scaffold_id', 'mean_score', 'score_std', 'generation']]\n",
    "print(most_consistent.to_string(index=False))\n",
    "\n",
    "print(f\"\\nTop 5 performers with low variance (std < 0.1):\")\n",
    "reliable_performers = df[df['score_std'] < 0.1].nlargest(5, 'mean_score')[['scaffold_id', 'mean_score', 'score_std', 'generation']]\n",
    "if len(reliable_performers) > 0:\n",
    "    print(reliable_performers.to_string(index=False))\n",
    "else:\n",
    "    print(\"No scaffolds found with std < 0.1\")\n",
    "\n",
    "print(f\"\\nCorrelation between mean score and std dev: {df['mean_score'].corr(df['score_std']):.4f}\")\n",
    "\n",
    "# Check if later generations are more consistent\n",
    "generation_consistency = df.groupby('generation')['score_std'].agg(['mean', 'median', 'count'])\n",
    "print(f\"\\nConsistency by generation:\")\n",
    "print(generation_consistency)"
   ]
  },
  {
   "cell_type": "markdown",
   "metadata": {},
   "source": [
    "## Summary Statistics and Insights\n",
    "\n",
    "Comprehensive analysis of the scaffold evolution experiment results."
   ]
  },
  {
   "cell_type": "code",
   "execution_count": 98,
   "metadata": {},
   "outputs": [
    {
     "name": "stdout",
     "output_type": "stream",
     "text": [
      "============================================================\n",
      "SCAFFOLD EVOLUTION ANALYSIS SUMMARY\n",
      "============================================================\n",
      "\n",
      "1. OVERALL EVOLUTION EFFECTIVENESS:\n",
      "   • Evolution success rate: 14.4% of evolutions improved over parent\n",
      "   • Average improvement per evolution: -0.3900\n",
      "   • Best improvement: +0.1606\n",
      "   • Worst regression: -0.7996\n",
      "\n",
      "2. EXPLORATION STATISTICS:\n",
      "   • Total scaffolds tested: 110\n",
      "   • Maximum generation depth: 6\n",
      "   • Most explored root: Root 5 (28 scaffolds)\n",
      "   • Best scaffold from most explored root: 5-1-2-0 (score: 0.7996)\n",
      "\n",
      "3. PERFORMANCE BY GENERATION:\n",
      "   • Generation 0: 20 scaffolds, mean score 0.2756, best 0.7214\n",
      "   • Generation 1: 38 scaffolds, mean score 0.2340, best 0.7839\n",
      "   • Generation 2: 24 scaffolds, mean score 0.1827, best 0.7758\n",
      "   • Generation 3: 14 scaffolds, mean score 0.4003, best 0.7996\n",
      "   • Generation 4: 11 scaffolds, mean score 0.3360, best 0.7485\n",
      "   • Generation 5: 2 scaffolds, mean score 0.4019, best 0.7559\n",
      "   • Generation 6: 1 scaffolds, mean score 0.0000, best 0.0000\n",
      "\n",
      "4. ROOT SCAFFOLD RANKINGS:\n",
      "      Descendants  Avg_Score  Best_Score  Max_Gen\n",
      "root                                             \n",
      "5              28     0.3727      0.7996        6\n",
      "1              11     0.2577      0.7839        2\n",
      "13             12     0.2417      0.7214        2\n",
      "12             14     0.3816      0.6887        4\n",
      "8              17     0.2231      0.6487        3\n",
      "6               7     0.2248      0.5615        2\n",
      "11              5     0.1097      0.5462        1\n",
      "10              2     0.2434      0.4868        1\n",
      "4               2     0.2048      0.3646        1\n",
      "0               2     0.0901      0.1791        1\n",
      "\n",
      "5. KEY INSIGHTS:\n",
      "   • Evolution shows mixed results (negative average improvement)\n",
      "   • Performance doesn't consistently improve with generation depth\n",
      "   • Best overall scaffold: 5-1-2-0 (score: 0.7996, generation: 3)\n",
      "   • Algorithm focused on root 5 which was not the most promising initially\n"
     ]
    }
   ],
   "source": [
    "# Summary insights\n",
    "print(\"=\" * 60)\n",
    "print(\"SCAFFOLD EVOLUTION ANALYSIS SUMMARY\")\n",
    "print(\"=\" * 60)\n",
    "\n",
    "print(\"\\n1. OVERALL EVOLUTION EFFECTIVENESS:\")\n",
    "success_rate = (pc_df['improvement'] > 0).mean() * 100\n",
    "print(f\"   • Evolution success rate: {success_rate:.1f}% of evolutions improved over parent\")\n",
    "print(f\"   • Average improvement per evolution: {pc_df['improvement'].mean():.4f}\")\n",
    "print(f\"   • Best improvement: +{pc_df['improvement'].max():.4f}\")\n",
    "print(f\"   • Worst regression: {pc_df['improvement'].min():.4f}\")\n",
    "\n",
    "print(\"\\n2. EXPLORATION STATISTICS:\")\n",
    "print(f\"   • Total scaffolds tested: {len(df)}\")\n",
    "print(f\"   • Maximum generation depth: {df['generation'].max()}\")\n",
    "print(f\"   • Most explored root: Root {df.groupby('root').size().idxmax()} ({df.groupby('root').size().max()} scaffolds)\")\n",
    "\n",
    "top_lineage = df[df['root'] == df.groupby('root').size().idxmax()].sort_values('mean_score', ascending=False).iloc[0]\n",
    "print(f\"   • Best scaffold from most explored root: {top_lineage['scaffold_id']} (score: {top_lineage['mean_score']:.4f})\")\n",
    "\n",
    "print(\"\\n3. PERFORMANCE BY GENERATION:\")\n",
    "for gen in sorted(df['generation'].unique()):\n",
    "    gen_df = df[df['generation'] == gen]\n",
    "    print(f\"   • Generation {gen}: {len(gen_df)} scaffolds, mean score {gen_df['mean_score'].mean():.4f}, best {gen_df['mean_score'].max():.4f}\")\n",
    "\n",
    "print(\"\\n4. ROOT SCAFFOLD RANKINGS:\")\n",
    "root_rankings = df.groupby('root').agg({\n",
    "    'mean_score': ['count', 'mean', 'max'],\n",
    "    'generation': 'max'\n",
    "}).round(4)\n",
    "root_rankings.columns = ['Descendants', 'Avg_Score', 'Best_Score', 'Max_Gen']\n",
    "root_rankings = root_rankings.sort_values('Best_Score', ascending=False)\n",
    "print(root_rankings.head(10))\n",
    "\n",
    "print(\"\\n5. KEY INSIGHTS:\")\n",
    "if pc_df['improvement'].mean() > 0:\n",
    "    print(f\"   • Evolution is generally effective (positive average improvement)\")\n",
    "else:\n",
    "    print(f\"   • Evolution shows mixed results (negative average improvement)\")\n",
    "\n",
    "if df.groupby('generation')['mean_score'].mean().is_monotonic_increasing:\n",
    "    print(f\"   • Later generations consistently perform better\")\n",
    "else:\n",
    "    print(f\"   • Performance doesn't consistently improve with generation depth\")\n",
    "\n",
    "best_scaffold = df.loc[df['mean_score'].idxmax()]\n",
    "print(f\"   • Best overall scaffold: {best_scaffold['scaffold_id']} (score: {best_scaffold['mean_score']:.4f}, generation: {best_scaffold['generation']})\")\n",
    "\n",
    "print(f\"   • Algorithm focused on root {df.groupby('root').size().idxmax()} which {'was' if df.groupby('root')['mean_score'].mean().idxmax() == df.groupby('root').size().idxmax() else 'was not'} the most promising initially\")"
   ]
  }
 ],
 "metadata": {
  "kernelspec": {
   "display_name": ".venv",
   "language": "python",
   "name": "python3"
  },
  "language_info": {
   "codemirror_mode": {
    "name": "ipython",
    "version": 3
   },
   "file_extension": ".py",
   "mimetype": "text/x-python",
   "name": "python",
   "nbconvert_exporter": "python",
   "pygments_lexer": "ipython3",
   "version": "3.10.17"
  }
 },
 "nbformat": 4,
 "nbformat_minor": 4
}
